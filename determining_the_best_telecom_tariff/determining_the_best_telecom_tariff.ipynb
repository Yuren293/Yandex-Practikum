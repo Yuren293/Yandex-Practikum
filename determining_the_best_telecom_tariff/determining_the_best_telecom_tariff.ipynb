{
 "cells": [
  {
   "cell_type": "markdown",
   "metadata": {},
   "source": [
    "## Определение перспективного тарифа для телеком компании"
   ]
  },
  {
   "cell_type": "markdown",
   "metadata": {},
   "source": [
    "### Описание проекта"
   ]
  },
  {
   "cell_type": "markdown",
   "metadata": {},
   "source": [
    "Вы аналитик компании «Мегалайн» — федерального оператора сотовой связи. Клиентам предлагают два тарифных плана: «Смарт» и «Ультра». Чтобы скорректировать рекламный бюджет, коммерческий департамент хочет понять, какой тариф приносит больше денег.\n",
    "Вам предстоит сделать предварительный анализ тарифов на небольшой выборке клиентов. В вашем распоряжении данные 500 пользователей «Мегалайна»: кто они, откуда, каким тарифом пользуются, сколько звонков и сообщений каждый отправил за 2018 год. Нужно проанализировать поведение клиентов и сделать вывод — какой тариф лучше."
   ]
  },
  {
   "cell_type": "markdown",
   "metadata": {},
   "source": [
    "### Описание трарифов"
   ]
  },
  {
   "cell_type": "markdown",
   "metadata": {},
   "source": [
    "##### Тариф «Смарт»\n",
    "Ежемесячная плата: 550 рублей  \n",
    "Включено 500 минут разговора, 50 сообщений и 15 Гб интернет-трафика  \n",
    "Стоимость услуг сверх тарифного пакета: \n",
    "минута разговора: 3 рубля («Мегалайн» всегда округляет вверх значения минут и мегабайтов. Если пользователь проговорил всего 1 секунду, в тарифе засчитывается целая минута.) \n",
    "сообщение: 3 рубля   \n",
    "1 Гб интернет-трафика: 200 рублей \n",
    "##### Тариф «Ультра»  \n",
    "Ежемесячная плата: 1950 рублей  \n",
    "Включено 3000 минут разговора, 1000 сообщений и 30 Гб интернет-трафика    \n",
    "Стоимость услуг сверх тарифного пакета:  \n",
    "минута разговора: 1 рубль  \n",
    "сообщение: 1 рубль  \n",
    "1 Гб интернет-трафика: 150 рублей  "
   ]
  },
  {
   "cell_type": "markdown",
   "metadata": {},
   "source": [
    "### План выполнения работы"
   ]
  },
  {
   "cell_type": "markdown",
   "metadata": {},
   "source": [
    "Шаг 1. Открыть файл с данными и изучить общую информацию   \n",
    "Шаг 2. Подготовить данные   \n",
    "Шаг 3. Проанализировать данные   \n",
    "Шаг 4. Проверить гипотезы   \n",
    "Шаг 5. Написать общий вывод  "
   ]
  },
  {
   "cell_type": "markdown",
   "metadata": {},
   "source": [
    "### Описание данных"
   ]
  },
  {
   "cell_type": "markdown",
   "metadata": {},
   "source": [
    "#### Таблица users"
   ]
  },
  {
   "cell_type": "markdown",
   "metadata": {},
   "source": [
    "user_id — уникальный идентификатор пользователя  \n",
    "first_name — имя пользователя  \n",
    "last_name — фамилия пользователя  \n",
    "age — возраст пользователя (годы)   \n",
    "reg_date — дата подключения тарифа (день, месяц, год)  \n",
    "churn_date — дата прекращения пользования тарифом (если значение пропущено, то тариф ещё действовал на момент выгрузки данных)  \n",
    "city — город проживания пользователя  \n",
    "tariff — название тарифного плана  "
   ]
  },
  {
   "cell_type": "markdown",
   "metadata": {},
   "source": [
    "#### Таблица calls \n",
    "  \n",
    "id — уникальный номер звонка  \n",
    "call_date — дата звонка  \n",
    "duration — длительность звонка в минутах  \n",
    "user_id — идентификатор пользователя, сделавшего звонок  "
   ]
  },
  {
   "cell_type": "markdown",
   "metadata": {},
   "source": [
    "#### Таблица messages\n",
    "\n",
    "id — уникальный номер сообщения  \n",
    "message_date — дата сообщения  \n",
    "user_id — идентификатор пользователя, отправившего сообщение   "
   ]
  },
  {
   "cell_type": "markdown",
   "metadata": {},
   "source": [
    "#### Таблица internet"
   ]
  },
  {
   "cell_type": "markdown",
   "metadata": {},
   "source": [
    "id — уникальный номер сессии  \n",
    "mb_used — объём потраченного за сессию интернет-трафика (в мегабайтах)  \n",
    "session_date — дата интернет-сессии  \n",
    "user_id — идентификатор пользователя  "
   ]
  },
  {
   "cell_type": "markdown",
   "metadata": {},
   "source": [
    "#### Таблица tariffs\n",
    "\n",
    "tariff_name — название тарифа  \n",
    "rub_monthly_fee — ежемесячная абонентская плата в рублях  \n",
    "minutes_included — количество минут разговора в месяц, включённых в абонентскую плату  \n",
    "messages_included — количество сообщений в месяц, включённых в абонентскую плату  \n",
    "mb_per_month_included — объём интернет-трафика, включённого в абонентскую плату (в мегабайтах)  \n",
    "rub_per_minute — стоимость минуты разговора сверх тарифного пакета (например, если в тарифе 100 минут разговора в месяц, то со 101 минуты будет взиматься плата)  \n",
    "rub_per_message — стоимость отправки сообщения сверх тарифного пакета   \n",
    "rub_per_gb — стоимость дополнительного гигабайта интернет-трафика сверх тарифного пакета (1 гигабайт = 1024 мегабайта)  "
   ]
  },
  {
   "cell_type": "markdown",
   "metadata": {},
   "source": [
    "### Шаг 1. Открыть  файл с данными и изучить общую информацию."
   ]
  },
  {
   "cell_type": "code",
   "execution_count": 2,
   "metadata": {},
   "outputs": [],
   "source": [
    "import pandas as pd "
   ]
  },
  {
   "cell_type": "code",
   "execution_count": 3,
   "metadata": {},
   "outputs": [],
   "source": [
    "users = pd.read_csv('/datasets/users.csv')\n"
   ]
  },
  {
   "cell_type": "code",
   "execution_count": 4,
   "metadata": {},
   "outputs": [
    {
     "data": {
      "text/html": [
       "<div>\n",
       "<style scoped>\n",
       "    .dataframe tbody tr th:only-of-type {\n",
       "        vertical-align: middle;\n",
       "    }\n",
       "\n",
       "    .dataframe tbody tr th {\n",
       "        vertical-align: top;\n",
       "    }\n",
       "\n",
       "    .dataframe thead th {\n",
       "        text-align: right;\n",
       "    }\n",
       "</style>\n",
       "<table border=\"1\" class=\"dataframe\">\n",
       "  <thead>\n",
       "    <tr style=\"text-align: right;\">\n",
       "      <th></th>\n",
       "      <th>user_id</th>\n",
       "      <th>age</th>\n",
       "      <th>churn_date</th>\n",
       "      <th>city</th>\n",
       "      <th>first_name</th>\n",
       "      <th>last_name</th>\n",
       "      <th>reg_date</th>\n",
       "      <th>tariff</th>\n",
       "    </tr>\n",
       "  </thead>\n",
       "  <tbody>\n",
       "    <tr>\n",
       "      <td>0</td>\n",
       "      <td>1000</td>\n",
       "      <td>52</td>\n",
       "      <td>NaN</td>\n",
       "      <td>Краснодар</td>\n",
       "      <td>Рафаил</td>\n",
       "      <td>Верещагин</td>\n",
       "      <td>2018-05-25</td>\n",
       "      <td>ultra</td>\n",
       "    </tr>\n",
       "    <tr>\n",
       "      <td>1</td>\n",
       "      <td>1001</td>\n",
       "      <td>41</td>\n",
       "      <td>NaN</td>\n",
       "      <td>Москва</td>\n",
       "      <td>Иван</td>\n",
       "      <td>Ежов</td>\n",
       "      <td>2018-11-01</td>\n",
       "      <td>smart</td>\n",
       "    </tr>\n",
       "    <tr>\n",
       "      <td>2</td>\n",
       "      <td>1002</td>\n",
       "      <td>59</td>\n",
       "      <td>NaN</td>\n",
       "      <td>Стерлитамак</td>\n",
       "      <td>Евгений</td>\n",
       "      <td>Абрамович</td>\n",
       "      <td>2018-06-17</td>\n",
       "      <td>smart</td>\n",
       "    </tr>\n",
       "    <tr>\n",
       "      <td>3</td>\n",
       "      <td>1003</td>\n",
       "      <td>23</td>\n",
       "      <td>NaN</td>\n",
       "      <td>Москва</td>\n",
       "      <td>Белла</td>\n",
       "      <td>Белякова</td>\n",
       "      <td>2018-08-17</td>\n",
       "      <td>ultra</td>\n",
       "    </tr>\n",
       "    <tr>\n",
       "      <td>4</td>\n",
       "      <td>1004</td>\n",
       "      <td>68</td>\n",
       "      <td>NaN</td>\n",
       "      <td>Новокузнецк</td>\n",
       "      <td>Татьяна</td>\n",
       "      <td>Авдеенко</td>\n",
       "      <td>2018-05-14</td>\n",
       "      <td>ultra</td>\n",
       "    </tr>\n",
       "  </tbody>\n",
       "</table>\n",
       "</div>"
      ],
      "text/plain": [
       "   user_id  age churn_date         city first_name  last_name    reg_date  \\\n",
       "0     1000   52        NaN    Краснодар     Рафаил  Верещагин  2018-05-25   \n",
       "1     1001   41        NaN       Москва       Иван       Ежов  2018-11-01   \n",
       "2     1002   59        NaN  Стерлитамак    Евгений  Абрамович  2018-06-17   \n",
       "3     1003   23        NaN       Москва      Белла   Белякова  2018-08-17   \n",
       "4     1004   68        NaN  Новокузнецк    Татьяна   Авдеенко  2018-05-14   \n",
       "\n",
       "  tariff  \n",
       "0  ultra  \n",
       "1  smart  \n",
       "2  smart  \n",
       "3  ultra  \n",
       "4  ultra  "
      ]
     },
     "execution_count": 4,
     "metadata": {},
     "output_type": "execute_result"
    }
   ],
   "source": [
    "users.head(5)"
   ]
  },
  {
   "cell_type": "code",
   "execution_count": 5,
   "metadata": {
    "scrolled": true
   },
   "outputs": [
    {
     "name": "stdout",
     "output_type": "stream",
     "text": [
      "<class 'pandas.core.frame.DataFrame'>\n",
      "RangeIndex: 500 entries, 0 to 499\n",
      "Data columns (total 8 columns):\n",
      "user_id       500 non-null int64\n",
      "age           500 non-null int64\n",
      "churn_date    38 non-null object\n",
      "city          500 non-null object\n",
      "first_name    500 non-null object\n",
      "last_name     500 non-null object\n",
      "reg_date      500 non-null object\n",
      "tariff        500 non-null object\n",
      "dtypes: int64(2), object(6)\n",
      "memory usage: 31.4+ KB\n"
     ]
    }
   ],
   "source": [
    "users.info()"
   ]
  },
  {
   "cell_type": "markdown",
   "metadata": {},
   "source": [
    "##### Замечания \n",
    "1. столбец reg_date лучше перевети в тип datetime\n",
    "2. в churn_date избавиться от пропусков "
   ]
  },
  {
   "cell_type": "code",
   "execution_count": 6,
   "metadata": {},
   "outputs": [],
   "source": [
    "calls = pd.read_csv('/datasets/calls.csv')"
   ]
  },
  {
   "cell_type": "code",
   "execution_count": 7,
   "metadata": {
    "scrolled": true
   },
   "outputs": [
    {
     "data": {
      "text/html": [
       "<div>\n",
       "<style scoped>\n",
       "    .dataframe tbody tr th:only-of-type {\n",
       "        vertical-align: middle;\n",
       "    }\n",
       "\n",
       "    .dataframe tbody tr th {\n",
       "        vertical-align: top;\n",
       "    }\n",
       "\n",
       "    .dataframe thead th {\n",
       "        text-align: right;\n",
       "    }\n",
       "</style>\n",
       "<table border=\"1\" class=\"dataframe\">\n",
       "  <thead>\n",
       "    <tr style=\"text-align: right;\">\n",
       "      <th></th>\n",
       "      <th>id</th>\n",
       "      <th>call_date</th>\n",
       "      <th>duration</th>\n",
       "      <th>user_id</th>\n",
       "    </tr>\n",
       "  </thead>\n",
       "  <tbody>\n",
       "    <tr>\n",
       "      <td>0</td>\n",
       "      <td>1000_0</td>\n",
       "      <td>2018-07-25</td>\n",
       "      <td>0.00</td>\n",
       "      <td>1000</td>\n",
       "    </tr>\n",
       "    <tr>\n",
       "      <td>1</td>\n",
       "      <td>1000_1</td>\n",
       "      <td>2018-08-17</td>\n",
       "      <td>0.00</td>\n",
       "      <td>1000</td>\n",
       "    </tr>\n",
       "    <tr>\n",
       "      <td>2</td>\n",
       "      <td>1000_2</td>\n",
       "      <td>2018-06-11</td>\n",
       "      <td>2.85</td>\n",
       "      <td>1000</td>\n",
       "    </tr>\n",
       "    <tr>\n",
       "      <td>3</td>\n",
       "      <td>1000_3</td>\n",
       "      <td>2018-09-21</td>\n",
       "      <td>13.80</td>\n",
       "      <td>1000</td>\n",
       "    </tr>\n",
       "    <tr>\n",
       "      <td>4</td>\n",
       "      <td>1000_4</td>\n",
       "      <td>2018-12-15</td>\n",
       "      <td>5.18</td>\n",
       "      <td>1000</td>\n",
       "    </tr>\n",
       "  </tbody>\n",
       "</table>\n",
       "</div>"
      ],
      "text/plain": [
       "       id   call_date  duration  user_id\n",
       "0  1000_0  2018-07-25      0.00     1000\n",
       "1  1000_1  2018-08-17      0.00     1000\n",
       "2  1000_2  2018-06-11      2.85     1000\n",
       "3  1000_3  2018-09-21     13.80     1000\n",
       "4  1000_4  2018-12-15      5.18     1000"
      ]
     },
     "execution_count": 7,
     "metadata": {},
     "output_type": "execute_result"
    }
   ],
   "source": [
    "calls.head(5)"
   ]
  },
  {
   "cell_type": "code",
   "execution_count": 8,
   "metadata": {},
   "outputs": [
    {
     "name": "stdout",
     "output_type": "stream",
     "text": [
      "<class 'pandas.core.frame.DataFrame'>\n",
      "RangeIndex: 202607 entries, 0 to 202606\n",
      "Data columns (total 4 columns):\n",
      "id           202607 non-null object\n",
      "call_date    202607 non-null object\n",
      "duration     202607 non-null float64\n",
      "user_id      202607 non-null int64\n",
      "dtypes: float64(1), int64(1), object(2)\n",
      "memory usage: 6.2+ MB\n"
     ]
    }
   ],
   "source": [
    "calls.info()"
   ]
  },
  {
   "cell_type": "markdown",
   "metadata": {},
   "source": [
    "##### Замечания \n",
    "1. возможно в будущем стоит поменять тип столбца id\n",
    "2. call_date лучше перевести в тип datetime\n",
    "3. duration стоит округлить вверх согласно политике компании, а также перевести в int т.к. значения \n",
    "посе округления будут целочисленными \n"
   ]
  },
  {
   "cell_type": "code",
   "execution_count": 9,
   "metadata": {},
   "outputs": [],
   "source": [
    "messages = pd.read_csv('/datasets/messages.csv')"
   ]
  },
  {
   "cell_type": "code",
   "execution_count": 10,
   "metadata": {},
   "outputs": [
    {
     "data": {
      "text/html": [
       "<div>\n",
       "<style scoped>\n",
       "    .dataframe tbody tr th:only-of-type {\n",
       "        vertical-align: middle;\n",
       "    }\n",
       "\n",
       "    .dataframe tbody tr th {\n",
       "        vertical-align: top;\n",
       "    }\n",
       "\n",
       "    .dataframe thead th {\n",
       "        text-align: right;\n",
       "    }\n",
       "</style>\n",
       "<table border=\"1\" class=\"dataframe\">\n",
       "  <thead>\n",
       "    <tr style=\"text-align: right;\">\n",
       "      <th></th>\n",
       "      <th>id</th>\n",
       "      <th>message_date</th>\n",
       "      <th>user_id</th>\n",
       "    </tr>\n",
       "  </thead>\n",
       "  <tbody>\n",
       "    <tr>\n",
       "      <td>0</td>\n",
       "      <td>1000_0</td>\n",
       "      <td>2018-06-27</td>\n",
       "      <td>1000</td>\n",
       "    </tr>\n",
       "    <tr>\n",
       "      <td>1</td>\n",
       "      <td>1000_1</td>\n",
       "      <td>2018-10-08</td>\n",
       "      <td>1000</td>\n",
       "    </tr>\n",
       "    <tr>\n",
       "      <td>2</td>\n",
       "      <td>1000_2</td>\n",
       "      <td>2018-08-04</td>\n",
       "      <td>1000</td>\n",
       "    </tr>\n",
       "    <tr>\n",
       "      <td>3</td>\n",
       "      <td>1000_3</td>\n",
       "      <td>2018-06-16</td>\n",
       "      <td>1000</td>\n",
       "    </tr>\n",
       "    <tr>\n",
       "      <td>4</td>\n",
       "      <td>1000_4</td>\n",
       "      <td>2018-12-05</td>\n",
       "      <td>1000</td>\n",
       "    </tr>\n",
       "  </tbody>\n",
       "</table>\n",
       "</div>"
      ],
      "text/plain": [
       "       id message_date  user_id\n",
       "0  1000_0   2018-06-27     1000\n",
       "1  1000_1   2018-10-08     1000\n",
       "2  1000_2   2018-08-04     1000\n",
       "3  1000_3   2018-06-16     1000\n",
       "4  1000_4   2018-12-05     1000"
      ]
     },
     "execution_count": 10,
     "metadata": {},
     "output_type": "execute_result"
    }
   ],
   "source": [
    "messages.head(5)"
   ]
  },
  {
   "cell_type": "code",
   "execution_count": 11,
   "metadata": {},
   "outputs": [
    {
     "name": "stdout",
     "output_type": "stream",
     "text": [
      "<class 'pandas.core.frame.DataFrame'>\n",
      "RangeIndex: 123036 entries, 0 to 123035\n",
      "Data columns (total 3 columns):\n",
      "id              123036 non-null object\n",
      "message_date    123036 non-null object\n",
      "user_id         123036 non-null int64\n",
      "dtypes: int64(1), object(2)\n",
      "memory usage: 2.8+ MB\n"
     ]
    }
   ],
   "source": [
    "messages.info()"
   ]
  },
  {
   "cell_type": "code",
   "execution_count": 12,
   "metadata": {},
   "outputs": [],
   "source": [
    "internet = pd.read_csv('/datasets/internet.csv')"
   ]
  },
  {
   "cell_type": "code",
   "execution_count": 13,
   "metadata": {},
   "outputs": [
    {
     "data": {
      "text/html": [
       "<div>\n",
       "<style scoped>\n",
       "    .dataframe tbody tr th:only-of-type {\n",
       "        vertical-align: middle;\n",
       "    }\n",
       "\n",
       "    .dataframe tbody tr th {\n",
       "        vertical-align: top;\n",
       "    }\n",
       "\n",
       "    .dataframe thead th {\n",
       "        text-align: right;\n",
       "    }\n",
       "</style>\n",
       "<table border=\"1\" class=\"dataframe\">\n",
       "  <thead>\n",
       "    <tr style=\"text-align: right;\">\n",
       "      <th></th>\n",
       "      <th>id</th>\n",
       "      <th>mb_used</th>\n",
       "      <th>session_date</th>\n",
       "      <th>user_id</th>\n",
       "    </tr>\n",
       "  </thead>\n",
       "  <tbody>\n",
       "    <tr>\n",
       "      <td>0</td>\n",
       "      <td>1000_0</td>\n",
       "      <td>112.95</td>\n",
       "      <td>2018-11-25</td>\n",
       "      <td>1000</td>\n",
       "    </tr>\n",
       "    <tr>\n",
       "      <td>1</td>\n",
       "      <td>1000_1</td>\n",
       "      <td>1052.81</td>\n",
       "      <td>2018-09-07</td>\n",
       "      <td>1000</td>\n",
       "    </tr>\n",
       "    <tr>\n",
       "      <td>2</td>\n",
       "      <td>1000_2</td>\n",
       "      <td>1197.26</td>\n",
       "      <td>2018-06-25</td>\n",
       "      <td>1000</td>\n",
       "    </tr>\n",
       "    <tr>\n",
       "      <td>3</td>\n",
       "      <td>1000_3</td>\n",
       "      <td>550.27</td>\n",
       "      <td>2018-08-22</td>\n",
       "      <td>1000</td>\n",
       "    </tr>\n",
       "    <tr>\n",
       "      <td>4</td>\n",
       "      <td>1000_4</td>\n",
       "      <td>302.56</td>\n",
       "      <td>2018-09-24</td>\n",
       "      <td>1000</td>\n",
       "    </tr>\n",
       "  </tbody>\n",
       "</table>\n",
       "</div>"
      ],
      "text/plain": [
       "       id  mb_used session_date  user_id\n",
       "0  1000_0   112.95   2018-11-25     1000\n",
       "1  1000_1  1052.81   2018-09-07     1000\n",
       "2  1000_2  1197.26   2018-06-25     1000\n",
       "3  1000_3   550.27   2018-08-22     1000\n",
       "4  1000_4   302.56   2018-09-24     1000"
      ]
     },
     "execution_count": 13,
     "metadata": {},
     "output_type": "execute_result"
    }
   ],
   "source": [
    "internet.head(5)"
   ]
  },
  {
   "cell_type": "code",
   "execution_count": 14,
   "metadata": {},
   "outputs": [
    {
     "name": "stdout",
     "output_type": "stream",
     "text": [
      "<class 'pandas.core.frame.DataFrame'>\n",
      "RangeIndex: 149396 entries, 0 to 149395\n",
      "Data columns (total 4 columns):\n",
      "id              149396 non-null object\n",
      "mb_used         149396 non-null float64\n",
      "session_date    149396 non-null object\n",
      "user_id         149396 non-null int64\n",
      "dtypes: float64(1), int64(1), object(2)\n",
      "memory usage: 4.6+ MB\n"
     ]
    }
   ],
   "source": [
    "internet.info()"
   ]
  },
  {
   "cell_type": "code",
   "execution_count": 15,
   "metadata": {},
   "outputs": [],
   "source": [
    "tariffs = pd.read_csv('/datasets/tariffs.csv')"
   ]
  },
  {
   "cell_type": "code",
   "execution_count": 16,
   "metadata": {
    "scrolled": true
   },
   "outputs": [
    {
     "data": {
      "text/html": [
       "<div>\n",
       "<style scoped>\n",
       "    .dataframe tbody tr th:only-of-type {\n",
       "        vertical-align: middle;\n",
       "    }\n",
       "\n",
       "    .dataframe tbody tr th {\n",
       "        vertical-align: top;\n",
       "    }\n",
       "\n",
       "    .dataframe thead th {\n",
       "        text-align: right;\n",
       "    }\n",
       "</style>\n",
       "<table border=\"1\" class=\"dataframe\">\n",
       "  <thead>\n",
       "    <tr style=\"text-align: right;\">\n",
       "      <th></th>\n",
       "      <th>messages_included</th>\n",
       "      <th>mg_per_month_included</th>\n",
       "      <th>minutes_included</th>\n",
       "      <th>rub_monthly_fee</th>\n",
       "      <th>rub_per_gb</th>\n",
       "      <th>rub_per_message</th>\n",
       "      <th>rub_per_minute</th>\n",
       "      <th>tariff_name</th>\n",
       "    </tr>\n",
       "  </thead>\n",
       "  <tbody>\n",
       "    <tr>\n",
       "      <td>0</td>\n",
       "      <td>50</td>\n",
       "      <td>15360</td>\n",
       "      <td>500</td>\n",
       "      <td>550</td>\n",
       "      <td>200</td>\n",
       "      <td>3</td>\n",
       "      <td>3</td>\n",
       "      <td>smart</td>\n",
       "    </tr>\n",
       "    <tr>\n",
       "      <td>1</td>\n",
       "      <td>1000</td>\n",
       "      <td>30720</td>\n",
       "      <td>3000</td>\n",
       "      <td>1950</td>\n",
       "      <td>150</td>\n",
       "      <td>1</td>\n",
       "      <td>1</td>\n",
       "      <td>ultra</td>\n",
       "    </tr>\n",
       "  </tbody>\n",
       "</table>\n",
       "</div>"
      ],
      "text/plain": [
       "   messages_included  mg_per_month_included  minutes_included  \\\n",
       "0                 50                  15360               500   \n",
       "1               1000                  30720              3000   \n",
       "\n",
       "   rub_monthly_fee  rub_per_gb  rub_per_message  rub_per_minute tariff_name  \n",
       "0              550         200                3               3       smart  \n",
       "1             1950         150                1               1       ultra  "
      ]
     },
     "execution_count": 16,
     "metadata": {},
     "output_type": "execute_result"
    }
   ],
   "source": [
    "tariffs.head(5)"
   ]
  },
  {
   "cell_type": "code",
   "execution_count": 17,
   "metadata": {},
   "outputs": [
    {
     "name": "stdout",
     "output_type": "stream",
     "text": [
      "<class 'pandas.core.frame.DataFrame'>\n",
      "RangeIndex: 2 entries, 0 to 1\n",
      "Data columns (total 8 columns):\n",
      "messages_included        2 non-null int64\n",
      "mg_per_month_included    2 non-null int64\n",
      "minutes_included         2 non-null int64\n",
      "rub_monthly_fee          2 non-null int64\n",
      "rub_per_gb               2 non-null int64\n",
      "rub_per_message          2 non-null int64\n",
      "rub_per_minute           2 non-null int64\n",
      "tariff_name              2 non-null object\n",
      "dtypes: int64(7), object(1)\n",
      "memory usage: 256.0+ bytes\n"
     ]
    }
   ],
   "source": [
    "tariffs.info()"
   ]
  },
  {
   "cell_type": "markdown",
   "metadata": {},
   "source": [
    "### Вывод "
   ]
  },
  {
   "cell_type": "markdown",
   "metadata": {},
   "source": [
    "### Шаг 2. Подготовить данные"
   ]
  },
  {
   "cell_type": "markdown",
   "metadata": {},
   "source": [
    "#### 1. Замена пропусков "
   ]
  },
  {
   "cell_type": "code",
   "execution_count": 18,
   "metadata": {},
   "outputs": [],
   "source": [
    "users['churn_date'] = users['churn_date'].fillna(0) # заменим пропуски на 0, пожалуй они не введут \n",
    "                                                    # в заблуждение в дальнейшем"
   ]
  },
  {
   "cell_type": "code",
   "execution_count": 19,
   "metadata": {},
   "outputs": [
    {
     "name": "stdout",
     "output_type": "stream",
     "text": [
      "<class 'pandas.core.frame.DataFrame'>\n",
      "RangeIndex: 500 entries, 0 to 499\n",
      "Data columns (total 8 columns):\n",
      "user_id       500 non-null int64\n",
      "age           500 non-null int64\n",
      "churn_date    500 non-null object\n",
      "city          500 non-null object\n",
      "first_name    500 non-null object\n",
      "last_name     500 non-null object\n",
      "reg_date      500 non-null object\n",
      "tariff        500 non-null object\n",
      "dtypes: int64(2), object(6)\n",
      "memory usage: 31.4+ KB\n"
     ]
    }
   ],
   "source": [
    "users.info() # убедимся, что пропусков не осталось"
   ]
  },
  {
   "cell_type": "markdown",
   "metadata": {},
   "source": [
    "#### 2. Приведение данных к нужным типам"
   ]
  },
  {
   "cell_type": "code",
   "execution_count": 20,
   "metadata": {},
   "outputs": [],
   "source": [
    "# для таблицы users\n",
    "users['reg_date'] = pd.to_datetime(users['reg_date'], format = '%Y-%m-%d') \n",
    "users['churn_date'] = pd.to_datetime(users['churn_date'], format = '%Y-%m-%d')"
   ]
  },
  {
   "cell_type": "code",
   "execution_count": 21,
   "metadata": {},
   "outputs": [
    {
     "name": "stdout",
     "output_type": "stream",
     "text": [
      "<class 'pandas.core.frame.DataFrame'>\n",
      "RangeIndex: 500 entries, 0 to 499\n",
      "Data columns (total 8 columns):\n",
      "user_id       500 non-null int64\n",
      "age           500 non-null int64\n",
      "churn_date    500 non-null datetime64[ns]\n",
      "city          500 non-null object\n",
      "first_name    500 non-null object\n",
      "last_name     500 non-null object\n",
      "reg_date      500 non-null datetime64[ns]\n",
      "tariff        500 non-null object\n",
      "dtypes: datetime64[ns](2), int64(2), object(4)\n",
      "memory usage: 31.4+ KB\n"
     ]
    }
   ],
   "source": [
    "users.info()"
   ]
  },
  {
   "cell_type": "code",
   "execution_count": 22,
   "metadata": {},
   "outputs": [],
   "source": [
    "# для таблицы calls\n",
    "calls['call_date'] = pd.to_datetime(calls['call_date'], format = '%Y-%m-%d') "
   ]
  },
  {
   "cell_type": "code",
   "execution_count": 23,
   "metadata": {},
   "outputs": [
    {
     "name": "stdout",
     "output_type": "stream",
     "text": [
      "<class 'pandas.core.frame.DataFrame'>\n",
      "RangeIndex: 202607 entries, 0 to 202606\n",
      "Data columns (total 4 columns):\n",
      "id           202607 non-null object\n",
      "call_date    202607 non-null datetime64[ns]\n",
      "duration     202607 non-null float64\n",
      "user_id      202607 non-null int64\n",
      "dtypes: datetime64[ns](1), float64(1), int64(1), object(1)\n",
      "memory usage: 6.2+ MB\n"
     ]
    }
   ],
   "source": [
    "calls.info()"
   ]
  },
  {
   "cell_type": "code",
   "execution_count": 24,
   "metadata": {},
   "outputs": [],
   "source": [
    "# для таблицы messages\n",
    "messages['message_date'] = pd.to_datetime(messages['message_date'], format = '%Y-%m-%d') "
   ]
  },
  {
   "cell_type": "code",
   "execution_count": 25,
   "metadata": {
    "scrolled": true
   },
   "outputs": [
    {
     "name": "stdout",
     "output_type": "stream",
     "text": [
      "<class 'pandas.core.frame.DataFrame'>\n",
      "RangeIndex: 123036 entries, 0 to 123035\n",
      "Data columns (total 3 columns):\n",
      "id              123036 non-null object\n",
      "message_date    123036 non-null datetime64[ns]\n",
      "user_id         123036 non-null int64\n",
      "dtypes: datetime64[ns](1), int64(1), object(1)\n",
      "memory usage: 2.8+ MB\n"
     ]
    }
   ],
   "source": [
    "messages.info()"
   ]
  },
  {
   "cell_type": "code",
   "execution_count": 26,
   "metadata": {},
   "outputs": [],
   "source": [
    "# для таблицы internet \n",
    "internet['session_date'] = pd.to_datetime(internet['session_date'], format = '%Y-%m-%d') \n"
   ]
  },
  {
   "cell_type": "code",
   "execution_count": 27,
   "metadata": {},
   "outputs": [
    {
     "name": "stdout",
     "output_type": "stream",
     "text": [
      "<class 'pandas.core.frame.DataFrame'>\n",
      "RangeIndex: 149396 entries, 0 to 149395\n",
      "Data columns (total 4 columns):\n",
      "id              149396 non-null object\n",
      "mb_used         149396 non-null float64\n",
      "session_date    149396 non-null datetime64[ns]\n",
      "user_id         149396 non-null int64\n",
      "dtypes: datetime64[ns](1), float64(1), int64(1), object(1)\n",
      "memory usage: 4.6+ MB\n"
     ]
    }
   ],
   "source": [
    "internet.info()"
   ]
  },
  {
   "cell_type": "markdown",
   "metadata": {},
   "source": [
    "#### 3. Исправление ошибок в данных"
   ]
  },
  {
   "cell_type": "markdown",
   "metadata": {},
   "source": [
    "##### таблица users "
   ]
  },
  {
   "cell_type": "code",
   "execution_count": 28,
   "metadata": {},
   "outputs": [
    {
     "name": "stdout",
     "output_type": "stream",
     "text": [
      "user_id\n",
      "[1000 1001 1002 1003 1004 1005 1006 1007 1008 1009 1010 1011 1012 1013\n",
      " 1014 1015 1016 1017 1018 1019 1020 1021 1022 1023 1024 1025 1026 1027\n",
      " 1028 1029 1030 1031 1032 1033 1034 1035 1036 1037 1038 1039 1040 1041\n",
      " 1042 1043 1044 1045 1046 1047 1048 1049 1050 1051 1052 1053 1054 1055\n",
      " 1056 1057 1058 1059 1060 1061 1062 1063 1064 1065 1066 1067 1068 1069\n",
      " 1070 1071 1072 1073 1074 1075 1076 1077 1078 1079 1080 1081 1082 1083\n",
      " 1084 1085 1086 1087 1088 1089 1090 1091 1092 1093 1094 1095 1096 1097\n",
      " 1098 1099 1100 1101 1102 1103 1104 1105 1106 1107 1108 1109 1110 1111\n",
      " 1112 1113 1114 1115 1116 1117 1118 1119 1120 1121 1122 1123 1124 1125\n",
      " 1126 1127 1128 1129 1130 1131 1132 1133 1134 1135 1136 1137 1138 1139\n",
      " 1140 1141 1142 1143 1144 1145 1146 1147 1148 1149 1150 1151 1152 1153\n",
      " 1154 1155 1156 1157 1158 1159 1160 1161 1162 1163 1164 1165 1166 1167\n",
      " 1168 1169 1170 1171 1172 1173 1174 1175 1176 1177 1178 1179 1180 1181\n",
      " 1182 1183 1184 1185 1186 1187 1188 1189 1190 1191 1192 1193 1194 1195\n",
      " 1196 1197 1198 1199 1200 1201 1202 1203 1204 1205 1206 1207 1208 1209\n",
      " 1210 1211 1212 1213 1214 1215 1216 1217 1218 1219 1220 1221 1222 1223\n",
      " 1224 1225 1226 1227 1228 1229 1230 1231 1232 1233 1234 1235 1236 1237\n",
      " 1238 1239 1240 1241 1242 1243 1244 1245 1246 1247 1248 1249 1250 1251\n",
      " 1252 1253 1254 1255 1256 1257 1258 1259 1260 1261 1262 1263 1264 1265\n",
      " 1266 1267 1268 1269 1270 1271 1272 1273 1274 1275 1276 1277 1278 1279\n",
      " 1280 1281 1282 1283 1284 1285 1286 1287 1288 1289 1290 1291 1292 1293\n",
      " 1294 1295 1296 1297 1298 1299 1300 1301 1302 1303 1304 1305 1306 1307\n",
      " 1308 1309 1310 1311 1312 1313 1314 1315 1316 1317 1318 1319 1320 1321\n",
      " 1322 1323 1324 1325 1326 1327 1328 1329 1330 1331 1332 1333 1334 1335\n",
      " 1336 1337 1338 1339 1340 1341 1342 1343 1344 1345 1346 1347 1348 1349\n",
      " 1350 1351 1352 1353 1354 1355 1356 1357 1358 1359 1360 1361 1362 1363\n",
      " 1364 1365 1366 1367 1368 1369 1370 1371 1372 1373 1374 1375 1376 1377\n",
      " 1378 1379 1380 1381 1382 1383 1384 1385 1386 1387 1388 1389 1390 1391\n",
      " 1392 1393 1394 1395 1396 1397 1398 1399 1400 1401 1402 1403 1404 1405\n",
      " 1406 1407 1408 1409 1410 1411 1412 1413 1414 1415 1416 1417 1418 1419\n",
      " 1420 1421 1422 1423 1424 1425 1426 1427 1428 1429 1430 1431 1432 1433\n",
      " 1434 1435 1436 1437 1438 1439 1440 1441 1442 1443 1444 1445 1446 1447\n",
      " 1448 1449 1450 1451 1452 1453 1454 1455 1456 1457 1458 1459 1460 1461\n",
      " 1462 1463 1464 1465 1466 1467 1468 1469 1470 1471 1472 1473 1474 1475\n",
      " 1476 1477 1478 1479 1480 1481 1482 1483 1484 1485 1486 1487 1488 1489\n",
      " 1490 1491 1492 1493 1494 1495 1496 1497 1498 1499]\n",
      "\n",
      "age\n",
      "[52 41 59 23 68 67 21 65 63 24 26 44 38 36 64 58 73 71 61 72 42 56 32 62\n",
      " 20 51 28 66 31 37 47 40 69 48 33 39 43 46 45 55 53 34 49 25 18 70 50 19\n",
      " 54 60 29 27 74 22 30 75 57 35]\n",
      "\n",
      "churn_date\n",
      "['1970-01-01T00:00:00.000000000' '2018-10-05T00:00:00.000000000'\n",
      " '2018-12-18T00:00:00.000000000' '2018-11-21T00:00:00.000000000'\n",
      " '2018-10-03T00:00:00.000000000' '2018-10-14T00:00:00.000000000'\n",
      " '2018-12-09T00:00:00.000000000' '2018-12-11T00:00:00.000000000'\n",
      " '2018-12-26T00:00:00.000000000' '2018-08-31T00:00:00.000000000'\n",
      " '2018-12-03T00:00:00.000000000' '2018-12-23T00:00:00.000000000'\n",
      " '2018-11-07T00:00:00.000000000' '2018-12-16T00:00:00.000000000'\n",
      " '2018-12-20T00:00:00.000000000' '2018-11-30T00:00:00.000000000'\n",
      " '2018-12-21T00:00:00.000000000' '2018-08-17T00:00:00.000000000'\n",
      " '2018-09-02T00:00:00.000000000' '2018-10-04T00:00:00.000000000'\n",
      " '2018-11-13T00:00:00.000000000' '2018-11-22T00:00:00.000000000'\n",
      " '2018-10-28T00:00:00.000000000' '2018-11-26T00:00:00.000000000'\n",
      " '2018-11-27T00:00:00.000000000' '2018-11-16T00:00:00.000000000'\n",
      " '2018-10-27T00:00:00.000000000' '2018-12-30T00:00:00.000000000'\n",
      " '2018-09-27T00:00:00.000000000' '2018-12-25T00:00:00.000000000'\n",
      " '2018-12-14T00:00:00.000000000' '2018-12-24T00:00:00.000000000'\n",
      " '2018-09-26T00:00:00.000000000' '2018-10-25T00:00:00.000000000']\n",
      "\n",
      "city\n",
      "['Краснодар' 'Москва' 'Стерлитамак' 'Новокузнецк' 'Набережные Челны'\n",
      " 'Ульяновск' 'Челябинск' 'Пермь' 'Тюмень' 'Самара' 'Санкт-Петербург'\n",
      " 'Иваново' 'Чебоксары' 'Омск' 'Уфа' 'Томск' 'Чита' 'Мурманск'\n",
      " 'Петрозаводск' 'Тверь' 'Екатеринбург' 'Махачкала' 'Вологда' 'Череповец'\n",
      " 'Ярославль' 'Сочи' 'Хабаровск' 'Ставрополь' 'Рязань' 'Улан-Удэ' 'Тула'\n",
      " 'Саратов' 'Ростов-на-Дону' 'Казань' 'Иркутск' 'Курск' 'Калуга' 'Якутск'\n",
      " 'Астрахань' 'Химки' 'Владикавказ' 'Волгоград' 'Саранск' 'Ижевск'\n",
      " 'Новосибирск' 'Брянск' 'Тольятти' 'Нижний Тагил' 'Орёл' 'Белгород'\n",
      " 'Воронеж' 'Волжский' 'Курган' 'Барнаул' 'Красноярск' 'Архангельск'\n",
      " 'Липецк' 'Кемерово' 'Киров' 'Сургут' 'Пенза' 'Магнитогорск'\n",
      " 'Нижний Новгород' 'Кострома' 'Владивосток' 'Тамбов' 'Балашиха'\n",
      " 'Севастополь' 'Калининград' 'Оренбург' 'Смоленск' 'Нижневартовск'\n",
      " 'Владимир' 'Новороссийск' 'Грозный' 'Подольск']\n",
      "\n",
      "first_name\n",
      "['Рафаил' 'Иван' 'Евгений' 'Белла' 'Татьяна' 'Афанасий' 'Леонид' 'Юна'\n",
      " 'Рустэм' 'Василиса' 'Эдуард' 'Веселина' 'Варлам' 'Борис' 'Яков' 'Рузана'\n",
      " 'Марица' 'Мария' 'Матвей' 'Игнатий' 'Тала' 'Святослав' 'Людмила' 'Иулиан'\n",
      " 'Владислав' 'Рустем' 'Алексей' 'Мариетта' 'Лаврентий' 'Инна' 'Лия'\n",
      " 'Розалия' 'Анжелика' 'Изольда' 'Агнесса' 'Юрий' 'Михаил' 'Константин'\n",
      " 'Марианна' 'Иннокентий' 'Джемма' 'Екатерина' 'Милица' 'Лола' 'Габриель'\n",
      " 'Кристина' 'Павел' 'Ренальд' 'Луиза' 'Радислав' 'Динара' 'Лукий' 'Глеб'\n",
      " 'Тамара' 'Александр' 'Таира' 'Роза' 'Исак' 'Юзефа' 'Ким' 'Гордей' 'Эльза'\n",
      " 'Гектор' 'Андрей' 'Рафаэль' 'Фёдор' 'Харитон' 'Еремей' 'Всеволод' 'Софья'\n",
      " 'Авксентий' 'Виолетта' 'Ириней' 'Гелена' 'Ксения' 'Вера' 'Вениамин'\n",
      " 'Вероника' 'Даниэла' 'Алла' 'Элеонора' 'Аюна' 'Руслан' 'Онисим' 'Марта'\n",
      " 'Эльвира' 'Габриэль' 'Исаак' 'Милана' 'Арнольд' 'Маргарита' 'Рашид'\n",
      " 'Альберта' 'Дана' 'Олег' 'Альбин' 'Сабина' 'Яна' 'Анвар' 'Инара' 'Нина'\n",
      " 'Надежда' 'Марьяна' 'Милена' 'Пётр' 'Леся' 'Светлана' 'Клариса' 'Симона'\n",
      " 'Арсен' 'Ефим' 'Юлий' 'Владимир' 'Евдокия' 'Алиса' 'Майя' 'Лариса'\n",
      " 'Марина' 'Валерий' 'Виктория' 'Игорь' 'Эльга' 'Лев' 'Геральд' 'Клавдия'\n",
      " 'Лилия' 'Георгина' 'Вадим' 'Каролина' 'Алан' 'Агафья' 'Лолита' 'Радим'\n",
      " 'Наталья' 'Рем' 'Снежана' 'Мануэла' 'Рэм' 'Виталий' 'Рауль' 'Степан'\n",
      " 'Егор' 'Демьян' 'Агата' 'Геннадий' 'Адам' 'Мирослава' 'Елена' 'Ева'\n",
      " 'Евфросинья' 'Арина' 'Гайдар' 'Артемий' 'Рустам' 'Ермолай' 'Кузьма'\n",
      " 'Рубен' 'Ахмет' 'Раиса' 'Денис' 'Нелли' 'Касьян' 'Сара' 'Роксана' 'Леон'\n",
      " 'Алина' 'Даниил' 'Зинаида' 'Артём' 'Анатолий' 'Лейла' 'Александра'\n",
      " 'Серафима' 'Алевтина' 'Эмилия' 'Мадина' 'Антонина' 'Саида' 'Трофим'\n",
      " 'Аким' 'Мальвина' 'Аурелия' 'Мстислав' 'Аксён' 'Семён' 'Валерия'\n",
      " 'Григорий' 'Таисия' 'Арсений' 'Эдита' 'Дебора' 'Олеся' 'Альфред' 'Тихон'\n",
      " 'Наида' 'Илья' 'Инесса' 'Юлия' 'Рудольф' 'Максим' 'Инга' 'Эсмеральда'\n",
      " 'Дайна' 'Джозефина' 'Тимофей' 'Виктор' 'Валентина' 'Анита' 'Илзе'\n",
      " 'Галина' 'Варвара' 'Анфиса' 'Доминика' 'Лаура' 'Рената' 'Оксана'\n",
      " 'Георгий' 'Лидия' 'Евгения' 'Фаддей' 'Герасим' 'Радомир' 'Ренат'\n",
      " 'Владислава' 'Роберт' 'Элина' 'Станислав' 'Элла' 'Гарри' 'Берта' 'Геодар'\n",
      " 'Эльмира' 'Клара' 'Камилла' 'Джулия' 'Карина' 'Нателла' 'Леонтий'\n",
      " 'Ростислав' 'Ангелина' 'Алёна' 'Ринат' 'Эллада' 'Николай' 'Руслана'\n",
      " 'Трифон']\n",
      "\n",
      "last_name\n",
      "['Верещагин' 'Ежов' 'Абрамович' 'Белякова' 'Авдеенко' 'Горлов' 'Ермолаев'\n",
      " 'Березина' 'Пономарёв' 'Блинова' 'Кононов' 'Алёшко' 'Соловьев'\n",
      " 'Андреенко' 'Акинфьев' 'Алюшина' 'Сазонова' 'Аленникова' 'Золотов'\n",
      " 'Круглов' 'Костина' 'Тихонов' 'Трофимова' 'Мельникова' 'Антипов' 'Акинин'\n",
      " 'Бородин' 'Авдеев' 'Евсеев' 'Селезнев' 'Русанова' 'Тимофеев' 'Игнатьева'\n",
      " 'Бабушкина' 'Бондарев' 'Аракина' 'Андропова' 'Архипова' 'Денисова'\n",
      " 'Одинцов' 'Кравцов' 'Добрынин' 'Родионова' 'Рябов' 'Карасева'\n",
      " 'Александрова' 'Меркулова' 'Мясникова' 'Ларин' 'Аничкина' 'Сомова'\n",
      " 'Панов' 'Фёдоров' 'Платонова' 'Артемьев' 'Дьячкова' 'Глушков' 'Свиридов'\n",
      " 'Рудаков' 'Ситникова' 'Коршунов' 'Климова' 'Алфеева' 'Игнатова' 'Малахов'\n",
      " 'Абашкина' 'Демьянов' 'Кочетов' 'Селиванова' 'Чумаков' 'Андрейкин'\n",
      " 'Павловский' 'Никулин' 'Шарапов' 'Кольцова' 'Литвинов' 'Авроров'\n",
      " 'Игнатьев' 'Терехова' 'Малышев' 'Галкин' 'Спиридонова' 'Дорофеева'\n",
      " 'Аксёнов' 'Абалакова' 'Нечаева' 'Астафьева' 'Суслова' 'Амельченко'\n",
      " 'Лапина' 'Пугачева' 'Кабанова' 'Кулешова' 'Озерова' 'Сергеева'\n",
      " 'Красильников' 'Колобов' 'Королькова' 'Лобанова' 'Поляков' 'Рыбакова'\n",
      " 'Костин' 'Воронин' 'Болдырев' 'Андрющенко' 'Александрович' 'Макарова'\n",
      " 'Казанцев' 'Булгаков' 'Колесова' 'Толкачев' 'Шевцова' 'Латышева'\n",
      " 'Сухарев' 'Абдулина' 'Афанасова' 'Устинов' 'Андрианов' 'Арсенкова'\n",
      " 'Ильина' 'Агаева' 'Морозов' 'Крюкова' 'Афонасьева' 'Алехина' 'Аникина'\n",
      " 'Авросимова' 'Воронина' 'Левин' 'Артёшин' 'Ерофеева' 'Корнеева'\n",
      " 'Ахматулин' 'Короткова' 'Алешкова' 'Покровский' 'Ефремов' 'Алешин'\n",
      " 'Никонов' 'Синицын' 'Киреева' 'Алексеенко' 'Муравьева' 'Молчанова'\n",
      " 'Щербакова' 'Одинцова' 'Тихомирова' 'Чернов' 'Белоусова' 'Андрейчук'\n",
      " 'Авдонюшкин' 'Голованова' 'Минаева' 'Вишневский' 'Лебедев' 'Медведев'\n",
      " 'Жданов' 'Ананьева' 'Карташова' 'Козлов' 'Иванова' 'Карасев' 'Григорьева'\n",
      " 'Розанова' 'Марков' 'Куприянов' 'Жарова' 'Астапенко' 'Мишин' 'Аврорин'\n",
      " 'Агаев' 'Тарасова' 'Родина' 'Абакумов' 'Овчинников' 'Соколов' 'Зубкова'\n",
      " 'Абоимов' 'Акиндинов' 'Мальцев' 'Безруков' 'Наумов' 'Петухова' 'Чернышев'\n",
      " 'Черняев' 'Швецов' 'Демьянова' 'Ларионова' 'Веселов' 'Адаменко'\n",
      " 'Григорьев' 'Лазарева' 'Семина' 'Шарапова' 'Зеленина' 'Сахарова'\n",
      " 'Сорокин' 'Серебрякова' 'Азимова' 'Пономарев' 'Муравьёв' 'Алиев'\n",
      " 'Малинин' 'Сазонов' 'Мамонтова' 'Некрасов' 'Астапов' 'Сафонова'\n",
      " 'Панфилов' 'Тарасов' 'Горбачева' 'Бобылёв' 'Калинина' 'Алфимов'\n",
      " 'Капустин' 'Авдюков' 'Ларина' 'Алфимова' 'Алексеева' 'Басова' 'Демидов'\n",
      " 'Кошелева' 'Ёрохов' 'Шарова' 'Федосеев' 'Леонтьев' 'Макеев' 'Коновалова'\n",
      " 'Минаев' 'Авдушева' 'Ракова' 'Тетерина' 'Масленникова' 'Сухарева'\n",
      " 'Пономарева' 'Панфилова' 'Беляев' 'Третьякова' 'Горбунов' 'Пантелеева'\n",
      " 'Зайцев' 'Жукова' 'Адамов' 'Антропова' 'Седова' 'Трошин' 'Ахмадулин'\n",
      " 'Вешнякова' 'Чижова' 'Корнилов' 'Еремин' 'Елизаров' 'Крюков' 'Троицкий'\n",
      " 'Худяков' 'Зимина' 'Аракчеев' 'Крючков' 'Давыдов' 'Богданова' 'Анищенко'\n",
      " 'Дубинина' 'Асафьева' 'Черный' 'Абрамцев' 'Чеснокова' 'Симонова'\n",
      " 'Азерников' 'Авраменко' 'Абаимов' 'Абакшина' 'Соловьёв' 'Лаптева' 'Попов'\n",
      " 'Авсейкина' 'Корнилова' 'Касьянова' 'Нестеров' 'Крылова' 'Поликарпова'\n",
      " 'Суслов' 'Амелишко' 'Агапеева' 'Алымова' 'Зыков' 'Парфенов' 'Киселёв'\n",
      " 'Софронов' 'Сальников' 'Носкова' 'Барсуков' 'Севастьянова' 'Аркадьев'\n",
      " 'Золотова' 'Малинина' 'Антонова' 'Алексеичев' 'Орлов' 'Алютин' 'Кузнецов'\n",
      " 'Казакова' 'Верещагина' 'Ёркина' 'Антропов' 'Фокина' 'Громова' 'Курочкин'\n",
      " 'Козырева' 'Румянцева' 'Кулагина' 'Абрикосова' 'Гончаров' 'Ермилов'\n",
      " 'Логинов' 'Абашкин' 'Болдырева' 'Вишняков' 'Фетисова' 'Антоненко'\n",
      " 'Гришина' 'Сысоев' 'Трофимов' 'Авраамова' 'Афанасенко' 'Акимычева'\n",
      " 'Акимов' 'Семин' 'Бычкова' 'Кочергина' 'Нестерова' 'Родионов' 'Зуев'\n",
      " 'Беляева' 'Беликова' 'Зубков' 'Кондратов' 'Савельева' 'Чистякова'\n",
      " 'Ахмедов' 'Абрашина' 'Артёмов' 'Васильева' 'Измайлова' 'Амелин' 'Уваров'\n",
      " 'Белова' 'Семёнов' 'Пирогова' 'Кукушкин' 'Ильин' 'Прокофьева' 'Афонин'\n",
      " 'Фролов' 'Лукин' 'Ёлчина' 'Макаров' 'Ахматов' 'Яшина' 'Корольков'\n",
      " 'Устинова' 'Силин' 'Ёрохова' 'Фомин' 'Азаров' 'Добрынина' 'Тимофеева'\n",
      " 'Кочетков' 'Алёшкова' 'Субботина' 'Ерофеев' 'Селезнева' 'Бородина'\n",
      " 'Афонина' 'Матвеев' 'Белозёров' 'Ковалева' 'Афинин' 'Иванов' 'Артемчук'\n",
      " 'Алешина' 'Дроздов' 'Новикова' 'Козлова' 'Завьялова' 'Абалдуева'\n",
      " 'Акуленко' 'Авринский' 'Авчинникова' 'Абрамычева' 'Авросинова' 'Ёркин'\n",
      " 'Шевцов' 'Александрюк' 'Авдышев' 'Абалкин' 'Лосева' 'Гаврилова' 'Боброва'\n",
      " 'Любимов' 'Фадеева' 'Семенова' 'Серов' 'Константинова' 'Богданов'\n",
      " 'Емельянова' 'Блохина' 'Борисова' 'Сухова' 'Моргунов' 'Кириллов'\n",
      " 'Филатов' 'Алесин' 'Артёменко' 'Ахматулина' 'Андропов' 'Фокин' 'Блохин'\n",
      " 'Агеева' 'Акимчин']\n",
      "\n",
      "reg_date\n",
      "['2018-05-25T00:00:00.000000000' '2018-11-01T00:00:00.000000000'\n",
      " '2018-06-17T00:00:00.000000000' '2018-08-17T00:00:00.000000000'\n",
      " '2018-05-14T00:00:00.000000000' '2018-01-25T00:00:00.000000000'\n",
      " '2018-02-26T00:00:00.000000000' '2018-04-19T00:00:00.000000000'\n",
      " '2018-12-19T00:00:00.000000000' '2018-03-22T00:00:00.000000000'\n",
      " '2018-08-05T00:00:00.000000000' '2018-03-19T00:00:00.000000000'\n",
      " '2018-03-28T00:00:00.000000000' '2018-11-14T00:00:00.000000000'\n",
      " '2018-05-15T00:00:00.000000000' '2018-04-30T00:00:00.000000000'\n",
      " '2018-11-21T00:00:00.000000000' '2018-05-22T00:00:00.000000000'\n",
      " '2018-04-01T00:00:00.000000000' '2018-05-16T00:00:00.000000000'\n",
      " '2018-10-22T00:00:00.000000000' '2018-04-26T00:00:00.000000000'\n",
      " '2018-12-01T00:00:00.000000000' '2018-10-31T00:00:00.000000000'\n",
      " '2018-03-15T00:00:00.000000000' '2018-10-06T00:00:00.000000000'\n",
      " '2018-04-10T00:00:00.000000000' '2018-10-02T00:00:00.000000000'\n",
      " '2018-09-15T00:00:00.000000000' '2018-05-23T00:00:00.000000000'\n",
      " '2018-11-02T00:00:00.000000000' '2018-01-04T00:00:00.000000000'\n",
      " '2018-07-15T00:00:00.000000000' '2018-08-26T00:00:00.000000000'\n",
      " '2018-04-03T00:00:00.000000000' '2018-07-14T00:00:00.000000000'\n",
      " '2018-10-13T00:00:00.000000000' '2018-10-07T00:00:00.000000000'\n",
      " '2018-06-21T00:00:00.000000000' '2018-06-08T00:00:00.000000000'\n",
      " '2018-11-29T00:00:00.000000000' '2018-11-25T00:00:00.000000000'\n",
      " '2018-07-08T00:00:00.000000000' '2018-05-09T00:00:00.000000000'\n",
      " '2018-01-30T00:00:00.000000000' '2018-08-20T00:00:00.000000000'\n",
      " '2018-10-29T00:00:00.000000000' '2018-08-19T00:00:00.000000000'\n",
      " '2018-03-10T00:00:00.000000000' '2018-06-16T00:00:00.000000000'\n",
      " '2018-05-28T00:00:00.000000000' '2018-07-27T00:00:00.000000000'\n",
      " '2018-09-30T00:00:00.000000000' '2018-03-20T00:00:00.000000000'\n",
      " '2018-01-02T00:00:00.000000000' '2018-04-13T00:00:00.000000000'\n",
      " '2018-03-12T00:00:00.000000000' '2018-04-14T00:00:00.000000000'\n",
      " '2018-11-24T00:00:00.000000000' '2018-11-16T00:00:00.000000000'\n",
      " '2018-04-12T00:00:00.000000000' '2018-03-17T00:00:00.000000000'\n",
      " '2018-03-08T00:00:00.000000000' '2018-06-24T00:00:00.000000000'\n",
      " '2018-04-09T00:00:00.000000000' '2018-07-16T00:00:00.000000000'\n",
      " '2018-12-10T00:00:00.000000000' '2018-08-07T00:00:00.000000000'\n",
      " '2018-01-09T00:00:00.000000000' '2018-02-20T00:00:00.000000000'\n",
      " '2018-10-04T00:00:00.000000000' '2018-12-30T00:00:00.000000000'\n",
      " '2018-10-23T00:00:00.000000000' '2018-06-19T00:00:00.000000000'\n",
      " '2018-08-12T00:00:00.000000000' '2018-03-25T00:00:00.000000000'\n",
      " '2018-10-05T00:00:00.000000000' '2018-04-24T00:00:00.000000000'\n",
      " '2018-12-13T00:00:00.000000000' '2018-06-12T00:00:00.000000000'\n",
      " '2018-10-03T00:00:00.000000000' '2018-06-04T00:00:00.000000000'\n",
      " '2018-02-24T00:00:00.000000000' '2018-10-11T00:00:00.000000000'\n",
      " '2018-05-08T00:00:00.000000000' '2018-06-29T00:00:00.000000000'\n",
      " '2018-12-23T00:00:00.000000000' '2018-06-25T00:00:00.000000000'\n",
      " '2018-06-23T00:00:00.000000000' '2018-03-16T00:00:00.000000000'\n",
      " '2018-07-02T00:00:00.000000000' '2018-05-21T00:00:00.000000000'\n",
      " '2018-12-04T00:00:00.000000000' '2018-02-21T00:00:00.000000000'\n",
      " '2018-09-29T00:00:00.000000000' '2018-07-20T00:00:00.000000000'\n",
      " '2018-02-23T00:00:00.000000000' '2018-05-06T00:00:00.000000000'\n",
      " '2018-09-04T00:00:00.000000000' '2018-01-24T00:00:00.000000000'\n",
      " '2018-07-26T00:00:00.000000000' '2018-07-28T00:00:00.000000000'\n",
      " '2018-04-17T00:00:00.000000000' '2018-03-06T00:00:00.000000000'\n",
      " '2018-04-22T00:00:00.000000000' '2018-05-04T00:00:00.000000000'\n",
      " '2018-11-07T00:00:00.000000000' '2018-03-18T00:00:00.000000000'\n",
      " '2018-09-24T00:00:00.000000000' '2018-09-01T00:00:00.000000000'\n",
      " '2018-01-19T00:00:00.000000000' '2018-04-11T00:00:00.000000000'\n",
      " '2018-12-15T00:00:00.000000000' '2018-12-17T00:00:00.000000000'\n",
      " '2018-12-08T00:00:00.000000000' '2018-10-19T00:00:00.000000000'\n",
      " '2018-01-16T00:00:00.000000000' '2018-01-29T00:00:00.000000000'\n",
      " '2018-11-19T00:00:00.000000000' '2018-12-02T00:00:00.000000000'\n",
      " '2018-07-13T00:00:00.000000000' '2018-11-09T00:00:00.000000000'\n",
      " '2018-12-31T00:00:00.000000000' '2018-03-24T00:00:00.000000000'\n",
      " '2018-04-27T00:00:00.000000000' '2018-04-29T00:00:00.000000000'\n",
      " '2018-07-09T00:00:00.000000000' '2018-05-19T00:00:00.000000000'\n",
      " '2018-02-05T00:00:00.000000000' '2018-10-18T00:00:00.000000000'\n",
      " '2018-06-02T00:00:00.000000000' '2018-11-12T00:00:00.000000000'\n",
      " '2018-02-03T00:00:00.000000000' '2018-11-28T00:00:00.000000000'\n",
      " '2018-07-03T00:00:00.000000000' '2018-10-09T00:00:00.000000000'\n",
      " '2018-11-03T00:00:00.000000000' '2018-10-14T00:00:00.000000000'\n",
      " '2018-12-20T00:00:00.000000000' '2018-05-05T00:00:00.000000000'\n",
      " '2018-02-17T00:00:00.000000000' '2018-04-08T00:00:00.000000000'\n",
      " '2018-01-20T00:00:00.000000000' '2018-02-02T00:00:00.000000000'\n",
      " '2018-11-23T00:00:00.000000000' '2018-07-12T00:00:00.000000000'\n",
      " '2018-09-03T00:00:00.000000000' '2018-08-22T00:00:00.000000000'\n",
      " '2018-02-04T00:00:00.000000000' '2018-12-07T00:00:00.000000000'\n",
      " '2018-06-30T00:00:00.000000000' '2018-01-01T00:00:00.000000000'\n",
      " '2018-12-03T00:00:00.000000000' '2018-06-18T00:00:00.000000000'\n",
      " '2018-08-15T00:00:00.000000000' '2018-09-10T00:00:00.000000000'\n",
      " '2018-04-28T00:00:00.000000000' '2018-08-06T00:00:00.000000000'\n",
      " '2018-09-20T00:00:00.000000000' '2018-03-13T00:00:00.000000000'\n",
      " '2018-10-21T00:00:00.000000000' '2018-07-29T00:00:00.000000000'\n",
      " '2018-06-20T00:00:00.000000000' '2018-07-05T00:00:00.000000000'\n",
      " '2018-01-21T00:00:00.000000000' '2018-11-22T00:00:00.000000000'\n",
      " '2018-06-03T00:00:00.000000000' '2018-08-30T00:00:00.000000000'\n",
      " '2018-12-12T00:00:00.000000000' '2018-06-01T00:00:00.000000000'\n",
      " '2018-12-22T00:00:00.000000000' '2018-11-04T00:00:00.000000000'\n",
      " '2018-01-08T00:00:00.000000000' '2018-02-27T00:00:00.000000000'\n",
      " '2018-05-02T00:00:00.000000000' '2018-11-18T00:00:00.000000000'\n",
      " '2018-09-26T00:00:00.000000000' '2018-08-14T00:00:00.000000000'\n",
      " '2018-02-13T00:00:00.000000000' '2018-02-19T00:00:00.000000000'\n",
      " '2018-09-28T00:00:00.000000000' '2018-10-30T00:00:00.000000000'\n",
      " '2018-07-17T00:00:00.000000000' '2018-07-01T00:00:00.000000000'\n",
      " '2018-08-29T00:00:00.000000000' '2018-05-03T00:00:00.000000000'\n",
      " '2018-08-13T00:00:00.000000000' '2018-07-18T00:00:00.000000000'\n",
      " '2018-06-09T00:00:00.000000000' '2018-09-07T00:00:00.000000000'\n",
      " '2018-11-27T00:00:00.000000000' '2018-09-23T00:00:00.000000000'\n",
      " '2018-09-09T00:00:00.000000000' '2018-05-11T00:00:00.000000000'\n",
      " '2018-02-08T00:00:00.000000000' '2018-09-05T00:00:00.000000000'\n",
      " '2018-09-19T00:00:00.000000000' '2018-06-05T00:00:00.000000000'\n",
      " '2018-01-27T00:00:00.000000000' '2018-09-27T00:00:00.000000000'\n",
      " '2018-01-23T00:00:00.000000000' '2018-07-25T00:00:00.000000000'\n",
      " '2018-11-05T00:00:00.000000000' '2018-10-25T00:00:00.000000000'\n",
      " '2018-11-30T00:00:00.000000000' '2018-08-03T00:00:00.000000000'\n",
      " '2018-10-24T00:00:00.000000000' '2018-03-04T00:00:00.000000000'\n",
      " '2018-08-24T00:00:00.000000000' '2018-08-02T00:00:00.000000000'\n",
      " '2018-05-29T00:00:00.000000000' '2018-10-16T00:00:00.000000000'\n",
      " '2018-10-08T00:00:00.000000000' '2018-06-26T00:00:00.000000000'\n",
      " '2018-01-15T00:00:00.000000000' '2018-06-22T00:00:00.000000000'\n",
      " '2018-12-18T00:00:00.000000000' '2018-07-21T00:00:00.000000000'\n",
      " '2018-04-18T00:00:00.000000000' '2018-09-02T00:00:00.000000000'\n",
      " '2018-06-14T00:00:00.000000000' '2018-09-14T00:00:00.000000000'\n",
      " '2018-12-14T00:00:00.000000000' '2018-08-18T00:00:00.000000000'\n",
      " '2018-02-06T00:00:00.000000000' '2018-12-25T00:00:00.000000000'\n",
      " '2018-01-17T00:00:00.000000000' '2018-05-31T00:00:00.000000000'\n",
      " '2018-02-25T00:00:00.000000000' '2018-08-09T00:00:00.000000000'\n",
      " '2018-05-07T00:00:00.000000000' '2018-01-13T00:00:00.000000000'\n",
      " '2018-03-26T00:00:00.000000000' '2018-12-21T00:00:00.000000000'\n",
      " '2018-08-27T00:00:00.000000000' '2018-07-30T00:00:00.000000000'\n",
      " '2018-05-12T00:00:00.000000000' '2018-01-12T00:00:00.000000000'\n",
      " '2018-01-06T00:00:00.000000000' '2018-12-06T00:00:00.000000000'\n",
      " '2018-11-06T00:00:00.000000000' '2018-03-09T00:00:00.000000000'\n",
      " '2018-05-20T00:00:00.000000000' '2018-05-27T00:00:00.000000000'\n",
      " '2018-03-14T00:00:00.000000000' '2018-08-28T00:00:00.000000000'\n",
      " '2018-07-19T00:00:00.000000000' '2018-02-22T00:00:00.000000000'\n",
      " '2018-10-12T00:00:00.000000000' '2018-08-25T00:00:00.000000000'\n",
      " '2018-01-26T00:00:00.000000000' '2018-04-23T00:00:00.000000000'\n",
      " '2018-08-04T00:00:00.000000000' '2018-01-05T00:00:00.000000000'\n",
      " '2018-04-04T00:00:00.000000000' '2018-11-13T00:00:00.000000000'\n",
      " '2018-09-17T00:00:00.000000000' '2018-12-29T00:00:00.000000000'\n",
      " '2018-08-31T00:00:00.000000000' '2018-09-13T00:00:00.000000000'\n",
      " '2018-09-16T00:00:00.000000000' '2018-10-10T00:00:00.000000000'\n",
      " '2018-04-06T00:00:00.000000000' '2018-02-28T00:00:00.000000000'\n",
      " '2018-02-11T00:00:00.000000000' '2018-07-06T00:00:00.000000000'\n",
      " '2018-01-18T00:00:00.000000000' '2018-11-11T00:00:00.000000000'\n",
      " '2018-02-14T00:00:00.000000000' '2018-04-25T00:00:00.000000000']\n",
      "\n",
      "tariff\n",
      "['ultra' 'smart']\n",
      "\n"
     ]
    }
   ],
   "source": [
    "\n",
    "#рассмотрим уникальные значения для каждого столбца \n",
    "for i in users.columns:\n",
    "    print(i)\n",
    "    print(users[i].unique())\n",
    "    print()"
   ]
  },
  {
   "cell_type": "code",
   "execution_count": 29,
   "metadata": {
    "scrolled": true
   },
   "outputs": [
    {
     "name": "stdout",
     "output_type": "stream",
     "text": [
      "1023    1\n",
      "1194    1\n",
      "1181    1\n",
      "1182    1\n",
      "1183    1\n",
      "       ..\n",
      "1362    1\n",
      "1363    1\n",
      "1364    1\n",
      "1365    1\n",
      "1024    1\n",
      "Name: user_id, Length: 500, dtype: int64\n",
      "53    14\n",
      "42    14\n",
      "63    13\n",
      "71    13\n",
      "64    13\n",
      "73    12\n",
      "21    12\n",
      "40    12\n",
      "39    11\n",
      "47    11\n",
      "29    11\n",
      "26    11\n",
      "37    11\n",
      "41    10\n",
      "36    10\n",
      "58    10\n",
      "45    10\n",
      "70    10\n",
      "52    10\n",
      "51     9\n",
      "27     9\n",
      "48     9\n",
      "50     9\n",
      "28     9\n",
      "30     9\n",
      "24     9\n",
      "20     9\n",
      "19     9\n",
      "56     9\n",
      "23     9\n",
      "68     9\n",
      "66     9\n",
      "65     9\n",
      "69     8\n",
      "62     8\n",
      "60     8\n",
      "44     8\n",
      "55     8\n",
      "25     7\n",
      "43     7\n",
      "67     7\n",
      "35     7\n",
      "74     7\n",
      "32     7\n",
      "31     7\n",
      "46     7\n",
      "75     6\n",
      "54     6\n",
      "59     6\n",
      "18     6\n",
      "33     5\n",
      "34     5\n",
      "38     5\n",
      "22     5\n",
      "72     5\n",
      "49     4\n",
      "57     4\n",
      "61     3\n",
      "Name: age, dtype: int64\n",
      "1970-01-01    462\n",
      "2018-10-14      2\n",
      "2018-12-21      2\n",
      "2018-12-09      2\n",
      "2018-12-03      2\n",
      "2018-10-03      2\n",
      "2018-12-18      1\n",
      "2018-10-28      1\n",
      "2018-09-27      1\n",
      "2018-11-16      1\n",
      "2018-10-25      1\n",
      "2018-09-02      1\n",
      "2018-12-23      1\n",
      "2018-11-22      1\n",
      "2018-10-05      1\n",
      "2018-12-20      1\n",
      "2018-12-26      1\n",
      "2018-12-24      1\n",
      "2018-11-26      1\n",
      "2018-12-14      1\n",
      "2018-11-13      1\n",
      "2018-11-27      1\n",
      "2018-10-27      1\n",
      "2018-09-26      1\n",
      "2018-12-11      1\n",
      "2018-12-25      1\n",
      "2018-11-07      1\n",
      "2018-11-21      1\n",
      "2018-10-04      1\n",
      "2018-08-17      1\n",
      "2018-08-31      1\n",
      "2018-12-16      1\n",
      "2018-12-30      1\n",
      "2018-11-30      1\n",
      "Name: churn_date, dtype: int64\n",
      "Москва             99\n",
      "Санкт-Петербург    39\n",
      "Новосибирск        16\n",
      "Казань             14\n",
      "Омск               14\n",
      "                   ..\n",
      "Химки               1\n",
      "Подольск            1\n",
      "Нижневартовск       1\n",
      "Архангельск         1\n",
      "Иваново             1\n",
      "Name: city, Length: 76, dtype: int64\n",
      "Радим       6\n",
      "Пётр        5\n",
      "Леонид      5\n",
      "Адам        4\n",
      "Артём       4\n",
      "           ..\n",
      "Дайна       1\n",
      "Камилла     1\n",
      "Степан      1\n",
      "Виолетта    1\n",
      "Эдита       1\n",
      "Name: first_name, Length: 246, dtype: int64\n",
      "Андреенко     5\n",
      "Булгаков      3\n",
      "Аркадьев      3\n",
      "Березина      3\n",
      "Алексеенко    3\n",
      "             ..\n",
      "Денисова      1\n",
      "Астафьева     1\n",
      "Ермолаев      1\n",
      "Ёркина        1\n",
      "Мамонтова     1\n",
      "Name: last_name, Length: 419, dtype: int64\n",
      "2018-05-28    8\n",
      "2018-10-05    5\n",
      "2018-01-04    5\n",
      "2018-11-16    5\n",
      "2018-04-03    5\n",
      "             ..\n",
      "2018-10-13    1\n",
      "2018-11-13    1\n",
      "2018-02-24    1\n",
      "2018-10-30    1\n",
      "2018-12-21    1\n",
      "Name: reg_date, Length: 270, dtype: int64\n",
      "smart    351\n",
      "ultra    149\n",
      "Name: tariff, dtype: int64\n"
     ]
    }
   ],
   "source": [
    "#изучим количество уникальные значения для всех столбцов\n",
    "for i in users.columns:\n",
    "    print(users[i].value_counts())"
   ]
  },
  {
   "cell_type": "markdown",
   "metadata": {},
   "source": [
    "Ошибок в в данных в таблице users не обнаружено"
   ]
  },
  {
   "cell_type": "markdown",
   "metadata": {},
   "source": [
    "##### таблица calls"
   ]
  },
  {
   "cell_type": "code",
   "execution_count": 30,
   "metadata": {},
   "outputs": [
    {
     "name": "stdout",
     "output_type": "stream",
     "text": [
      "id\n",
      "['1000_0' '1000_1' '1000_2' ... '1499_217' '1499_218' '1499_219']\n",
      "\n",
      "call_date\n",
      "['2018-07-25T00:00:00.000000000' '2018-08-17T00:00:00.000000000'\n",
      " '2018-06-11T00:00:00.000000000' '2018-09-21T00:00:00.000000000'\n",
      " '2018-12-15T00:00:00.000000000' '2018-11-02T00:00:00.000000000'\n",
      " '2018-10-18T00:00:00.000000000' '2018-08-22T00:00:00.000000000'\n",
      " '2018-09-15T00:00:00.000000000' '2018-08-15T00:00:00.000000000'\n",
      " '2018-05-28T00:00:00.000000000' '2018-07-05T00:00:00.000000000'\n",
      " '2018-09-29T00:00:00.000000000' '2018-12-11T00:00:00.000000000'\n",
      " '2018-07-27T00:00:00.000000000' '2018-08-11T00:00:00.000000000'\n",
      " '2018-08-02T00:00:00.000000000' '2018-06-15T00:00:00.000000000'\n",
      " '2018-12-04T00:00:00.000000000' '2018-08-20T00:00:00.000000000'\n",
      " '2018-09-25T00:00:00.000000000' '2018-07-21T00:00:00.000000000'\n",
      " '2018-08-27T00:00:00.000000000' '2018-08-25T00:00:00.000000000'\n",
      " '2018-12-12T00:00:00.000000000' '2018-07-19T00:00:00.000000000'\n",
      " '2018-11-14T00:00:00.000000000' '2018-12-26T00:00:00.000000000'\n",
      " '2018-12-02T00:00:00.000000000' '2018-10-08T00:00:00.000000000'\n",
      " '2018-09-23T00:00:00.000000000' '2018-10-09T00:00:00.000000000'\n",
      " '2018-05-25T00:00:00.000000000' '2018-06-13T00:00:00.000000000'\n",
      " '2018-10-25T00:00:00.000000000' '2018-12-29T00:00:00.000000000'\n",
      " '2018-07-12T00:00:00.000000000' '2018-11-20T00:00:00.000000000'\n",
      " '2018-06-05T00:00:00.000000000' '2018-10-13T00:00:00.000000000'\n",
      " '2018-06-26T00:00:00.000000000' '2018-07-14T00:00:00.000000000'\n",
      " '2018-07-20T00:00:00.000000000' '2018-12-01T00:00:00.000000000'\n",
      " '2018-06-17T00:00:00.000000000' '2018-10-24T00:00:00.000000000'\n",
      " '2018-11-26T00:00:00.000000000' '2018-09-19T00:00:00.000000000'\n",
      " '2018-05-30T00:00:00.000000000' '2018-12-21T00:00:00.000000000'\n",
      " '2018-12-23T00:00:00.000000000' '2018-07-03T00:00:00.000000000'\n",
      " '2018-10-04T00:00:00.000000000' '2018-09-16T00:00:00.000000000'\n",
      " '2018-11-21T00:00:00.000000000' '2018-10-28T00:00:00.000000000'\n",
      " '2018-08-29T00:00:00.000000000' '2018-08-13T00:00:00.000000000'\n",
      " '2018-07-18T00:00:00.000000000' '2018-06-03T00:00:00.000000000'\n",
      " '2018-09-03T00:00:00.000000000' '2018-08-14T00:00:00.000000000'\n",
      " '2018-11-01T00:00:00.000000000' '2018-05-26T00:00:00.000000000'\n",
      " '2018-11-23T00:00:00.000000000' '2018-09-30T00:00:00.000000000'\n",
      " '2018-11-09T00:00:00.000000000' '2018-08-01T00:00:00.000000000'\n",
      " '2018-06-18T00:00:00.000000000' '2018-10-20T00:00:00.000000000'\n",
      " '2018-11-07T00:00:00.000000000' '2018-08-04T00:00:00.000000000'\n",
      " '2018-09-06T00:00:00.000000000' '2018-10-27T00:00:00.000000000'\n",
      " '2018-10-15T00:00:00.000000000' '2018-10-26T00:00:00.000000000'\n",
      " '2018-11-18T00:00:00.000000000' '2018-07-30T00:00:00.000000000'\n",
      " '2018-10-06T00:00:00.000000000' '2018-12-17T00:00:00.000000000'\n",
      " '2018-08-24T00:00:00.000000000' '2018-09-28T00:00:00.000000000'\n",
      " '2018-07-06T00:00:00.000000000' '2018-06-02T00:00:00.000000000'\n",
      " '2018-09-02T00:00:00.000000000' '2018-12-10T00:00:00.000000000'\n",
      " '2018-11-03T00:00:00.000000000' '2018-07-28T00:00:00.000000000'\n",
      " '2018-09-27T00:00:00.000000000' '2018-12-24T00:00:00.000000000'\n",
      " '2018-07-29T00:00:00.000000000' '2018-12-18T00:00:00.000000000'\n",
      " '2018-10-16T00:00:00.000000000' '2018-10-07T00:00:00.000000000'\n",
      " '2018-11-12T00:00:00.000000000' '2018-07-23T00:00:00.000000000'\n",
      " '2018-08-26T00:00:00.000000000' '2018-09-07T00:00:00.000000000'\n",
      " '2018-09-14T00:00:00.000000000' '2018-07-15T00:00:00.000000000'\n",
      " '2018-09-17T00:00:00.000000000' '2018-09-09T00:00:00.000000000'\n",
      " '2018-10-02T00:00:00.000000000' '2018-07-02T00:00:00.000000000'\n",
      " '2018-10-21T00:00:00.000000000' '2018-07-10T00:00:00.000000000'\n",
      " '2018-09-10T00:00:00.000000000' '2018-07-11T00:00:00.000000000'\n",
      " '2018-09-20T00:00:00.000000000' '2018-11-04T00:00:00.000000000'\n",
      " '2018-12-05T00:00:00.000000000' '2018-06-22T00:00:00.000000000'\n",
      " '2018-07-04T00:00:00.000000000' '2018-08-09T00:00:00.000000000'\n",
      " '2018-12-25T00:00:00.000000000' '2018-06-12T00:00:00.000000000'\n",
      " '2018-12-22T00:00:00.000000000' '2018-07-17T00:00:00.000000000'\n",
      " '2018-09-18T00:00:00.000000000' '2018-10-14T00:00:00.000000000'\n",
      " '2018-11-15T00:00:00.000000000' '2018-06-19T00:00:00.000000000'\n",
      " '2018-06-07T00:00:00.000000000' '2018-11-25T00:00:00.000000000'\n",
      " '2018-12-07T00:00:00.000000000' '2018-05-31T00:00:00.000000000'\n",
      " '2018-06-27T00:00:00.000000000' '2018-12-03T00:00:00.000000000'\n",
      " '2018-06-28T00:00:00.000000000' '2018-09-13T00:00:00.000000000'\n",
      " '2018-11-19T00:00:00.000000000' '2018-09-11T00:00:00.000000000'\n",
      " '2018-06-21T00:00:00.000000000' '2018-11-27T00:00:00.000000000'\n",
      " '2018-08-10T00:00:00.000000000' '2018-08-07T00:00:00.000000000'\n",
      " '2018-09-24T00:00:00.000000000' '2018-10-01T00:00:00.000000000'\n",
      " '2018-06-20T00:00:00.000000000' '2018-10-19T00:00:00.000000000'\n",
      " '2018-07-26T00:00:00.000000000' '2018-09-12T00:00:00.000000000'\n",
      " '2018-11-24T00:00:00.000000000' '2018-12-09T00:00:00.000000000'\n",
      " '2018-06-10T00:00:00.000000000' '2018-06-14T00:00:00.000000000'\n",
      " '2018-06-24T00:00:00.000000000' '2018-11-11T00:00:00.000000000'\n",
      " '2018-11-05T00:00:00.000000000' '2018-06-29T00:00:00.000000000'\n",
      " '2018-09-05T00:00:00.000000000' '2018-08-23T00:00:00.000000000'\n",
      " '2018-08-19T00:00:00.000000000' '2018-08-03T00:00:00.000000000'\n",
      " '2018-06-25T00:00:00.000000000' '2018-05-27T00:00:00.000000000'\n",
      " '2018-07-07T00:00:00.000000000' '2018-11-16T00:00:00.000000000'\n",
      " '2018-09-08T00:00:00.000000000' '2018-10-11T00:00:00.000000000'\n",
      " '2018-05-29T00:00:00.000000000' '2018-12-19T00:00:00.000000000'\n",
      " '2018-08-30T00:00:00.000000000' '2018-07-24T00:00:00.000000000'\n",
      " '2018-10-03T00:00:00.000000000' '2018-12-08T00:00:00.000000000'\n",
      " '2018-06-08T00:00:00.000000000' '2018-10-05T00:00:00.000000000'\n",
      " '2018-11-28T00:00:00.000000000' '2018-10-29T00:00:00.000000000'\n",
      " '2018-12-27T00:00:00.000000000' '2018-11-29T00:00:00.000000000'\n",
      " '2018-10-30T00:00:00.000000000' '2018-11-08T00:00:00.000000000'\n",
      " '2018-07-08T00:00:00.000000000' '2018-06-23T00:00:00.000000000'\n",
      " '2018-12-06T00:00:00.000000000' '2018-12-13T00:00:00.000000000'\n",
      " '2018-11-13T00:00:00.000000000' '2018-12-14T00:00:00.000000000'\n",
      " '2018-12-30T00:00:00.000000000' '2018-11-22T00:00:00.000000000'\n",
      " '2018-12-28T00:00:00.000000000' '2018-12-20T00:00:00.000000000'\n",
      " '2018-11-10T00:00:00.000000000' '2018-11-30T00:00:00.000000000'\n",
      " '2018-12-16T00:00:00.000000000' '2018-11-17T00:00:00.000000000'\n",
      " '2018-12-31T00:00:00.000000000' '2018-08-18T00:00:00.000000000'\n",
      " '2018-07-09T00:00:00.000000000' '2018-07-16T00:00:00.000000000'\n",
      " '2018-08-05T00:00:00.000000000' '2018-08-06T00:00:00.000000000'\n",
      " '2018-10-31T00:00:00.000000000' '2018-09-04T00:00:00.000000000'\n",
      " '2018-07-31T00:00:00.000000000' '2018-11-06T00:00:00.000000000'\n",
      " '2018-10-17T00:00:00.000000000' '2018-10-22T00:00:00.000000000'\n",
      " '2018-09-26T00:00:00.000000000' '2018-10-23T00:00:00.000000000'\n",
      " '2018-09-22T00:00:00.000000000' '2018-09-01T00:00:00.000000000'\n",
      " '2018-08-28T00:00:00.000000000' '2018-08-08T00:00:00.000000000'\n",
      " '2018-08-12T00:00:00.000000000' '2018-07-01T00:00:00.000000000'\n",
      " '2018-07-22T00:00:00.000000000' '2018-08-31T00:00:00.000000000'\n",
      " '2018-10-12T00:00:00.000000000' '2018-10-10T00:00:00.000000000'\n",
      " '2018-08-21T00:00:00.000000000' '2018-08-16T00:00:00.000000000'\n",
      " '2018-06-30T00:00:00.000000000' '2018-05-14T00:00:00.000000000'\n",
      " '2018-05-18T00:00:00.000000000' '2018-05-24T00:00:00.000000000'\n",
      " '2018-07-13T00:00:00.000000000' '2018-06-06T00:00:00.000000000'\n",
      " '2018-05-19T00:00:00.000000000' '2018-05-23T00:00:00.000000000'\n",
      " '2018-05-17T00:00:00.000000000' '2018-03-21T00:00:00.000000000'\n",
      " '2018-04-09T00:00:00.000000000' '2018-05-13T00:00:00.000000000'\n",
      " '2018-04-05T00:00:00.000000000' '2018-04-12T00:00:00.000000000'\n",
      " '2018-01-28T00:00:00.000000000' '2018-03-06T00:00:00.000000000'\n",
      " '2018-04-23T00:00:00.000000000' '2018-03-15T00:00:00.000000000'\n",
      " '2018-03-04T00:00:00.000000000' '2018-03-09T00:00:00.000000000'\n",
      " '2018-02-27T00:00:00.000000000' '2018-03-27T00:00:00.000000000'\n",
      " '2018-06-16T00:00:00.000000000' '2018-03-12T00:00:00.000000000'\n",
      " '2018-04-21T00:00:00.000000000' '2018-05-09T00:00:00.000000000'\n",
      " '2018-03-11T00:00:00.000000000' '2018-04-14T00:00:00.000000000'\n",
      " '2018-03-07T00:00:00.000000000' '2018-01-27T00:00:00.000000000'\n",
      " '2018-02-18T00:00:00.000000000' '2018-03-01T00:00:00.000000000'\n",
      " '2018-02-24T00:00:00.000000000' '2018-05-10T00:00:00.000000000'\n",
      " '2018-03-08T00:00:00.000000000' '2018-02-23T00:00:00.000000000'\n",
      " '2018-03-03T00:00:00.000000000' '2018-04-22T00:00:00.000000000'\n",
      " '2018-02-09T00:00:00.000000000' '2018-01-31T00:00:00.000000000'\n",
      " '2018-02-19T00:00:00.000000000' '2018-03-13T00:00:00.000000000'\n",
      " '2018-03-30T00:00:00.000000000' '2018-05-08T00:00:00.000000000'\n",
      " '2018-04-17T00:00:00.000000000' '2018-04-18T00:00:00.000000000'\n",
      " '2018-01-29T00:00:00.000000000' '2018-04-19T00:00:00.000000000'\n",
      " '2018-04-02T00:00:00.000000000' '2018-05-05T00:00:00.000000000'\n",
      " '2018-04-10T00:00:00.000000000' '2018-03-19T00:00:00.000000000'\n",
      " '2018-04-06T00:00:00.000000000' '2018-04-24T00:00:00.000000000'\n",
      " '2018-03-10T00:00:00.000000000' '2018-05-22T00:00:00.000000000'\n",
      " '2018-03-16T00:00:00.000000000' '2018-02-12T00:00:00.000000000'\n",
      " '2018-05-01T00:00:00.000000000' '2018-02-13T00:00:00.000000000'\n",
      " '2018-01-26T00:00:00.000000000' '2018-02-01T00:00:00.000000000'\n",
      " '2018-02-02T00:00:00.000000000' '2018-04-26T00:00:00.000000000'\n",
      " '2018-02-10T00:00:00.000000000' '2018-04-04T00:00:00.000000000'\n",
      " '2018-06-09T00:00:00.000000000' '2018-03-18T00:00:00.000000000'\n",
      " '2018-03-31T00:00:00.000000000' '2018-04-01T00:00:00.000000000'\n",
      " '2018-02-20T00:00:00.000000000' '2018-02-03T00:00:00.000000000'\n",
      " '2018-02-07T00:00:00.000000000' '2018-04-16T00:00:00.000000000'\n",
      " '2018-02-04T00:00:00.000000000' '2018-05-21T00:00:00.000000000'\n",
      " '2018-05-02T00:00:00.000000000' '2018-04-08T00:00:00.000000000'\n",
      " '2018-06-04T00:00:00.000000000' '2018-03-20T00:00:00.000000000'\n",
      " '2018-02-17T00:00:00.000000000' '2018-03-23T00:00:00.000000000'\n",
      " '2018-05-04T00:00:00.000000000' '2018-05-11T00:00:00.000000000'\n",
      " '2018-03-22T00:00:00.000000000' '2018-05-03T00:00:00.000000000'\n",
      " '2018-02-08T00:00:00.000000000' '2018-02-06T00:00:00.000000000'\n",
      " '2018-02-15T00:00:00.000000000' '2018-05-20T00:00:00.000000000'\n",
      " '2018-03-26T00:00:00.000000000' '2018-03-28T00:00:00.000000000'\n",
      " '2018-03-24T00:00:00.000000000' '2018-04-15T00:00:00.000000000'\n",
      " '2018-04-30T00:00:00.000000000' '2018-02-25T00:00:00.000000000'\n",
      " '2018-04-25T00:00:00.000000000' '2018-03-25T00:00:00.000000000'\n",
      " '2018-05-15T00:00:00.000000000' '2018-03-29T00:00:00.000000000'\n",
      " '2018-02-22T00:00:00.000000000' '2018-04-28T00:00:00.000000000'\n",
      " '2018-04-03T00:00:00.000000000' '2018-03-17T00:00:00.000000000'\n",
      " '2018-04-13T00:00:00.000000000' '2018-03-05T00:00:00.000000000'\n",
      " '2018-04-11T00:00:00.000000000' '2018-01-30T00:00:00.000000000'\n",
      " '2018-05-07T00:00:00.000000000' '2018-06-01T00:00:00.000000000'\n",
      " '2018-02-11T00:00:00.000000000' '2018-05-16T00:00:00.000000000'\n",
      " '2018-02-16T00:00:00.000000000' '2018-04-27T00:00:00.000000000'\n",
      " '2018-01-25T00:00:00.000000000' '2018-05-06T00:00:00.000000000'\n",
      " '2018-02-21T00:00:00.000000000' '2018-04-29T00:00:00.000000000'\n",
      " '2018-04-07T00:00:00.000000000' '2018-02-28T00:00:00.000000000'\n",
      " '2018-02-14T00:00:00.000000000' '2018-03-02T00:00:00.000000000'\n",
      " '2018-03-14T00:00:00.000000000' '2018-02-26T00:00:00.000000000'\n",
      " '2018-04-20T00:00:00.000000000' '2018-05-12T00:00:00.000000000'\n",
      " '2018-01-05T00:00:00.000000000' '2018-01-13T00:00:00.000000000'\n",
      " '2018-01-18T00:00:00.000000000' '2018-01-12T00:00:00.000000000'\n",
      " '2018-01-20T00:00:00.000000000' '2018-01-24T00:00:00.000000000'\n",
      " '2018-01-21T00:00:00.000000000' '2018-01-22T00:00:00.000000000'\n",
      " '2018-01-15T00:00:00.000000000' '2018-01-16T00:00:00.000000000'\n",
      " '2018-02-05T00:00:00.000000000' '2018-01-10T00:00:00.000000000'\n",
      " '2018-01-11T00:00:00.000000000' '2018-01-08T00:00:00.000000000'\n",
      " '2018-01-14T00:00:00.000000000' '2018-01-19T00:00:00.000000000'\n",
      " '2018-01-04T00:00:00.000000000' '2018-01-09T00:00:00.000000000'\n",
      " '2018-01-07T00:00:00.000000000' '2018-01-02T00:00:00.000000000'\n",
      " '2018-01-06T00:00:00.000000000' '2018-01-17T00:00:00.000000000'\n",
      " '2018-01-03T00:00:00.000000000' '2018-01-23T00:00:00.000000000'\n",
      " '2018-01-01T00:00:00.000000000']\n",
      "\n",
      "duration\n",
      "[ 0.    2.85 13.8  ... 24.36 24.5  26.9 ]\n",
      "\n",
      "user_id\n",
      "[1000 1001 1002 1003 1004 1005 1006 1007 1008 1009 1010 1011 1012 1013\n",
      " 1014 1015 1016 1017 1018 1019 1020 1021 1022 1023 1024 1025 1026 1027\n",
      " 1028 1029 1030 1031 1032 1033 1034 1035 1036 1037 1038 1039 1040 1041\n",
      " 1042 1043 1044 1045 1046 1047 1048 1049 1050 1051 1052 1053 1054 1055\n",
      " 1056 1057 1058 1059 1060 1061 1062 1063 1064 1065 1066 1067 1068 1069\n",
      " 1070 1071 1072 1073 1074 1075 1076 1077 1078 1079 1080 1081 1082 1083\n",
      " 1084 1085 1086 1087 1088 1089 1090 1092 1093 1094 1095 1096 1097 1098\n",
      " 1099 1100 1101 1102 1103 1104 1105 1107 1108 1109 1110 1111 1112 1113\n",
      " 1114 1115 1116 1117 1118 1119 1120 1121 1122 1123 1124 1125 1126 1127\n",
      " 1129 1130 1131 1132 1133 1134 1135 1136 1137 1138 1139 1140 1141 1142\n",
      " 1143 1144 1145 1146 1147 1148 1149 1150 1151 1152 1153 1154 1155 1156\n",
      " 1157 1158 1159 1160 1161 1162 1163 1164 1165 1166 1167 1168 1169 1170\n",
      " 1171 1172 1173 1174 1175 1176 1177 1178 1179 1180 1181 1182 1183 1184\n",
      " 1185 1186 1187 1188 1189 1190 1191 1192 1193 1194 1195 1196 1197 1198\n",
      " 1199 1200 1201 1202 1203 1204 1205 1206 1207 1208 1209 1210 1211 1212\n",
      " 1213 1214 1215 1216 1217 1218 1219 1220 1221 1222 1223 1224 1225 1226\n",
      " 1227 1228 1229 1230 1232 1233 1234 1235 1236 1237 1238 1239 1240 1241\n",
      " 1242 1243 1244 1245 1246 1247 1248 1249 1250 1251 1252 1253 1254 1255\n",
      " 1256 1257 1258 1259 1260 1261 1262 1263 1264 1265 1266 1267 1268 1269\n",
      " 1270 1271 1272 1273 1274 1275 1276 1277 1278 1279 1280 1281 1282 1283\n",
      " 1284 1285 1286 1287 1288 1289 1290 1291 1292 1293 1294 1295 1296 1297\n",
      " 1298 1299 1300 1301 1302 1303 1304 1305 1306 1307 1308 1309 1310 1311\n",
      " 1312 1313 1314 1315 1316 1317 1318 1319 1320 1321 1322 1323 1324 1325\n",
      " 1326 1327 1329 1330 1331 1332 1333 1334 1335 1336 1337 1338 1339 1340\n",
      " 1341 1342 1343 1344 1345 1346 1347 1348 1349 1350 1351 1352 1353 1354\n",
      " 1355 1356 1357 1358 1359 1360 1361 1362 1363 1364 1365 1366 1367 1368\n",
      " 1369 1370 1372 1373 1374 1375 1376 1377 1378 1379 1380 1381 1382 1383\n",
      " 1384 1385 1386 1387 1388 1389 1390 1391 1392 1393 1394 1395 1396 1397\n",
      " 1398 1399 1400 1401 1402 1403 1404 1405 1406 1407 1408 1409 1410 1411\n",
      " 1412 1413 1414 1415 1416 1417 1418 1419 1420 1421 1422 1423 1424 1425\n",
      " 1426 1427 1428 1429 1430 1431 1432 1433 1434 1435 1436 1437 1438 1439\n",
      " 1440 1441 1442 1443 1444 1445 1446 1447 1448 1449 1450 1451 1452 1453\n",
      " 1454 1455 1456 1457 1458 1459 1460 1461 1462 1463 1464 1465 1466 1467\n",
      " 1468 1469 1470 1471 1472 1474 1475 1476 1477 1478 1479 1480 1481 1482\n",
      " 1483 1484 1485 1486 1487 1488 1490 1491 1492 1493 1494 1495 1496 1497\n",
      " 1498 1499]\n",
      "\n"
     ]
    }
   ],
   "source": [
    "for i in calls.columns:\n",
    "    print(i)\n",
    "    print(calls[i].unique())\n",
    "    print()"
   ]
  },
  {
   "cell_type": "code",
   "execution_count": 31,
   "metadata": {
    "scrolled": true
   },
   "outputs": [
    {
     "name": "stdout",
     "output_type": "stream",
     "text": [
      "1217_510    1\n",
      "1163_21     1\n",
      "1382_27     1\n",
      "1198_14     1\n",
      "1185_305    1\n",
      "           ..\n",
      "1048_11     1\n",
      "1366_38     1\n",
      "1090_16     1\n",
      "1385_265    1\n",
      "1027_186    1\n",
      "Name: id, Length: 202607, dtype: int64\n",
      "2018-12-31    1435\n",
      "2018-12-29    1202\n",
      "2018-12-30    1192\n",
      "2018-12-22    1158\n",
      "2018-12-26    1149\n",
      "              ... \n",
      "2018-01-05      20\n",
      "2018-01-07      18\n",
      "2018-01-02       9\n",
      "2018-01-03       7\n",
      "2018-01-01       5\n",
      "Name: call_date, Length: 365, dtype: int64\n",
      "0.00     39613\n",
      "4.49       142\n",
      "5.50       142\n",
      "6.15       141\n",
      "6.38       141\n",
      "         ...  \n",
      "27.02        1\n",
      "26.19        1\n",
      "25.34        1\n",
      "27.13        1\n",
      "24.28        1\n",
      "Name: duration, Length: 2871, dtype: int64\n",
      "1377    1760\n",
      "1168    1692\n",
      "1375    1560\n",
      "1453    1440\n",
      "1196    1240\n",
      "        ... \n",
      "1397      33\n",
      "1442      28\n",
      "1373      24\n",
      "1016      20\n",
      "1257      14\n",
      "Name: user_id, Length: 492, dtype: int64\n"
     ]
    }
   ],
   "source": [
    "for i in calls.columns:\n",
    "    print(calls[i].value_counts())"
   ]
  },
  {
   "cell_type": "code",
   "execution_count": 32,
   "metadata": {},
   "outputs": [
    {
     "data": {
      "text/html": [
       "<div>\n",
       "<style scoped>\n",
       "    .dataframe tbody tr th:only-of-type {\n",
       "        vertical-align: middle;\n",
       "    }\n",
       "\n",
       "    .dataframe tbody tr th {\n",
       "        vertical-align: top;\n",
       "    }\n",
       "\n",
       "    .dataframe thead th {\n",
       "        text-align: right;\n",
       "    }\n",
       "</style>\n",
       "<table border=\"1\" class=\"dataframe\">\n",
       "  <thead>\n",
       "    <tr style=\"text-align: right;\">\n",
       "      <th></th>\n",
       "      <th>id</th>\n",
       "      <th>call_date</th>\n",
       "      <th>duration</th>\n",
       "      <th>user_id</th>\n",
       "    </tr>\n",
       "  </thead>\n",
       "  <tbody>\n",
       "    <tr>\n",
       "      <td>0</td>\n",
       "      <td>1000_0</td>\n",
       "      <td>2018-07-25</td>\n",
       "      <td>0.0</td>\n",
       "      <td>1000</td>\n",
       "    </tr>\n",
       "    <tr>\n",
       "      <td>1</td>\n",
       "      <td>1000_1</td>\n",
       "      <td>2018-08-17</td>\n",
       "      <td>0.0</td>\n",
       "      <td>1000</td>\n",
       "    </tr>\n",
       "    <tr>\n",
       "      <td>5</td>\n",
       "      <td>1000_5</td>\n",
       "      <td>2018-11-02</td>\n",
       "      <td>0.0</td>\n",
       "      <td>1000</td>\n",
       "    </tr>\n",
       "    <tr>\n",
       "      <td>6</td>\n",
       "      <td>1000_6</td>\n",
       "      <td>2018-10-18</td>\n",
       "      <td>0.0</td>\n",
       "      <td>1000</td>\n",
       "    </tr>\n",
       "    <tr>\n",
       "      <td>9</td>\n",
       "      <td>1000_9</td>\n",
       "      <td>2018-08-15</td>\n",
       "      <td>0.0</td>\n",
       "      <td>1000</td>\n",
       "    </tr>\n",
       "    <tr>\n",
       "      <td>...</td>\n",
       "      <td>...</td>\n",
       "      <td>...</td>\n",
       "      <td>...</td>\n",
       "      <td>...</td>\n",
       "    </tr>\n",
       "    <tr>\n",
       "      <td>202590</td>\n",
       "      <td>1499_203</td>\n",
       "      <td>2018-12-03</td>\n",
       "      <td>0.0</td>\n",
       "      <td>1499</td>\n",
       "    </tr>\n",
       "    <tr>\n",
       "      <td>202592</td>\n",
       "      <td>1499_205</td>\n",
       "      <td>2018-10-13</td>\n",
       "      <td>0.0</td>\n",
       "      <td>1499</td>\n",
       "    </tr>\n",
       "    <tr>\n",
       "      <td>202593</td>\n",
       "      <td>1499_206</td>\n",
       "      <td>2018-12-26</td>\n",
       "      <td>0.0</td>\n",
       "      <td>1499</td>\n",
       "    </tr>\n",
       "    <tr>\n",
       "      <td>202594</td>\n",
       "      <td>1499_207</td>\n",
       "      <td>2018-10-28</td>\n",
       "      <td>0.0</td>\n",
       "      <td>1499</td>\n",
       "    </tr>\n",
       "    <tr>\n",
       "      <td>202596</td>\n",
       "      <td>1499_209</td>\n",
       "      <td>2018-12-16</td>\n",
       "      <td>0.0</td>\n",
       "      <td>1499</td>\n",
       "    </tr>\n",
       "  </tbody>\n",
       "</table>\n",
       "<p>39613 rows × 4 columns</p>\n",
       "</div>"
      ],
      "text/plain": [
       "              id  call_date  duration  user_id\n",
       "0         1000_0 2018-07-25       0.0     1000\n",
       "1         1000_1 2018-08-17       0.0     1000\n",
       "5         1000_5 2018-11-02       0.0     1000\n",
       "6         1000_6 2018-10-18       0.0     1000\n",
       "9         1000_9 2018-08-15       0.0     1000\n",
       "...          ...        ...       ...      ...\n",
       "202590  1499_203 2018-12-03       0.0     1499\n",
       "202592  1499_205 2018-10-13       0.0     1499\n",
       "202593  1499_206 2018-12-26       0.0     1499\n",
       "202594  1499_207 2018-10-28       0.0     1499\n",
       "202596  1499_209 2018-12-16       0.0     1499\n",
       "\n",
       "[39613 rows x 4 columns]"
      ]
     },
     "execution_count": 32,
     "metadata": {},
     "output_type": "execute_result"
    }
   ],
   "source": [
    "calls.query('duration <= 0.00')"
   ]
  },
  {
   "cell_type": "markdown",
   "metadata": {},
   "source": [
    "Обнаружено очень много значений продолжительностью 0.0 в столбце duration, вероятно это связано техни\n",
    "ческими проблемами оператора во время сбора статистики. Также предоложительно это могут быть неприянятые звонки. Менять значения с 0.0 на -1 или на еще какое-нибудь заметное значение, чтобы как-то выделить такого рода аномальные данные я не буду, т.к. это создаст неудобства при подсчете прибыли. Включать примерно четверть звонков нулевой длительности в дальнейшие расчеты на мой взгляд тоже\n",
    "не имеет смылса т.к. она сможет значительно изменить результаты алгебраических метрик.  "
   ]
  },
  {
   "cell_type": "code",
   "execution_count": 33,
   "metadata": {},
   "outputs": [],
   "source": [
    "calls = calls.query('duration > 0.00') #избавимся от записей с нулевыми значениями"
   ]
  },
  {
   "cell_type": "code",
   "execution_count": 34,
   "metadata": {},
   "outputs": [
    {
     "name": "stdout",
     "output_type": "stream",
     "text": [
      "1086_235     1\n",
      "1363_125     1\n",
      "1481_199     1\n",
      "1247_179     1\n",
      "1099_325     1\n",
      "            ..\n",
      "1377_1437    1\n",
      "1359_465     1\n",
      "1452_12      1\n",
      "1419_264     1\n",
      "1027_186     1\n",
      "Name: id, Length: 162994, dtype: int64\n",
      "2018-12-31    1173\n",
      "2018-12-30     959\n",
      "2018-12-29     959\n",
      "2018-12-22     957\n",
      "2018-12-18     942\n",
      "              ... \n",
      "2018-01-07      15\n",
      "2018-01-06      14\n",
      "2018-01-02       6\n",
      "2018-01-01       4\n",
      "2018-01-03       3\n",
      "Name: call_date, Length: 365, dtype: int64\n",
      "4.49     142\n",
      "5.50     142\n",
      "6.38     141\n",
      "6.15     141\n",
      "4.92     139\n",
      "        ... \n",
      "25.67      1\n",
      "27.19      1\n",
      "28.87      1\n",
      "26.07      1\n",
      "27.63      1\n",
      "Name: duration, Length: 2870, dtype: int64\n",
      "1377    1424\n",
      "1168    1384\n",
      "1375    1270\n",
      "1453    1145\n",
      "1196     978\n",
      "        ... \n",
      "1397      27\n",
      "1442      23\n",
      "1373      17\n",
      "1016      14\n",
      "1257       7\n",
      "Name: user_id, Length: 492, dtype: int64\n"
     ]
    }
   ],
   "source": [
    "for i in calls.columns:\n",
    "    print(calls[i].value_counts())"
   ]
  },
  {
   "cell_type": "markdown",
   "metadata": {},
   "source": [
    "##### таблица messages"
   ]
  },
  {
   "cell_type": "code",
   "execution_count": 35,
   "metadata": {},
   "outputs": [
    {
     "name": "stdout",
     "output_type": "stream",
     "text": [
      "id\n",
      "['1000_0' '1000_1' '1000_2' ... '1499_181' '1499_182' '1499_183']\n",
      "\n",
      "message_date\n",
      "['2018-06-27T00:00:00.000000000' '2018-10-08T00:00:00.000000000'\n",
      " '2018-08-04T00:00:00.000000000' '2018-06-16T00:00:00.000000000'\n",
      " '2018-12-05T00:00:00.000000000' '2018-06-20T00:00:00.000000000'\n",
      " '2018-11-19T00:00:00.000000000' '2018-10-29T00:00:00.000000000'\n",
      " '2018-06-25T00:00:00.000000000' '2018-12-18T00:00:00.000000000'\n",
      " '2018-05-30T00:00:00.000000000' '2018-07-06T00:00:00.000000000'\n",
      " '2018-08-20T00:00:00.000000000' '2018-10-30T00:00:00.000000000'\n",
      " '2018-09-14T00:00:00.000000000' '2018-08-28T00:00:00.000000000'\n",
      " '2018-06-29T00:00:00.000000000' '2018-07-07T00:00:00.000000000'\n",
      " '2018-05-29T00:00:00.000000000' '2018-05-28T00:00:00.000000000'\n",
      " '2018-08-15T00:00:00.000000000' '2018-07-29T00:00:00.000000000'\n",
      " '2018-12-07T00:00:00.000000000' '2018-12-25T00:00:00.000000000'\n",
      " '2018-10-31T00:00:00.000000000' '2018-07-30T00:00:00.000000000'\n",
      " '2018-11-05T00:00:00.000000000' '2018-12-15T00:00:00.000000000'\n",
      " '2018-12-04T00:00:00.000000000' '2018-06-30T00:00:00.000000000'\n",
      " '2018-12-22T00:00:00.000000000' '2018-10-02T00:00:00.000000000'\n",
      " '2018-08-29T00:00:00.000000000' '2018-09-09T00:00:00.000000000'\n",
      " '2018-07-19T00:00:00.000000000' '2018-09-04T00:00:00.000000000'\n",
      " '2018-07-15T00:00:00.000000000' '2018-10-25T00:00:00.000000000'\n",
      " '2018-12-08T00:00:00.000000000' '2018-06-01T00:00:00.000000000'\n",
      " '2018-06-12T00:00:00.000000000' '2018-12-21T00:00:00.000000000'\n",
      " '2018-10-07T00:00:00.000000000' '2018-08-30T00:00:00.000000000'\n",
      " '2018-06-04T00:00:00.000000000' '2018-10-01T00:00:00.000000000'\n",
      " '2018-06-22T00:00:00.000000000' '2018-10-12T00:00:00.000000000'\n",
      " '2018-10-15T00:00:00.000000000' '2018-10-24T00:00:00.000000000'\n",
      " '2018-09-20T00:00:00.000000000' '2018-08-22T00:00:00.000000000'\n",
      " '2018-09-17T00:00:00.000000000' '2018-08-27T00:00:00.000000000'\n",
      " '2018-07-26T00:00:00.000000000' '2018-06-05T00:00:00.000000000'\n",
      " '2018-11-16T00:00:00.000000000' '2018-09-06T00:00:00.000000000'\n",
      " '2018-11-26T00:00:00.000000000' '2018-11-18T00:00:00.000000000'\n",
      " '2018-09-21T00:00:00.000000000' '2018-07-11T00:00:00.000000000'\n",
      " '2018-07-16T00:00:00.000000000' '2018-11-08T00:00:00.000000000'\n",
      " '2018-07-25T00:00:00.000000000' '2018-09-13T00:00:00.000000000'\n",
      " '2018-08-13T00:00:00.000000000' '2018-12-31T00:00:00.000000000'\n",
      " '2018-06-10T00:00:00.000000000' '2018-06-28T00:00:00.000000000'\n",
      " '2018-09-18T00:00:00.000000000' '2018-10-11T00:00:00.000000000'\n",
      " '2018-12-12T00:00:00.000000000' '2018-07-12T00:00:00.000000000'\n",
      " '2018-09-01T00:00:00.000000000' '2018-07-23T00:00:00.000000000'\n",
      " '2018-09-22T00:00:00.000000000' '2018-08-17T00:00:00.000000000'\n",
      " '2018-09-29T00:00:00.000000000' '2018-07-22T00:00:00.000000000'\n",
      " '2018-06-18T00:00:00.000000000' '2018-06-14T00:00:00.000000000'\n",
      " '2018-12-10T00:00:00.000000000' '2018-11-29T00:00:00.000000000'\n",
      " '2018-11-21T00:00:00.000000000' '2018-12-28T00:00:00.000000000'\n",
      " '2018-11-30T00:00:00.000000000' '2018-08-31T00:00:00.000000000'\n",
      " '2018-06-26T00:00:00.000000000' '2018-07-21T00:00:00.000000000'\n",
      " '2018-11-15T00:00:00.000000000' '2018-10-06T00:00:00.000000000'\n",
      " '2018-06-13T00:00:00.000000000' '2018-12-29T00:00:00.000000000'\n",
      " '2018-11-10T00:00:00.000000000' '2018-08-24T00:00:00.000000000'\n",
      " '2018-11-07T00:00:00.000000000' '2018-09-19T00:00:00.000000000'\n",
      " '2018-08-10T00:00:00.000000000' '2018-07-08T00:00:00.000000000'\n",
      " '2018-05-25T00:00:00.000000000' '2018-08-21T00:00:00.000000000'\n",
      " '2018-07-28T00:00:00.000000000' '2018-07-31T00:00:00.000000000'\n",
      " '2018-11-03T00:00:00.000000000' '2018-11-04T00:00:00.000000000'\n",
      " '2018-10-26T00:00:00.000000000' '2018-07-01T00:00:00.000000000'\n",
      " '2018-09-23T00:00:00.000000000' '2018-08-25T00:00:00.000000000'\n",
      " '2018-07-18T00:00:00.000000000' '2018-11-02T00:00:00.000000000'\n",
      " '2018-05-27T00:00:00.000000000' '2018-12-03T00:00:00.000000000'\n",
      " '2018-11-23T00:00:00.000000000' '2018-10-05T00:00:00.000000000'\n",
      " '2018-11-12T00:00:00.000000000' '2018-07-10T00:00:00.000000000'\n",
      " '2018-06-24T00:00:00.000000000' '2018-10-17T00:00:00.000000000'\n",
      " '2018-11-22T00:00:00.000000000' '2018-11-09T00:00:00.000000000'\n",
      " '2018-11-24T00:00:00.000000000' '2018-10-23T00:00:00.000000000'\n",
      " '2018-10-19T00:00:00.000000000' '2018-09-30T00:00:00.000000000'\n",
      " '2018-06-09T00:00:00.000000000' '2018-12-06T00:00:00.000000000'\n",
      " '2018-12-11T00:00:00.000000000' '2018-12-01T00:00:00.000000000'\n",
      " '2018-12-19T00:00:00.000000000' '2018-09-02T00:00:00.000000000'\n",
      " '2018-10-22T00:00:00.000000000' '2018-08-03T00:00:00.000000000'\n",
      " '2018-11-06T00:00:00.000000000' '2018-12-26T00:00:00.000000000'\n",
      " '2018-09-24T00:00:00.000000000' '2018-09-07T00:00:00.000000000'\n",
      " '2018-08-12T00:00:00.000000000' '2018-10-20T00:00:00.000000000'\n",
      " '2018-12-27T00:00:00.000000000' '2018-12-23T00:00:00.000000000'\n",
      " '2018-07-02T00:00:00.000000000' '2018-12-02T00:00:00.000000000'\n",
      " '2018-09-11T00:00:00.000000000' '2018-07-27T00:00:00.000000000'\n",
      " '2018-09-26T00:00:00.000000000' '2018-08-14T00:00:00.000000000'\n",
      " '2018-11-28T00:00:00.000000000' '2018-07-13T00:00:00.000000000'\n",
      " '2018-08-26T00:00:00.000000000' '2018-08-09T00:00:00.000000000'\n",
      " '2018-10-28T00:00:00.000000000' '2018-10-18T00:00:00.000000000'\n",
      " '2018-06-03T00:00:00.000000000' '2018-08-23T00:00:00.000000000'\n",
      " '2018-12-16T00:00:00.000000000' '2018-10-13T00:00:00.000000000'\n",
      " '2018-12-14T00:00:00.000000000' '2018-09-08T00:00:00.000000000'\n",
      " '2018-08-05T00:00:00.000000000' '2018-12-30T00:00:00.000000000'\n",
      " '2018-08-08T00:00:00.000000000' '2018-06-23T00:00:00.000000000'\n",
      " '2018-12-24T00:00:00.000000000' '2018-07-14T00:00:00.000000000'\n",
      " '2018-09-28T00:00:00.000000000' '2018-07-04T00:00:00.000000000'\n",
      " '2018-10-27T00:00:00.000000000' '2018-10-14T00:00:00.000000000'\n",
      " '2018-08-02T00:00:00.000000000' '2018-11-17T00:00:00.000000000'\n",
      " '2018-08-18T00:00:00.000000000' '2018-07-24T00:00:00.000000000'\n",
      " '2018-06-17T00:00:00.000000000' '2018-09-16T00:00:00.000000000'\n",
      " '2018-06-07T00:00:00.000000000' '2018-09-15T00:00:00.000000000'\n",
      " '2018-10-21T00:00:00.000000000' '2018-08-01T00:00:00.000000000'\n",
      " '2018-06-11T00:00:00.000000000' '2018-07-20T00:00:00.000000000'\n",
      " '2018-12-17T00:00:00.000000000' '2018-10-03T00:00:00.000000000'\n",
      " '2018-06-08T00:00:00.000000000' '2018-12-13T00:00:00.000000000'\n",
      " '2018-11-01T00:00:00.000000000' '2018-05-31T00:00:00.000000000'\n",
      " '2018-09-03T00:00:00.000000000' '2018-08-16T00:00:00.000000000'\n",
      " '2018-07-09T00:00:00.000000000' '2018-11-27T00:00:00.000000000'\n",
      " '2018-10-16T00:00:00.000000000' '2018-11-11T00:00:00.000000000'\n",
      " '2018-07-03T00:00:00.000000000' '2018-11-14T00:00:00.000000000'\n",
      " '2018-12-09T00:00:00.000000000' '2018-08-07T00:00:00.000000000'\n",
      " '2018-10-09T00:00:00.000000000' '2018-11-25T00:00:00.000000000'\n",
      " '2018-09-27T00:00:00.000000000' '2018-06-19T00:00:00.000000000'\n",
      " '2018-08-06T00:00:00.000000000' '2018-09-25T00:00:00.000000000'\n",
      " '2018-09-12T00:00:00.000000000' '2018-11-20T00:00:00.000000000'\n",
      " '2018-12-20T00:00:00.000000000' '2018-11-13T00:00:00.000000000'\n",
      " '2018-10-10T00:00:00.000000000' '2018-09-05T00:00:00.000000000'\n",
      " '2018-10-04T00:00:00.000000000' '2018-09-10T00:00:00.000000000'\n",
      " '2018-08-19T00:00:00.000000000' '2018-05-21T00:00:00.000000000'\n",
      " '2018-06-15T00:00:00.000000000' '2018-05-14T00:00:00.000000000'\n",
      " '2018-05-16T00:00:00.000000000' '2018-05-15T00:00:00.000000000'\n",
      " '2018-07-17T00:00:00.000000000' '2018-05-24T00:00:00.000000000'\n",
      " '2018-08-11T00:00:00.000000000' '2018-05-26T00:00:00.000000000'\n",
      " '2018-07-05T00:00:00.000000000' '2018-05-17T00:00:00.000000000'\n",
      " '2018-05-19T00:00:00.000000000' '2018-06-02T00:00:00.000000000'\n",
      " '2018-05-18T00:00:00.000000000' '2018-05-23T00:00:00.000000000'\n",
      " '2018-06-21T00:00:00.000000000' '2018-05-22T00:00:00.000000000'\n",
      " '2018-05-20T00:00:00.000000000' '2018-06-06T00:00:00.000000000'\n",
      " '2018-03-03T00:00:00.000000000' '2018-04-10T00:00:00.000000000'\n",
      " '2018-02-24T00:00:00.000000000' '2018-02-08T00:00:00.000000000'\n",
      " '2018-02-25T00:00:00.000000000' '2018-04-27T00:00:00.000000000'\n",
      " '2018-03-10T00:00:00.000000000' '2018-03-25T00:00:00.000000000'\n",
      " '2018-04-15T00:00:00.000000000' '2018-03-19T00:00:00.000000000'\n",
      " '2018-03-01T00:00:00.000000000' '2018-02-15T00:00:00.000000000'\n",
      " '2018-04-05T00:00:00.000000000' '2018-02-23T00:00:00.000000000'\n",
      " '2018-05-02T00:00:00.000000000' '2018-05-07T00:00:00.000000000'\n",
      " '2018-05-13T00:00:00.000000000' '2018-03-17T00:00:00.000000000'\n",
      " '2018-03-20T00:00:00.000000000' '2018-02-20T00:00:00.000000000'\n",
      " '2018-01-25T00:00:00.000000000' '2018-04-19T00:00:00.000000000'\n",
      " '2018-02-13T00:00:00.000000000' '2018-02-26T00:00:00.000000000'\n",
      " '2018-01-26T00:00:00.000000000' '2018-03-07T00:00:00.000000000'\n",
      " '2018-04-07T00:00:00.000000000' '2018-01-28T00:00:00.000000000'\n",
      " '2018-02-28T00:00:00.000000000' '2018-02-17T00:00:00.000000000'\n",
      " '2018-03-21T00:00:00.000000000' '2018-03-15T00:00:00.000000000'\n",
      " '2018-03-13T00:00:00.000000000' '2018-04-01T00:00:00.000000000'\n",
      " '2018-03-08T00:00:00.000000000' '2018-04-04T00:00:00.000000000'\n",
      " '2018-04-12T00:00:00.000000000' '2018-03-22T00:00:00.000000000'\n",
      " '2018-04-24T00:00:00.000000000' '2018-04-06T00:00:00.000000000'\n",
      " '2018-04-08T00:00:00.000000000' '2018-03-14T00:00:00.000000000'\n",
      " '2018-03-05T00:00:00.000000000' '2018-05-04T00:00:00.000000000'\n",
      " '2018-03-02T00:00:00.000000000' '2018-02-14T00:00:00.000000000'\n",
      " '2018-04-20T00:00:00.000000000' '2018-02-19T00:00:00.000000000'\n",
      " '2018-04-21T00:00:00.000000000' '2018-03-29T00:00:00.000000000'\n",
      " '2018-05-05T00:00:00.000000000' '2018-04-14T00:00:00.000000000'\n",
      " '2018-02-09T00:00:00.000000000' '2018-02-21T00:00:00.000000000'\n",
      " '2018-04-13T00:00:00.000000000' '2018-03-16T00:00:00.000000000'\n",
      " '2018-05-12T00:00:00.000000000' '2018-04-03T00:00:00.000000000'\n",
      " '2018-03-30T00:00:00.000000000' '2018-02-10T00:00:00.000000000'\n",
      " '2018-03-24T00:00:00.000000000' '2018-03-06T00:00:00.000000000'\n",
      " '2018-02-07T00:00:00.000000000' '2018-04-22T00:00:00.000000000'\n",
      " '2018-02-03T00:00:00.000000000' '2018-03-27T00:00:00.000000000'\n",
      " '2018-05-09T00:00:00.000000000' '2018-02-16T00:00:00.000000000'\n",
      " '2018-03-04T00:00:00.000000000' '2018-04-09T00:00:00.000000000'\n",
      " '2018-03-26T00:00:00.000000000' '2018-03-09T00:00:00.000000000'\n",
      " '2018-04-26T00:00:00.000000000' '2018-05-10T00:00:00.000000000'\n",
      " '2018-04-16T00:00:00.000000000' '2018-05-08T00:00:00.000000000'\n",
      " '2018-04-25T00:00:00.000000000' '2018-02-06T00:00:00.000000000'\n",
      " '2018-04-02T00:00:00.000000000' '2018-01-29T00:00:00.000000000'\n",
      " '2018-02-02T00:00:00.000000000' '2018-02-05T00:00:00.000000000'\n",
      " '2018-04-29T00:00:00.000000000' '2018-02-22T00:00:00.000000000'\n",
      " '2018-01-27T00:00:00.000000000' '2018-02-18T00:00:00.000000000'\n",
      " '2018-04-11T00:00:00.000000000' '2018-05-01T00:00:00.000000000'\n",
      " '2018-04-23T00:00:00.000000000' '2018-04-28T00:00:00.000000000'\n",
      " '2018-05-03T00:00:00.000000000' '2018-05-11T00:00:00.000000000'\n",
      " '2018-04-17T00:00:00.000000000' '2018-03-28T00:00:00.000000000'\n",
      " '2018-04-30T00:00:00.000000000' '2018-05-06T00:00:00.000000000'\n",
      " '2018-03-23T00:00:00.000000000' '2018-04-18T00:00:00.000000000'\n",
      " '2018-03-31T00:00:00.000000000' '2018-01-23T00:00:00.000000000'\n",
      " '2018-01-04T00:00:00.000000000' '2018-01-14T00:00:00.000000000'\n",
      " '2018-01-19T00:00:00.000000000' '2018-01-30T00:00:00.000000000'\n",
      " '2018-01-11T00:00:00.000000000' '2018-03-18T00:00:00.000000000'\n",
      " '2018-01-16T00:00:00.000000000' '2018-02-01T00:00:00.000000000'\n",
      " '2018-01-18T00:00:00.000000000' '2018-01-10T00:00:00.000000000'\n",
      " '2018-01-21T00:00:00.000000000' '2018-03-11T00:00:00.000000000'\n",
      " '2018-01-09T00:00:00.000000000' '2018-02-04T00:00:00.000000000'\n",
      " '2018-01-17T00:00:00.000000000' '2018-01-15T00:00:00.000000000'\n",
      " '2018-01-12T00:00:00.000000000' '2018-01-20T00:00:00.000000000'\n",
      " '2018-01-07T00:00:00.000000000' '2018-01-05T00:00:00.000000000'\n",
      " '2018-02-11T00:00:00.000000000' '2018-03-12T00:00:00.000000000'\n",
      " '2018-01-08T00:00:00.000000000' '2018-01-31T00:00:00.000000000'\n",
      " '2018-02-27T00:00:00.000000000' '2018-02-12T00:00:00.000000000'\n",
      " '2018-01-03T00:00:00.000000000' '2018-01-02T00:00:00.000000000'\n",
      " '2018-01-22T00:00:00.000000000' '2018-01-24T00:00:00.000000000'\n",
      " '2018-01-13T00:00:00.000000000' '2018-01-06T00:00:00.000000000']\n",
      "\n",
      "user_id\n",
      "[1000 1002 1003 1004 1005 1007 1008 1009 1011 1012 1013 1014 1015 1016\n",
      " 1018 1019 1020 1021 1022 1023 1025 1026 1027 1028 1029 1030 1031 1032\n",
      " 1033 1034 1035 1036 1037 1038 1039 1041 1042 1043 1044 1045 1046 1047\n",
      " 1048 1050 1051 1052 1054 1055 1056 1057 1058 1059 1060 1061 1062 1064\n",
      " 1065 1066 1067 1068 1069 1070 1071 1072 1073 1074 1075 1076 1077 1079\n",
      " 1080 1081 1082 1083 1084 1086 1087 1088 1089 1090 1091 1092 1093 1094\n",
      " 1096 1097 1098 1099 1100 1102 1103 1104 1105 1106 1108 1109 1110 1111\n",
      " 1112 1113 1115 1119 1121 1122 1123 1124 1125 1126 1127 1130 1131 1133\n",
      " 1134 1135 1136 1137 1138 1139 1140 1141 1142 1144 1145 1146 1147 1148\n",
      " 1149 1150 1151 1154 1155 1156 1158 1159 1160 1161 1163 1164 1165 1166\n",
      " 1167 1168 1169 1170 1171 1172 1173 1174 1176 1178 1180 1181 1182 1183\n",
      " 1184 1186 1187 1188 1189 1190 1191 1192 1193 1194 1196 1197 1198 1199\n",
      " 1200 1202 1203 1205 1206 1207 1209 1211 1212 1213 1214 1215 1216 1217\n",
      " 1218 1219 1221 1222 1223 1226 1227 1229 1230 1231 1232 1233 1234 1235\n",
      " 1236 1237 1238 1239 1241 1243 1244 1245 1246 1247 1249 1250 1251 1252\n",
      " 1253 1256 1257 1258 1259 1261 1262 1263 1264 1265 1266 1267 1268 1269\n",
      " 1270 1271 1272 1273 1274 1275 1276 1277 1278 1279 1280 1281 1282 1283\n",
      " 1284 1285 1286 1287 1288 1289 1293 1294 1295 1296 1298 1299 1300 1302\n",
      " 1303 1304 1307 1308 1309 1310 1311 1312 1313 1314 1315 1316 1317 1318\n",
      " 1319 1320 1321 1323 1324 1325 1326 1327 1328 1329 1330 1331 1332 1333\n",
      " 1335 1336 1337 1338 1340 1341 1342 1343 1344 1345 1346 1347 1348 1349\n",
      " 1350 1351 1352 1353 1354 1355 1356 1357 1358 1359 1361 1362 1364 1365\n",
      " 1366 1368 1369 1372 1373 1374 1375 1377 1378 1379 1380 1381 1382 1383\n",
      " 1384 1385 1386 1387 1389 1390 1391 1392 1393 1394 1395 1396 1398 1399\n",
      " 1400 1401 1402 1403 1404 1405 1406 1407 1408 1409 1410 1411 1412 1413\n",
      " 1414 1415 1416 1417 1418 1419 1420 1421 1422 1423 1424 1425 1426 1427\n",
      " 1430 1431 1432 1433 1434 1436 1437 1438 1439 1440 1441 1443 1444 1445\n",
      " 1446 1447 1448 1449 1450 1451 1452 1453 1454 1455 1457 1458 1459 1460\n",
      " 1461 1463 1464 1465 1467 1468 1470 1471 1472 1473 1474 1475 1476 1477\n",
      " 1478 1480 1481 1482 1483 1484 1485 1486 1487 1488 1489 1490 1491 1492\n",
      " 1493 1495 1496 1497 1498 1499]\n",
      "\n"
     ]
    }
   ],
   "source": [
    "for i in messages.columns:\n",
    "    print(i)\n",
    "    print(messages[i].unique())\n",
    "    print()"
   ]
  },
  {
   "cell_type": "code",
   "execution_count": 36,
   "metadata": {
    "scrolled": true
   },
   "outputs": [
    {
     "name": "stdout",
     "output_type": "stream",
     "text": [
      "1217_510     1\n",
      "1257_250     1\n",
      "1050_35      1\n",
      "1076_830     1\n",
      "1155_31      1\n",
      "            ..\n",
      "1356_1084    1\n",
      "1368_74      1\n",
      "1410_79      1\n",
      "1014_75      1\n",
      "1350_161     1\n",
      "Name: id, Length: 123036, dtype: int64\n",
      "2018-12-31    859\n",
      "2018-12-30    765\n",
      "2018-12-21    712\n",
      "2018-12-29    702\n",
      "2018-12-28    699\n",
      "             ... \n",
      "2018-01-07     12\n",
      "2018-01-02     10\n",
      "2018-01-04     10\n",
      "2018-01-05     10\n",
      "2018-01-03      4\n",
      "Name: message_date, Length: 364, dtype: int64\n",
      "1277    1463\n",
      "1089    1408\n",
      "1231    1384\n",
      "1385    1380\n",
      "1356    1224\n",
      "        ... \n",
      "1389       6\n",
      "1279       5\n",
      "1074       3\n",
      "1159       2\n",
      "1141       1\n",
      "Name: user_id, Length: 426, dtype: int64\n"
     ]
    }
   ],
   "source": [
    "for i in messages.columns:\n",
    "    print(messages[i].value_counts())"
   ]
  },
  {
   "cell_type": "markdown",
   "metadata": {},
   "source": [
    "Ошибок в данных в таблице messages не обнаружено"
   ]
  },
  {
   "cell_type": "markdown",
   "metadata": {},
   "source": [
    "##### таблица internet"
   ]
  },
  {
   "cell_type": "code",
   "execution_count": 37,
   "metadata": {},
   "outputs": [
    {
     "name": "stdout",
     "output_type": "stream",
     "text": [
      "id\n",
      "['1000_0' '1000_1' '1000_2' ... '1499_154' '1499_155' '1499_156']\n",
      "\n",
      "mb_used\n",
      "[ 112.95 1052.81 1197.26 ...  460.75  247.59   23.72]\n",
      "\n",
      "session_date\n",
      "['2018-11-25T00:00:00.000000000' '2018-09-07T00:00:00.000000000'\n",
      " '2018-06-25T00:00:00.000000000' '2018-08-22T00:00:00.000000000'\n",
      " '2018-09-24T00:00:00.000000000' '2018-10-02T00:00:00.000000000'\n",
      " '2018-07-11T00:00:00.000000000' '2018-10-08T00:00:00.000000000'\n",
      " '2018-09-03T00:00:00.000000000' '2018-09-27T00:00:00.000000000'\n",
      " '2018-08-28T00:00:00.000000000' '2018-06-20T00:00:00.000000000'\n",
      " '2018-08-09T00:00:00.000000000' '2018-08-11T00:00:00.000000000'\n",
      " '2018-07-21T00:00:00.000000000' '2018-06-09T00:00:00.000000000'\n",
      " '2018-06-03T00:00:00.000000000' '2018-11-01T00:00:00.000000000'\n",
      " '2018-11-28T00:00:00.000000000' '2018-08-20T00:00:00.000000000'\n",
      " '2018-12-06T00:00:00.000000000' '2018-07-02T00:00:00.000000000'\n",
      " '2018-10-19T00:00:00.000000000' '2018-10-30T00:00:00.000000000'\n",
      " '2018-06-17T00:00:00.000000000' '2018-11-06T00:00:00.000000000'\n",
      " '2018-09-14T00:00:00.000000000' '2018-11-15T00:00:00.000000000'\n",
      " '2018-08-26T00:00:00.000000000' '2018-10-15T00:00:00.000000000'\n",
      " '2018-11-27T00:00:00.000000000' '2018-10-17T00:00:00.000000000'\n",
      " '2018-10-07T00:00:00.000000000' '2018-08-05T00:00:00.000000000'\n",
      " '2018-07-06T00:00:00.000000000' '2018-10-03T00:00:00.000000000'\n",
      " '2018-11-02T00:00:00.000000000' '2018-06-30T00:00:00.000000000'\n",
      " '2018-11-17T00:00:00.000000000' '2018-06-06T00:00:00.000000000'\n",
      " '2018-11-20T00:00:00.000000000' '2018-05-31T00:00:00.000000000'\n",
      " '2018-10-29T00:00:00.000000000' '2018-12-10T00:00:00.000000000'\n",
      " '2018-07-04T00:00:00.000000000' '2018-12-28T00:00:00.000000000'\n",
      " '2018-05-28T00:00:00.000000000' '2018-09-15T00:00:00.000000000'\n",
      " '2018-09-09T00:00:00.000000000' '2018-09-17T00:00:00.000000000'\n",
      " '2018-09-01T00:00:00.000000000' '2018-11-03T00:00:00.000000000'\n",
      " '2018-11-04T00:00:00.000000000' '2018-06-16T00:00:00.000000000'\n",
      " '2018-12-07T00:00:00.000000000' '2018-08-25T00:00:00.000000000'\n",
      " '2018-06-15T00:00:00.000000000' '2018-06-26T00:00:00.000000000'\n",
      " '2018-10-06T00:00:00.000000000' '2018-12-01T00:00:00.000000000'\n",
      " '2018-10-14T00:00:00.000000000' '2018-06-07T00:00:00.000000000'\n",
      " '2018-12-15T00:00:00.000000000' '2018-10-04T00:00:00.000000000'\n",
      " '2018-08-13T00:00:00.000000000' '2018-07-10T00:00:00.000000000'\n",
      " '2018-07-07T00:00:00.000000000' '2018-08-17T00:00:00.000000000'\n",
      " '2018-06-28T00:00:00.000000000' '2018-08-07T00:00:00.000000000'\n",
      " '2018-06-29T00:00:00.000000000' '2018-07-13T00:00:00.000000000'\n",
      " '2018-07-27T00:00:00.000000000' '2018-11-30T00:00:00.000000000'\n",
      " '2018-07-26T00:00:00.000000000' '2018-05-26T00:00:00.000000000'\n",
      " '2018-11-16T00:00:00.000000000' '2018-11-13T00:00:00.000000000'\n",
      " '2018-11-11T00:00:00.000000000' '2018-12-18T00:00:00.000000000'\n",
      " '2018-06-18T00:00:00.000000000' '2018-12-02T00:00:00.000000000'\n",
      " '2018-06-14T00:00:00.000000000' '2018-12-25T00:00:00.000000000'\n",
      " '2018-06-24T00:00:00.000000000' '2018-12-05T00:00:00.000000000'\n",
      " '2018-06-10T00:00:00.000000000' '2018-10-16T00:00:00.000000000'\n",
      " '2018-10-21T00:00:00.000000000' '2018-07-09T00:00:00.000000000'\n",
      " '2018-07-17T00:00:00.000000000' '2018-08-04T00:00:00.000000000'\n",
      " '2018-06-01T00:00:00.000000000' '2018-06-13T00:00:00.000000000'\n",
      " '2018-06-27T00:00:00.000000000' '2018-11-14T00:00:00.000000000'\n",
      " '2018-06-19T00:00:00.000000000' '2018-12-29T00:00:00.000000000'\n",
      " '2018-07-08T00:00:00.000000000' '2018-11-23T00:00:00.000000000'\n",
      " '2018-07-25T00:00:00.000000000' '2018-06-21T00:00:00.000000000'\n",
      " '2018-07-23T00:00:00.000000000' '2018-08-31T00:00:00.000000000'\n",
      " '2018-09-08T00:00:00.000000000' '2018-07-14T00:00:00.000000000'\n",
      " '2018-07-29T00:00:00.000000000' '2018-06-05T00:00:00.000000000'\n",
      " '2018-12-21T00:00:00.000000000' '2018-12-24T00:00:00.000000000'\n",
      " '2018-09-19T00:00:00.000000000' '2018-12-19T00:00:00.000000000'\n",
      " '2018-09-06T00:00:00.000000000' '2018-10-13T00:00:00.000000000'\n",
      " '2018-09-04T00:00:00.000000000' '2018-09-30T00:00:00.000000000'\n",
      " '2018-07-28T00:00:00.000000000' '2018-10-22T00:00:00.000000000'\n",
      " '2018-08-02T00:00:00.000000000' '2018-11-07T00:00:00.000000000'\n",
      " '2018-11-08T00:00:00.000000000' '2018-08-21T00:00:00.000000000'\n",
      " '2018-08-30T00:00:00.000000000' '2018-07-31T00:00:00.000000000'\n",
      " '2018-12-30T00:00:00.000000000' '2018-06-08T00:00:00.000000000'\n",
      " '2018-12-03T00:00:00.000000000' '2018-09-16T00:00:00.000000000'\n",
      " '2018-09-26T00:00:00.000000000' '2018-08-27T00:00:00.000000000'\n",
      " '2018-06-23T00:00:00.000000000' '2018-08-14T00:00:00.000000000'\n",
      " '2018-12-16T00:00:00.000000000' '2018-11-22T00:00:00.000000000'\n",
      " '2018-11-18T00:00:00.000000000' '2018-12-08T00:00:00.000000000'\n",
      " '2018-11-29T00:00:00.000000000' '2018-12-13T00:00:00.000000000'\n",
      " '2018-12-26T00:00:00.000000000' '2018-11-26T00:00:00.000000000'\n",
      " '2018-12-09T00:00:00.000000000' '2018-11-09T00:00:00.000000000'\n",
      " '2018-12-04T00:00:00.000000000' '2018-11-19T00:00:00.000000000'\n",
      " '2018-11-12T00:00:00.000000000' '2018-12-20T00:00:00.000000000'\n",
      " '2018-11-21T00:00:00.000000000' '2018-12-22T00:00:00.000000000'\n",
      " '2018-12-23T00:00:00.000000000' '2018-08-24T00:00:00.000000000'\n",
      " '2018-12-17T00:00:00.000000000' '2018-10-23T00:00:00.000000000'\n",
      " '2018-09-12T00:00:00.000000000' '2018-10-25T00:00:00.000000000'\n",
      " '2018-09-10T00:00:00.000000000' '2018-12-27T00:00:00.000000000'\n",
      " '2018-09-11T00:00:00.000000000' '2018-09-20T00:00:00.000000000'\n",
      " '2018-08-06T00:00:00.000000000' '2018-11-24T00:00:00.000000000'\n",
      " '2018-07-15T00:00:00.000000000' '2018-12-31T00:00:00.000000000'\n",
      " '2018-07-18T00:00:00.000000000' '2018-07-30T00:00:00.000000000'\n",
      " '2018-12-11T00:00:00.000000000' '2018-10-24T00:00:00.000000000'\n",
      " '2018-08-29T00:00:00.000000000' '2018-06-22T00:00:00.000000000'\n",
      " '2018-07-24T00:00:00.000000000' '2018-09-05T00:00:00.000000000'\n",
      " '2018-08-01T00:00:00.000000000' '2018-07-22T00:00:00.000000000'\n",
      " '2018-10-01T00:00:00.000000000' '2018-09-23T00:00:00.000000000'\n",
      " '2018-09-13T00:00:00.000000000' '2018-08-23T00:00:00.000000000'\n",
      " '2018-07-03T00:00:00.000000000' '2018-11-10T00:00:00.000000000'\n",
      " '2018-08-12T00:00:00.000000000' '2018-09-22T00:00:00.000000000'\n",
      " '2018-07-20T00:00:00.000000000' '2018-10-09T00:00:00.000000000'\n",
      " '2018-07-12T00:00:00.000000000' '2018-10-20T00:00:00.000000000'\n",
      " '2018-10-11T00:00:00.000000000' '2018-10-05T00:00:00.000000000'\n",
      " '2018-08-08T00:00:00.000000000' '2018-09-29T00:00:00.000000000'\n",
      " '2018-08-15T00:00:00.000000000' '2018-09-21T00:00:00.000000000'\n",
      " '2018-07-16T00:00:00.000000000' '2018-09-25T00:00:00.000000000'\n",
      " '2018-08-03T00:00:00.000000000' '2018-10-26T00:00:00.000000000'\n",
      " '2018-09-02T00:00:00.000000000' '2018-09-28T00:00:00.000000000'\n",
      " '2018-10-18T00:00:00.000000000' '2018-10-27T00:00:00.000000000'\n",
      " '2018-07-01T00:00:00.000000000' '2018-12-12T00:00:00.000000000'\n",
      " '2018-12-14T00:00:00.000000000' '2018-08-10T00:00:00.000000000'\n",
      " '2018-08-16T00:00:00.000000000' '2018-08-18T00:00:00.000000000'\n",
      " '2018-10-31T00:00:00.000000000' '2018-10-28T00:00:00.000000000'\n",
      " '2018-10-10T00:00:00.000000000' '2018-10-12T00:00:00.000000000'\n",
      " '2018-06-11T00:00:00.000000000' '2018-05-27T00:00:00.000000000'\n",
      " '2018-06-02T00:00:00.000000000' '2018-08-19T00:00:00.000000000'\n",
      " '2018-05-18T00:00:00.000000000' '2018-05-15T00:00:00.000000000'\n",
      " '2018-05-16T00:00:00.000000000' '2018-05-14T00:00:00.000000000'\n",
      " '2018-06-12T00:00:00.000000000' '2018-09-18T00:00:00.000000000'\n",
      " '2018-05-20T00:00:00.000000000' '2018-05-19T00:00:00.000000000'\n",
      " '2018-06-04T00:00:00.000000000' '2018-05-23T00:00:00.000000000'\n",
      " '2018-05-30T00:00:00.000000000' '2018-05-21T00:00:00.000000000'\n",
      " '2018-07-05T00:00:00.000000000' '2018-05-22T00:00:00.000000000'\n",
      " '2018-07-19T00:00:00.000000000' '2018-02-09T00:00:00.000000000'\n",
      " '2018-03-10T00:00:00.000000000' '2018-04-12T00:00:00.000000000'\n",
      " '2018-03-30T00:00:00.000000000' '2018-03-15T00:00:00.000000000'\n",
      " '2018-01-28T00:00:00.000000000' '2018-04-03T00:00:00.000000000'\n",
      " '2018-03-09T00:00:00.000000000' '2018-03-06T00:00:00.000000000'\n",
      " '2018-02-24T00:00:00.000000000' '2018-04-26T00:00:00.000000000'\n",
      " '2018-03-05T00:00:00.000000000' '2018-05-12T00:00:00.000000000'\n",
      " '2018-04-21T00:00:00.000000000' '2018-04-24T00:00:00.000000000'\n",
      " '2018-03-02T00:00:00.000000000' '2018-02-16T00:00:00.000000000'\n",
      " '2018-05-03T00:00:00.000000000' '2018-03-07T00:00:00.000000000'\n",
      " '2018-02-20T00:00:00.000000000' '2018-03-19T00:00:00.000000000'\n",
      " '2018-01-30T00:00:00.000000000' '2018-05-09T00:00:00.000000000'\n",
      " '2018-02-07T00:00:00.000000000' '2018-03-12T00:00:00.000000000'\n",
      " '2018-11-05T00:00:00.000000000' '2018-04-01T00:00:00.000000000'\n",
      " '2018-04-07T00:00:00.000000000' '2018-01-29T00:00:00.000000000'\n",
      " '2018-03-16T00:00:00.000000000' '2018-03-14T00:00:00.000000000'\n",
      " '2018-02-01T00:00:00.000000000' '2018-04-29T00:00:00.000000000'\n",
      " '2018-02-02T00:00:00.000000000' '2018-04-30T00:00:00.000000000'\n",
      " '2018-03-17T00:00:00.000000000' '2018-04-17T00:00:00.000000000'\n",
      " '2018-05-29T00:00:00.000000000' '2018-02-27T00:00:00.000000000'\n",
      " '2018-03-26T00:00:00.000000000' '2018-04-08T00:00:00.000000000'\n",
      " '2018-04-02T00:00:00.000000000' '2018-02-18T00:00:00.000000000'\n",
      " '2018-01-27T00:00:00.000000000' '2018-05-01T00:00:00.000000000'\n",
      " '2018-02-11T00:00:00.000000000' '2018-04-19T00:00:00.000000000'\n",
      " '2018-04-25T00:00:00.000000000' '2018-02-13T00:00:00.000000000'\n",
      " '2018-02-21T00:00:00.000000000' '2018-02-04T00:00:00.000000000'\n",
      " '2018-03-28T00:00:00.000000000' '2018-03-21T00:00:00.000000000'\n",
      " '2018-04-11T00:00:00.000000000' '2018-03-31T00:00:00.000000000'\n",
      " '2018-05-07T00:00:00.000000000' '2018-02-17T00:00:00.000000000'\n",
      " '2018-03-04T00:00:00.000000000' '2018-02-12T00:00:00.000000000'\n",
      " '2018-02-14T00:00:00.000000000' '2018-05-10T00:00:00.000000000'\n",
      " '2018-03-23T00:00:00.000000000' '2018-03-22T00:00:00.000000000'\n",
      " '2018-04-09T00:00:00.000000000' '2018-05-25T00:00:00.000000000'\n",
      " '2018-04-22T00:00:00.000000000' '2018-04-05T00:00:00.000000000'\n",
      " '2018-04-23T00:00:00.000000000' '2018-04-14T00:00:00.000000000'\n",
      " '2018-04-13T00:00:00.000000000' '2018-05-04T00:00:00.000000000'\n",
      " '2018-04-20T00:00:00.000000000' '2018-03-13T00:00:00.000000000'\n",
      " '2018-04-28T00:00:00.000000000' '2018-05-08T00:00:00.000000000'\n",
      " '2018-03-27T00:00:00.000000000' '2018-03-01T00:00:00.000000000'\n",
      " '2018-05-02T00:00:00.000000000' '2018-04-18T00:00:00.000000000'\n",
      " '2018-02-26T00:00:00.000000000' '2018-05-24T00:00:00.000000000'\n",
      " '2018-04-16T00:00:00.000000000' '2018-05-13T00:00:00.000000000'\n",
      " '2018-05-06T00:00:00.000000000' '2018-03-18T00:00:00.000000000'\n",
      " '2018-03-24T00:00:00.000000000' '2018-02-28T00:00:00.000000000'\n",
      " '2018-04-15T00:00:00.000000000' '2018-05-11T00:00:00.000000000'\n",
      " '2018-04-06T00:00:00.000000000' '2018-03-25T00:00:00.000000000'\n",
      " '2018-05-17T00:00:00.000000000' '2018-05-05T00:00:00.000000000'\n",
      " '2018-04-04T00:00:00.000000000' '2018-03-03T00:00:00.000000000'\n",
      " '2018-04-27T00:00:00.000000000' '2018-03-29T00:00:00.000000000'\n",
      " '2018-04-10T00:00:00.000000000' '2018-03-20T00:00:00.000000000'\n",
      " '2018-01-13T00:00:00.000000000' '2018-01-19T00:00:00.000000000'\n",
      " '2018-01-23T00:00:00.000000000' '2018-01-20T00:00:00.000000000'\n",
      " '2018-01-12T00:00:00.000000000' '2018-02-23T00:00:00.000000000'\n",
      " '2018-01-05T00:00:00.000000000' '2018-01-21T00:00:00.000000000'\n",
      " '2018-01-31T00:00:00.000000000' '2018-01-10T00:00:00.000000000'\n",
      " '2018-02-10T00:00:00.000000000' '2018-01-15T00:00:00.000000000'\n",
      " '2018-01-09T00:00:00.000000000' '2018-03-08T00:00:00.000000000'\n",
      " '2018-01-18T00:00:00.000000000' '2018-02-19T00:00:00.000000000'\n",
      " '2018-02-25T00:00:00.000000000' '2018-03-11T00:00:00.000000000'\n",
      " '2018-01-25T00:00:00.000000000' '2018-02-08T00:00:00.000000000'\n",
      " '2018-01-22T00:00:00.000000000' '2018-02-06T00:00:00.000000000'\n",
      " '2018-02-05T00:00:00.000000000' '2018-01-06T00:00:00.000000000'\n",
      " '2018-01-08T00:00:00.000000000' '2018-01-17T00:00:00.000000000'\n",
      " '2018-01-11T00:00:00.000000000' '2018-01-04T00:00:00.000000000'\n",
      " '2018-01-24T00:00:00.000000000' '2018-01-26T00:00:00.000000000'\n",
      " '2018-01-16T00:00:00.000000000' '2018-02-15T00:00:00.000000000'\n",
      " '2018-02-22T00:00:00.000000000' '2018-02-03T00:00:00.000000000'\n",
      " '2018-01-03T00:00:00.000000000' '2018-01-14T00:00:00.000000000'\n",
      " '2018-01-02T00:00:00.000000000' '2018-01-07T00:00:00.000000000'\n",
      " '2018-01-01T00:00:00.000000000']\n",
      "\n",
      "user_id\n",
      "[1000 1001 1002 1003 1004 1005 1006 1007 1008 1009 1010 1011 1012 1013\n",
      " 1014 1015 1016 1017 1018 1019 1020 1021 1022 1023 1024 1025 1026 1027\n",
      " 1028 1029 1030 1031 1032 1033 1034 1035 1036 1037 1038 1039 1040 1041\n",
      " 1042 1043 1044 1045 1046 1047 1048 1049 1050 1051 1052 1053 1054 1055\n",
      " 1056 1057 1058 1059 1060 1061 1062 1063 1064 1065 1066 1067 1068 1069\n",
      " 1070 1071 1072 1073 1074 1075 1076 1077 1078 1079 1080 1081 1082 1083\n",
      " 1084 1085 1086 1087 1088 1089 1090 1091 1092 1093 1094 1095 1096 1097\n",
      " 1098 1099 1100 1101 1102 1103 1104 1105 1106 1107 1108 1109 1110 1111\n",
      " 1112 1113 1114 1115 1116 1117 1118 1119 1120 1121 1122 1123 1124 1125\n",
      " 1126 1127 1129 1130 1131 1132 1133 1134 1135 1136 1137 1138 1139 1140\n",
      " 1141 1142 1143 1144 1145 1146 1147 1148 1149 1150 1151 1152 1153 1154\n",
      " 1155 1156 1157 1158 1159 1160 1161 1162 1163 1164 1165 1166 1167 1168\n",
      " 1169 1170 1171 1172 1173 1174 1175 1176 1177 1178 1179 1180 1181 1182\n",
      " 1183 1184 1185 1186 1187 1188 1189 1190 1191 1192 1193 1194 1195 1196\n",
      " 1197 1198 1199 1200 1201 1202 1203 1204 1205 1206 1207 1208 1209 1210\n",
      " 1211 1212 1213 1214 1215 1216 1217 1218 1219 1220 1221 1222 1223 1224\n",
      " 1225 1226 1227 1228 1229 1230 1231 1232 1233 1234 1235 1236 1237 1238\n",
      " 1239 1240 1241 1242 1243 1244 1245 1246 1247 1248 1249 1250 1251 1252\n",
      " 1253 1254 1255 1256 1257 1258 1259 1260 1261 1262 1263 1264 1265 1266\n",
      " 1267 1268 1269 1270 1271 1272 1274 1275 1276 1277 1278 1279 1280 1281\n",
      " 1282 1283 1284 1285 1286 1287 1288 1289 1290 1291 1292 1293 1294 1295\n",
      " 1296 1297 1298 1299 1300 1301 1302 1303 1304 1305 1306 1307 1308 1309\n",
      " 1310 1311 1312 1313 1314 1315 1316 1317 1318 1319 1320 1321 1322 1323\n",
      " 1324 1325 1326 1327 1328 1329 1330 1331 1332 1333 1334 1335 1336 1337\n",
      " 1338 1339 1340 1341 1342 1343 1344 1345 1346 1347 1348 1349 1350 1351\n",
      " 1352 1353 1354 1355 1356 1357 1358 1359 1360 1361 1362 1363 1364 1365\n",
      " 1366 1367 1368 1369 1370 1372 1373 1374 1375 1376 1377 1378 1379 1380\n",
      " 1381 1382 1383 1384 1385 1386 1387 1388 1389 1390 1391 1392 1393 1394\n",
      " 1395 1396 1397 1398 1399 1400 1401 1402 1403 1404 1405 1406 1407 1408\n",
      " 1409 1410 1411 1412 1413 1414 1415 1416 1417 1418 1419 1420 1421 1422\n",
      " 1423 1424 1425 1426 1427 1428 1429 1430 1431 1432 1433 1434 1435 1436\n",
      " 1437 1438 1439 1440 1441 1442 1443 1444 1445 1446 1447 1448 1449 1450\n",
      " 1451 1452 1453 1454 1455 1456 1457 1458 1459 1460 1461 1462 1463 1464\n",
      " 1465 1466 1467 1468 1469 1470 1471 1472 1473 1474 1475 1476 1477 1478\n",
      " 1479 1480 1481 1482 1483 1484 1485 1486 1487 1488 1489 1490 1491 1492\n",
      " 1493 1494 1495 1496 1497 1498 1499]\n",
      "\n"
     ]
    }
   ],
   "source": [
    "for i in internet.columns:\n",
    "    print(i)\n",
    "    print(internet[i].unique())\n",
    "    print()"
   ]
  },
  {
   "cell_type": "code",
   "execution_count": 38,
   "metadata": {},
   "outputs": [
    {
     "name": "stdout",
     "output_type": "stream",
     "text": [
      "1289_20     1\n",
      "1144_213    1\n",
      "1312_104    1\n",
      "1262_445    1\n",
      "1370_372    1\n",
      "           ..\n",
      "1433_316    1\n",
      "1466_63     1\n",
      "1370_369    1\n",
      "1079_126    1\n",
      "1350_161    1\n",
      "Name: id, Length: 149396, dtype: int64\n",
      "0.00      19598\n",
      "197.56        9\n",
      "447.30        9\n",
      "335.91        9\n",
      "108.95        8\n",
      "          ...  \n",
      "72.49         1\n",
      "846.22        1\n",
      "429.17        1\n",
      "899.03        1\n",
      "483.87        1\n",
      "Name: mb_used, Length: 70003, dtype: int64\n",
      "2018-12-31    1057\n",
      "2018-12-30     903\n",
      "2018-12-25     859\n",
      "2018-12-26     844\n",
      "2018-12-22     834\n",
      "              ... \n",
      "2018-01-05      14\n",
      "2018-01-04       9\n",
      "2018-01-03       6\n",
      "2018-01-01       3\n",
      "2018-01-02       3\n",
      "Name: session_date, Length: 365, dtype: int64\n",
      "1496    834\n",
      "1227    812\n",
      "1204    789\n",
      "1240    764\n",
      "1251    759\n",
      "       ... \n",
      "1151     35\n",
      "1467     27\n",
      "1343     26\n",
      "1192     22\n",
      "1399      8\n",
      "Name: user_id, Length: 497, dtype: int64\n"
     ]
    }
   ],
   "source": [
    "for i in internet.columns:\n",
    "    print(internet[i].value_counts())"
   ]
  },
  {
   "cell_type": "markdown",
   "metadata": {},
   "source": [
    "Обнаружено много (~19000) значений 0.00 в mb_used. Вероятно это связано с техническими проблемами оператора во время сбора статистики. Также  предоложительно это могут быть включения \"сотовых данных\" без расхода траффика. Как и в случае с calls эти значения я учитывать не буду."
   ]
  },
  {
   "cell_type": "code",
   "execution_count": 39,
   "metadata": {},
   "outputs": [],
   "source": [
    "internet = internet.query('mb_used > 0.00')"
   ]
  },
  {
   "cell_type": "markdown",
   "metadata": {},
   "source": [
    "#### 4. Округление значений "
   ]
  },
  {
   "cell_type": "code",
   "execution_count": 40,
   "metadata": {},
   "outputs": [],
   "source": [
    "# в таблице calls столбец duration стоит округлить вверх согласно политике компании, а также перевести в int т.к. значения \n",
    "#посе округления будут целочисленными"
   ]
  },
  {
   "cell_type": "code",
   "execution_count": 41,
   "metadata": {},
   "outputs": [],
   "source": [
    "import numpy as np "
   ]
  },
  {
   "cell_type": "code",
   "execution_count": 42,
   "metadata": {},
   "outputs": [],
   "source": [
    "calls['duration'] = calls['duration'].apply(np.ceil) #округлим столбец к бОльшему значению"
   ]
  },
  {
   "cell_type": "code",
   "execution_count": 43,
   "metadata": {
    "scrolled": false
   },
   "outputs": [
    {
     "data": {
      "text/html": [
       "<div>\n",
       "<style scoped>\n",
       "    .dataframe tbody tr th:only-of-type {\n",
       "        vertical-align: middle;\n",
       "    }\n",
       "\n",
       "    .dataframe tbody tr th {\n",
       "        vertical-align: top;\n",
       "    }\n",
       "\n",
       "    .dataframe thead th {\n",
       "        text-align: right;\n",
       "    }\n",
       "</style>\n",
       "<table border=\"1\" class=\"dataframe\">\n",
       "  <thead>\n",
       "    <tr style=\"text-align: right;\">\n",
       "      <th></th>\n",
       "      <th>id</th>\n",
       "      <th>call_date</th>\n",
       "      <th>duration</th>\n",
       "      <th>user_id</th>\n",
       "    </tr>\n",
       "  </thead>\n",
       "  <tbody>\n",
       "    <tr>\n",
       "      <td>2</td>\n",
       "      <td>1000_2</td>\n",
       "      <td>2018-06-11</td>\n",
       "      <td>3.0</td>\n",
       "      <td>1000</td>\n",
       "    </tr>\n",
       "    <tr>\n",
       "      <td>3</td>\n",
       "      <td>1000_3</td>\n",
       "      <td>2018-09-21</td>\n",
       "      <td>14.0</td>\n",
       "      <td>1000</td>\n",
       "    </tr>\n",
       "    <tr>\n",
       "      <td>4</td>\n",
       "      <td>1000_4</td>\n",
       "      <td>2018-12-15</td>\n",
       "      <td>6.0</td>\n",
       "      <td>1000</td>\n",
       "    </tr>\n",
       "    <tr>\n",
       "      <td>7</td>\n",
       "      <td>1000_7</td>\n",
       "      <td>2018-08-22</td>\n",
       "      <td>19.0</td>\n",
       "      <td>1000</td>\n",
       "    </tr>\n",
       "    <tr>\n",
       "      <td>8</td>\n",
       "      <td>1000_8</td>\n",
       "      <td>2018-09-15</td>\n",
       "      <td>19.0</td>\n",
       "      <td>1000</td>\n",
       "    </tr>\n",
       "  </tbody>\n",
       "</table>\n",
       "</div>"
      ],
      "text/plain": [
       "       id  call_date  duration  user_id\n",
       "2  1000_2 2018-06-11       3.0     1000\n",
       "3  1000_3 2018-09-21      14.0     1000\n",
       "4  1000_4 2018-12-15       6.0     1000\n",
       "7  1000_7 2018-08-22      19.0     1000\n",
       "8  1000_8 2018-09-15      19.0     1000"
      ]
     },
     "execution_count": 43,
     "metadata": {},
     "output_type": "execute_result"
    }
   ],
   "source": [
    "calls.head(5) #проверим изменения"
   ]
  },
  {
   "cell_type": "code",
   "execution_count": 44,
   "metadata": {},
   "outputs": [],
   "source": [
    "calls['duration'] = calls['duration'].astype('int') #переведем в int"
   ]
  },
  {
   "cell_type": "markdown",
   "metadata": {},
   "source": [
    "#### 5. Проверка на наличие дубликатов"
   ]
  },
  {
   "cell_type": "code",
   "execution_count": 45,
   "metadata": {},
   "outputs": [
    {
     "data": {
      "text/plain": [
       "0"
      ]
     },
     "execution_count": 45,
     "metadata": {},
     "output_type": "execute_result"
    }
   ],
   "source": [
    "users.duplicated().sum()"
   ]
  },
  {
   "cell_type": "code",
   "execution_count": 46,
   "metadata": {},
   "outputs": [
    {
     "data": {
      "text/plain": [
       "0"
      ]
     },
     "execution_count": 46,
     "metadata": {},
     "output_type": "execute_result"
    }
   ],
   "source": [
    "calls.duplicated().sum()"
   ]
  },
  {
   "cell_type": "code",
   "execution_count": 47,
   "metadata": {},
   "outputs": [
    {
     "data": {
      "text/plain": [
       "0"
      ]
     },
     "execution_count": 47,
     "metadata": {},
     "output_type": "execute_result"
    }
   ],
   "source": [
    "internet.duplicated().sum()"
   ]
  },
  {
   "cell_type": "code",
   "execution_count": 48,
   "metadata": {},
   "outputs": [
    {
     "data": {
      "text/plain": [
       "0"
      ]
     },
     "execution_count": 48,
     "metadata": {},
     "output_type": "execute_result"
    }
   ],
   "source": [
    "messages.duplicated().sum()"
   ]
  },
  {
   "cell_type": "markdown",
   "metadata": {},
   "source": [
    "#### 5. Удаление выбросов "
   ]
  },
  {
   "cell_type": "markdown",
   "metadata": {},
   "source": [
    "Удалим выбросы в таблице calls в столбце duration и в таблице internet в столбце mb_used. Я выбрал \n",
    "именно эти столбцы т.к. они придставленны такими количественными переменными, которые имеют большое\n",
    "разнообразие значений. В других столбцах разных таблиц тоже присутствуют колличественные переменные, однако их удаление их значений на мой взгляд бессмысленно."
   ]
  },
  {
   "cell_type": "code",
   "execution_count": 49,
   "metadata": {},
   "outputs": [],
   "source": [
    "import matplotlib.pyplot as plt "
   ]
  },
  {
   "cell_type": "code",
   "execution_count": 50,
   "metadata": {},
   "outputs": [],
   "source": [
    "# Создадим функцию для автоматизации постраения диаграмм размаха по необходимым столбцам\n",
    "# В функции я также попытался использовать метод query вместо loc, однако попытка провалилась. Её я закомментировал. \n",
    "\n",
    "def graph_creator(list, data_frame): \n",
    "    print('Диаграммы размаха')\n",
    "    for column in list: # list - спиок необходимых столбцов для анализа\n",
    "        info = data_frame[column].describe()# получаем информацию о первом (Q1) и третьем квартилях (Q2)  \n",
    "        q1 = info[4]\n",
    "        q3 = info[6]\n",
    "        iqr = q3 - q1   # считаем межквартильный размах\n",
    "        border = iqr*1.5   # cчитаем расстояние от Q1 и Q2 до границы, за которой расположены выбросы\n",
    "        plt.ylim(-0.8*border, q3 + border + 0.8*border) \n",
    "        data_frame.boxplot(column = column)  # строим диаграмму размаха\n",
    "        plt.show()\n",
    "        print('')\n",
    "        print('Избавляемся от выбросов для столбца {}, значения \\n которых больше Q3 + 1.5*IQR ({:.3f}) и меньше Q1 - 1.5*IQR ({:.3f}).'.format(column, q3 + border,q1 - border))\n",
    "        #    попытка сразу избавиться от выбросов №1 :                                                                          \n",
    "        #improved_data = data.query('@q1 - @border <= data[@column] <= @q3 + @border')\n",
    "        #    попытка избавиться от выбросов #2                                                                                                            \n",
    "        data_frame[column] = data_frame.loc[     #условие, ограничивающее нужные значения от выбросов\n",
    "            (data_frame[column] >= (q1 - border)) &  \n",
    "            (data_frame[column] <= (q3 + border)),\n",
    "            column\n",
    "         ]\n",
    "        print('')\n",
    "        print('Значения-выбросы удалены')\n",
    "        print('')\n",
    "        print('')\n",
    "    return data_frame"
   ]
  },
  {
   "cell_type": "code",
   "execution_count": 51,
   "metadata": {},
   "outputs": [
    {
     "name": "stdout",
     "output_type": "stream",
     "text": [
      "Диаграммы размаха\n"
     ]
    },
    {
     "data": {
      "image/png": "[encoded data removed]",
      "text/plain": [
       "<Figure size 432x288 with 1 Axes>"
      ]
     },
     "metadata": {
      "needs_background": "light"
     },
     "output_type": "display_data"
    },
    {
     "name": "stdout",
     "output_type": "stream",
     "text": [
      "\n",
      "Избавляемся от выбросов для столбца duration, значения \n",
      " которых больше Q3 + 1.5*IQR (22.500) и меньше Q1 - 1.5*IQR (-5.500).\n",
      "\n",
      "Значения-выбросы удалены\n",
      "\n",
      "\n"
     ]
    }
   ],
   "source": [
    "calls = graph_creator(['duration'], calls)"
   ]
  },
  {
   "cell_type": "code",
   "execution_count": 52,
   "metadata": {},
   "outputs": [
    {
     "data": {
      "text/plain": [
       "2229"
      ]
     },
     "execution_count": 52,
     "metadata": {},
     "output_type": "execute_result"
    }
   ],
   "source": [
    "# проверим сколько значений мы удалили:\n",
    "calls['duration'].isna().sum()"
   ]
  },
  {
   "cell_type": "code",
   "execution_count": 53,
   "metadata": {},
   "outputs": [
    {
     "name": "stdout",
     "output_type": "stream",
     "text": [
      "Диаграммы размаха\n"
     ]
    },
    {
     "data": {
      "image/png": "[encoded data removed]",
      "text/plain": [
       "<Figure size 432x288 with 1 Axes>"
      ]
     },
     "metadata": {
      "needs_background": "light"
     },
     "output_type": "display_data"
    },
    {
     "name": "stdout",
     "output_type": "stream",
     "text": [
      "\n",
      "Избавляемся от выбросов для столбца mb_used, значения \n",
      " которых больше Q3 + 1.5*IQR (1141.179) и меньше Q1 - 1.5*IQR (-320.771).\n",
      "\n",
      "Значения-выбросы удалены\n",
      "\n",
      "\n"
     ]
    }
   ],
   "source": [
    "internet = graph_creator(['mb_used'], internet)"
   ]
  },
  {
   "cell_type": "code",
   "execution_count": 54,
   "metadata": {},
   "outputs": [
    {
     "data": {
      "text/plain": [
       "857"
      ]
     },
     "execution_count": 54,
     "metadata": {},
     "output_type": "execute_result"
    }
   ],
   "source": [
    "# проверим сколько значений мы удалили:\n",
    "internet['mb_used'].isna().sum()"
   ]
  },
  {
   "cell_type": "markdown",
   "metadata": {},
   "source": [
    "#### 7. Расчеты"
   ]
  },
  {
   "cell_type": "markdown",
   "metadata": {},
   "source": [
    "##### количество сделанных звонков и израсходованных минут разговора по месяцам для каждого пользователя"
   ]
  },
  {
   "cell_type": "code",
   "execution_count": 55,
   "metadata": {},
   "outputs": [],
   "source": [
    "#для начала добавим столбецы c месяцеми в каждцю из таблиц\n",
    "calls['month'] = calls['call_date'].dt.month\n",
    "calls_months = calls.merge(users, on = 'user_id', how = 'left') #соединяем с users, чтобы получить \n",
    "# от туда значения трафика"
   ]
  },
  {
   "cell_type": "code",
   "execution_count": 56,
   "metadata": {},
   "outputs": [],
   "source": [
    "calls_months = calls_months.pivot_table(index = ['user_id', 'month', 'tariff'], values = 'duration', aggfunc = ['count', 'sum'])"
   ]
  },
  {
   "cell_type": "code",
   "execution_count": 57,
   "metadata": {},
   "outputs": [],
   "source": [
    "#переименуем столбцы\n",
    "calls_months.columns = ['calls_count', 'calls_duration']\n"
   ]
  },
  {
   "cell_type": "code",
   "execution_count": 58,
   "metadata": {},
   "outputs": [
    {
     "data": {
      "text/html": [
       "<div>\n",
       "<style scoped>\n",
       "    .dataframe tbody tr th:only-of-type {\n",
       "        vertical-align: middle;\n",
       "    }\n",
       "\n",
       "    .dataframe tbody tr th {\n",
       "        vertical-align: top;\n",
       "    }\n",
       "\n",
       "    .dataframe thead th {\n",
       "        text-align: right;\n",
       "    }\n",
       "</style>\n",
       "<table border=\"1\" class=\"dataframe\">\n",
       "  <thead>\n",
       "    <tr style=\"text-align: right;\">\n",
       "      <th></th>\n",
       "      <th></th>\n",
       "      <th></th>\n",
       "      <th>calls_count</th>\n",
       "      <th>calls_duration</th>\n",
       "    </tr>\n",
       "    <tr>\n",
       "      <th>user_id</th>\n",
       "      <th>month</th>\n",
       "      <th>tariff</th>\n",
       "      <th></th>\n",
       "      <th></th>\n",
       "    </tr>\n",
       "  </thead>\n",
       "  <tbody>\n",
       "    <tr>\n",
       "      <td rowspan=\"5\" valign=\"top\">1000</td>\n",
       "      <td>5</td>\n",
       "      <td>ultra</td>\n",
       "      <td>17</td>\n",
       "      <td>159.0</td>\n",
       "    </tr>\n",
       "    <tr>\n",
       "      <td>6</td>\n",
       "      <td>ultra</td>\n",
       "      <td>28</td>\n",
       "      <td>172.0</td>\n",
       "    </tr>\n",
       "    <tr>\n",
       "      <td>7</td>\n",
       "      <td>ultra</td>\n",
       "      <td>41</td>\n",
       "      <td>340.0</td>\n",
       "    </tr>\n",
       "    <tr>\n",
       "      <td>8</td>\n",
       "      <td>ultra</td>\n",
       "      <td>41</td>\n",
       "      <td>384.0</td>\n",
       "    </tr>\n",
       "    <tr>\n",
       "      <td>9</td>\n",
       "      <td>ultra</td>\n",
       "      <td>46</td>\n",
       "      <td>466.0</td>\n",
       "    </tr>\n",
       "    <tr>\n",
       "      <td>...</td>\n",
       "      <td>...</td>\n",
       "      <td>...</td>\n",
       "      <td>...</td>\n",
       "      <td>...</td>\n",
       "    </tr>\n",
       "    <tr>\n",
       "      <td>1498</td>\n",
       "      <td>10</td>\n",
       "      <td>smart</td>\n",
       "      <td>30</td>\n",
       "      <td>247.0</td>\n",
       "    </tr>\n",
       "    <tr>\n",
       "      <td rowspan=\"4\" valign=\"top\">1499</td>\n",
       "      <td>9</td>\n",
       "      <td>smart</td>\n",
       "      <td>7</td>\n",
       "      <td>45.0</td>\n",
       "    </tr>\n",
       "    <tr>\n",
       "      <td>10</td>\n",
       "      <td>smart</td>\n",
       "      <td>44</td>\n",
       "      <td>449.0</td>\n",
       "    </tr>\n",
       "    <tr>\n",
       "      <td>11</td>\n",
       "      <td>smart</td>\n",
       "      <td>61</td>\n",
       "      <td>587.0</td>\n",
       "    </tr>\n",
       "    <tr>\n",
       "      <td>12</td>\n",
       "      <td>smart</td>\n",
       "      <td>56</td>\n",
       "      <td>492.0</td>\n",
       "    </tr>\n",
       "  </tbody>\n",
       "</table>\n",
       "<p>3168 rows × 2 columns</p>\n",
       "</div>"
      ],
      "text/plain": [
       "                      calls_count  calls_duration\n",
       "user_id month tariff                             \n",
       "1000    5     ultra            17           159.0\n",
       "        6     ultra            28           172.0\n",
       "        7     ultra            41           340.0\n",
       "        8     ultra            41           384.0\n",
       "        9     ultra            46           466.0\n",
       "...                           ...             ...\n",
       "1498    10    smart            30           247.0\n",
       "1499    9     smart             7            45.0\n",
       "        10    smart            44           449.0\n",
       "        11    smart            61           587.0\n",
       "        12    smart            56           492.0\n",
       "\n",
       "[3168 rows x 2 columns]"
      ]
     },
     "execution_count": 58,
     "metadata": {},
     "output_type": "execute_result"
    }
   ],
   "source": [
    "calls_months"
   ]
  },
  {
   "cell_type": "markdown",
   "metadata": {},
   "source": [
    "##### количество отправленных сообщений по месяцам"
   ]
  },
  {
   "cell_type": "code",
   "execution_count": 59,
   "metadata": {},
   "outputs": [],
   "source": [
    "#создадим столбец с месяцом \n",
    "messages['month'] = messages['message_date'].dt.month\n",
    "messages_months = messages.merge(users, on = 'user_id', how = 'left') #соединяем с users, чтобы получить \n",
    "# от туда значения трафика\n",
    "#беру left, т.к. интересуют только те user_id, о которых идет речь в контексте сообщений "
   ]
  },
  {
   "cell_type": "code",
   "execution_count": 60,
   "metadata": {},
   "outputs": [],
   "source": [
    "messages_months = messages_months.pivot_table(index = ['user_id', 'month', 'tariff'], values = 'id', aggfunc = 'count')"
   ]
  },
  {
   "cell_type": "code",
   "execution_count": 61,
   "metadata": {},
   "outputs": [
    {
     "data": {
      "text/html": [
       "<div>\n",
       "<style scoped>\n",
       "    .dataframe tbody tr th:only-of-type {\n",
       "        vertical-align: middle;\n",
       "    }\n",
       "\n",
       "    .dataframe tbody tr th {\n",
       "        vertical-align: top;\n",
       "    }\n",
       "\n",
       "    .dataframe thead th {\n",
       "        text-align: right;\n",
       "    }\n",
       "</style>\n",
       "<table border=\"1\" class=\"dataframe\">\n",
       "  <thead>\n",
       "    <tr style=\"text-align: right;\">\n",
       "      <th></th>\n",
       "      <th></th>\n",
       "      <th></th>\n",
       "      <th>id</th>\n",
       "    </tr>\n",
       "    <tr>\n",
       "      <th>user_id</th>\n",
       "      <th>month</th>\n",
       "      <th>tariff</th>\n",
       "      <th></th>\n",
       "    </tr>\n",
       "  </thead>\n",
       "  <tbody>\n",
       "    <tr>\n",
       "      <td rowspan=\"8\" valign=\"top\">1000</td>\n",
       "      <td>5</td>\n",
       "      <td>ultra</td>\n",
       "      <td>22</td>\n",
       "    </tr>\n",
       "    <tr>\n",
       "      <td>6</td>\n",
       "      <td>ultra</td>\n",
       "      <td>60</td>\n",
       "    </tr>\n",
       "    <tr>\n",
       "      <td>7</td>\n",
       "      <td>ultra</td>\n",
       "      <td>75</td>\n",
       "    </tr>\n",
       "    <tr>\n",
       "      <td>8</td>\n",
       "      <td>ultra</td>\n",
       "      <td>81</td>\n",
       "    </tr>\n",
       "    <tr>\n",
       "      <td>9</td>\n",
       "      <td>ultra</td>\n",
       "      <td>57</td>\n",
       "    </tr>\n",
       "    <tr>\n",
       "      <td>10</td>\n",
       "      <td>ultra</td>\n",
       "      <td>73</td>\n",
       "    </tr>\n",
       "    <tr>\n",
       "      <td>11</td>\n",
       "      <td>ultra</td>\n",
       "      <td>58</td>\n",
       "    </tr>\n",
       "    <tr>\n",
       "      <td>12</td>\n",
       "      <td>ultra</td>\n",
       "      <td>70</td>\n",
       "    </tr>\n",
       "    <tr>\n",
       "      <td rowspan=\"2\" valign=\"top\">1002</td>\n",
       "      <td>6</td>\n",
       "      <td>smart</td>\n",
       "      <td>4</td>\n",
       "    </tr>\n",
       "    <tr>\n",
       "      <td>7</td>\n",
       "      <td>smart</td>\n",
       "      <td>11</td>\n",
       "    </tr>\n",
       "  </tbody>\n",
       "</table>\n",
       "</div>"
      ],
      "text/plain": [
       "                      id\n",
       "user_id month tariff    \n",
       "1000    5     ultra   22\n",
       "        6     ultra   60\n",
       "        7     ultra   75\n",
       "        8     ultra   81\n",
       "        9     ultra   57\n",
       "        10    ultra   73\n",
       "        11    ultra   58\n",
       "        12    ultra   70\n",
       "1002    6     smart    4\n",
       "        7     smart   11"
      ]
     },
     "execution_count": 61,
     "metadata": {},
     "output_type": "execute_result"
    }
   ],
   "source": [
    "messages_months.head(10)"
   ]
  },
  {
   "cell_type": "code",
   "execution_count": 62,
   "metadata": {},
   "outputs": [],
   "source": [
    "messages_months.columns = ['messages_count']"
   ]
  },
  {
   "cell_type": "markdown",
   "metadata": {},
   "source": [
    "##### объем израсходованного интернет-трафика по месяцам"
   ]
  },
  {
   "cell_type": "code",
   "execution_count": 63,
   "metadata": {},
   "outputs": [],
   "source": [
    "internet['month'] = internet['session_date'].dt.month "
   ]
  },
  {
   "cell_type": "code",
   "execution_count": 64,
   "metadata": {},
   "outputs": [],
   "source": [
    "internet_months = internet.merge(users, on = 'user_id', how = 'left')"
   ]
  },
  {
   "cell_type": "code",
   "execution_count": 65,
   "metadata": {},
   "outputs": [],
   "source": [
    "internet_months = internet_months.pivot_table(index = ['user_id', 'month', 'tariff'], values = 'mb_used', aggfunc = 'sum')"
   ]
  },
  {
   "cell_type": "code",
   "execution_count": 66,
   "metadata": {},
   "outputs": [
    {
     "data": {
      "text/html": [
       "<div>\n",
       "<style scoped>\n",
       "    .dataframe tbody tr th:only-of-type {\n",
       "        vertical-align: middle;\n",
       "    }\n",
       "\n",
       "    .dataframe tbody tr th {\n",
       "        vertical-align: top;\n",
       "    }\n",
       "\n",
       "    .dataframe thead th {\n",
       "        text-align: right;\n",
       "    }\n",
       "</style>\n",
       "<table border=\"1\" class=\"dataframe\">\n",
       "  <thead>\n",
       "    <tr style=\"text-align: right;\">\n",
       "      <th></th>\n",
       "      <th></th>\n",
       "      <th></th>\n",
       "      <th>mb_used</th>\n",
       "    </tr>\n",
       "    <tr>\n",
       "      <th>user_id</th>\n",
       "      <th>month</th>\n",
       "      <th>tariff</th>\n",
       "      <th></th>\n",
       "    </tr>\n",
       "  </thead>\n",
       "  <tbody>\n",
       "    <tr>\n",
       "      <td rowspan=\"5\" valign=\"top\">1000</td>\n",
       "      <td>5</td>\n",
       "      <td>ultra</td>\n",
       "      <td>2253.49</td>\n",
       "    </tr>\n",
       "    <tr>\n",
       "      <td>6</td>\n",
       "      <td>ultra</td>\n",
       "      <td>22036.51</td>\n",
       "    </tr>\n",
       "    <tr>\n",
       "      <td>7</td>\n",
       "      <td>ultra</td>\n",
       "      <td>14003.64</td>\n",
       "    </tr>\n",
       "    <tr>\n",
       "      <td>8</td>\n",
       "      <td>ultra</td>\n",
       "      <td>14055.93</td>\n",
       "    </tr>\n",
       "    <tr>\n",
       "      <td>9</td>\n",
       "      <td>ultra</td>\n",
       "      <td>14568.91</td>\n",
       "    </tr>\n",
       "  </tbody>\n",
       "</table>\n",
       "</div>"
      ],
      "text/plain": [
       "                       mb_used\n",
       "user_id month tariff          \n",
       "1000    5     ultra    2253.49\n",
       "        6     ultra   22036.51\n",
       "        7     ultra   14003.64\n",
       "        8     ultra   14055.93\n",
       "        9     ultra   14568.91"
      ]
     },
     "execution_count": 66,
     "metadata": {},
     "output_type": "execute_result"
    }
   ],
   "source": [
    "internet_months.head()"
   ]
  },
  {
   "cell_type": "markdown",
   "metadata": {},
   "source": [
    "##### помесячную выручку с каждого пользователя (вычтите бесплатный лимит из суммарного количества звонков, сообщений и интернет-трафика; остаток умножьте на значение из тарифного плана)"
   ]
  },
  {
   "cell_type": "code",
   "execution_count": 67,
   "metadata": {},
   "outputs": [],
   "source": [
    "#склеим предыдущие таблицы. Применим merge() c параметром how = outer т.к нам важны все услуги, предо-\n",
    "#ставленные пользователю\n",
    "months_stat = calls_months.merge(messages_months, on = ['user_id', 'month', 'tariff'], how = 'outer').merge(\n",
    "    internet_months, on = ['user_id', 'month', 'tariff'], how = 'outer')"
   ]
  },
  {
   "cell_type": "code",
   "execution_count": 68,
   "metadata": {},
   "outputs": [
    {
     "data": {
      "text/html": [
       "<div>\n",
       "<style scoped>\n",
       "    .dataframe tbody tr th:only-of-type {\n",
       "        vertical-align: middle;\n",
       "    }\n",
       "\n",
       "    .dataframe tbody tr th {\n",
       "        vertical-align: top;\n",
       "    }\n",
       "\n",
       "    .dataframe thead th {\n",
       "        text-align: right;\n",
       "    }\n",
       "</style>\n",
       "<table border=\"1\" class=\"dataframe\">\n",
       "  <thead>\n",
       "    <tr style=\"text-align: right;\">\n",
       "      <th></th>\n",
       "      <th></th>\n",
       "      <th></th>\n",
       "      <th>calls_count</th>\n",
       "      <th>calls_duration</th>\n",
       "      <th>messages_count</th>\n",
       "      <th>mb_used</th>\n",
       "    </tr>\n",
       "    <tr>\n",
       "      <th>user_id</th>\n",
       "      <th>month</th>\n",
       "      <th>tariff</th>\n",
       "      <th></th>\n",
       "      <th></th>\n",
       "      <th></th>\n",
       "      <th></th>\n",
       "    </tr>\n",
       "  </thead>\n",
       "  <tbody>\n",
       "    <tr>\n",
       "      <td rowspan=\"5\" valign=\"top\">1000</td>\n",
       "      <td>5</td>\n",
       "      <td>ultra</td>\n",
       "      <td>17.0</td>\n",
       "      <td>159.0</td>\n",
       "      <td>22.0</td>\n",
       "      <td>2253.49</td>\n",
       "    </tr>\n",
       "    <tr>\n",
       "      <td>6</td>\n",
       "      <td>ultra</td>\n",
       "      <td>28.0</td>\n",
       "      <td>172.0</td>\n",
       "      <td>60.0</td>\n",
       "      <td>22036.51</td>\n",
       "    </tr>\n",
       "    <tr>\n",
       "      <td>7</td>\n",
       "      <td>ultra</td>\n",
       "      <td>41.0</td>\n",
       "      <td>340.0</td>\n",
       "      <td>75.0</td>\n",
       "      <td>14003.64</td>\n",
       "    </tr>\n",
       "    <tr>\n",
       "      <td>8</td>\n",
       "      <td>ultra</td>\n",
       "      <td>41.0</td>\n",
       "      <td>384.0</td>\n",
       "      <td>81.0</td>\n",
       "      <td>14055.93</td>\n",
       "    </tr>\n",
       "    <tr>\n",
       "      <td>9</td>\n",
       "      <td>ultra</td>\n",
       "      <td>46.0</td>\n",
       "      <td>466.0</td>\n",
       "      <td>57.0</td>\n",
       "      <td>14568.91</td>\n",
       "    </tr>\n",
       "  </tbody>\n",
       "</table>\n",
       "</div>"
      ],
      "text/plain": [
       "                      calls_count  calls_duration  messages_count   mb_used\n",
       "user_id month tariff                                                       \n",
       "1000    5     ultra          17.0           159.0            22.0   2253.49\n",
       "        6     ultra          28.0           172.0            60.0  22036.51\n",
       "        7     ultra          41.0           340.0            75.0  14003.64\n",
       "        8     ultra          41.0           384.0            81.0  14055.93\n",
       "        9     ultra          46.0           466.0            57.0  14568.91"
      ]
     },
     "execution_count": 68,
     "metadata": {},
     "output_type": "execute_result"
    }
   ],
   "source": [
    "months_stat.head(5)"
   ]
  },
  {
   "cell_type": "code",
   "execution_count": 69,
   "metadata": {},
   "outputs": [],
   "source": [
    "months_stat = months_stat.reset_index(level=['user_id', 'month', 'tariff']) #избавимся от мультииндекса для\n",
    "#удобства дальнейших расчетов"
   ]
  },
  {
   "cell_type": "code",
   "execution_count": 70,
   "metadata": {},
   "outputs": [
    {
     "data": {
      "text/html": [
       "<div>\n",
       "<style scoped>\n",
       "    .dataframe tbody tr th:only-of-type {\n",
       "        vertical-align: middle;\n",
       "    }\n",
       "\n",
       "    .dataframe tbody tr th {\n",
       "        vertical-align: top;\n",
       "    }\n",
       "\n",
       "    .dataframe thead th {\n",
       "        text-align: right;\n",
       "    }\n",
       "</style>\n",
       "<table border=\"1\" class=\"dataframe\">\n",
       "  <thead>\n",
       "    <tr style=\"text-align: right;\">\n",
       "      <th></th>\n",
       "      <th>user_id</th>\n",
       "      <th>month</th>\n",
       "      <th>tariff</th>\n",
       "      <th>calls_count</th>\n",
       "      <th>calls_duration</th>\n",
       "      <th>messages_count</th>\n",
       "      <th>mb_used</th>\n",
       "    </tr>\n",
       "  </thead>\n",
       "  <tbody>\n",
       "    <tr>\n",
       "      <td>0</td>\n",
       "      <td>1000</td>\n",
       "      <td>5</td>\n",
       "      <td>ultra</td>\n",
       "      <td>17.0</td>\n",
       "      <td>159.0</td>\n",
       "      <td>22.0</td>\n",
       "      <td>2253.49</td>\n",
       "    </tr>\n",
       "    <tr>\n",
       "      <td>1</td>\n",
       "      <td>1000</td>\n",
       "      <td>6</td>\n",
       "      <td>ultra</td>\n",
       "      <td>28.0</td>\n",
       "      <td>172.0</td>\n",
       "      <td>60.0</td>\n",
       "      <td>22036.51</td>\n",
       "    </tr>\n",
       "    <tr>\n",
       "      <td>2</td>\n",
       "      <td>1000</td>\n",
       "      <td>7</td>\n",
       "      <td>ultra</td>\n",
       "      <td>41.0</td>\n",
       "      <td>340.0</td>\n",
       "      <td>75.0</td>\n",
       "      <td>14003.64</td>\n",
       "    </tr>\n",
       "    <tr>\n",
       "      <td>3</td>\n",
       "      <td>1000</td>\n",
       "      <td>8</td>\n",
       "      <td>ultra</td>\n",
       "      <td>41.0</td>\n",
       "      <td>384.0</td>\n",
       "      <td>81.0</td>\n",
       "      <td>14055.93</td>\n",
       "    </tr>\n",
       "    <tr>\n",
       "      <td>4</td>\n",
       "      <td>1000</td>\n",
       "      <td>9</td>\n",
       "      <td>ultra</td>\n",
       "      <td>46.0</td>\n",
       "      <td>466.0</td>\n",
       "      <td>57.0</td>\n",
       "      <td>14568.91</td>\n",
       "    </tr>\n",
       "  </tbody>\n",
       "</table>\n",
       "</div>"
      ],
      "text/plain": [
       "   user_id  month tariff  calls_count  calls_duration  messages_count  \\\n",
       "0     1000      5  ultra         17.0           159.0            22.0   \n",
       "1     1000      6  ultra         28.0           172.0            60.0   \n",
       "2     1000      7  ultra         41.0           340.0            75.0   \n",
       "3     1000      8  ultra         41.0           384.0            81.0   \n",
       "4     1000      9  ultra         46.0           466.0            57.0   \n",
       "\n",
       "    mb_used  \n",
       "0   2253.49  \n",
       "1  22036.51  \n",
       "2  14003.64  \n",
       "3  14055.93  \n",
       "4  14568.91  "
      ]
     },
     "execution_count": 70,
     "metadata": {},
     "output_type": "execute_result"
    }
   ],
   "source": [
    "months_stat.head()"
   ]
  },
  {
   "cell_type": "code",
   "execution_count": 71,
   "metadata": {},
   "outputs": [
    {
     "data": {
      "text/html": [
       "<div>\n",
       "<style scoped>\n",
       "    .dataframe tbody tr th:only-of-type {\n",
       "        vertical-align: middle;\n",
       "    }\n",
       "\n",
       "    .dataframe tbody tr th {\n",
       "        vertical-align: top;\n",
       "    }\n",
       "\n",
       "    .dataframe thead th {\n",
       "        text-align: right;\n",
       "    }\n",
       "</style>\n",
       "<table border=\"1\" class=\"dataframe\">\n",
       "  <thead>\n",
       "    <tr style=\"text-align: right;\">\n",
       "      <th></th>\n",
       "      <th>messages_included</th>\n",
       "      <th>mg_per_month_included</th>\n",
       "      <th>minutes_included</th>\n",
       "      <th>rub_monthly_fee</th>\n",
       "      <th>rub_per_gb</th>\n",
       "      <th>rub_per_message</th>\n",
       "      <th>rub_per_minute</th>\n",
       "      <th>tariff_name</th>\n",
       "    </tr>\n",
       "  </thead>\n",
       "  <tbody>\n",
       "    <tr>\n",
       "      <td>0</td>\n",
       "      <td>50</td>\n",
       "      <td>15360</td>\n",
       "      <td>500</td>\n",
       "      <td>550</td>\n",
       "      <td>200</td>\n",
       "      <td>3</td>\n",
       "      <td>3</td>\n",
       "      <td>smart</td>\n",
       "    </tr>\n",
       "    <tr>\n",
       "      <td>1</td>\n",
       "      <td>1000</td>\n",
       "      <td>30720</td>\n",
       "      <td>3000</td>\n",
       "      <td>1950</td>\n",
       "      <td>150</td>\n",
       "      <td>1</td>\n",
       "      <td>1</td>\n",
       "      <td>ultra</td>\n",
       "    </tr>\n",
       "  </tbody>\n",
       "</table>\n",
       "</div>"
      ],
      "text/plain": [
       "   messages_included  mg_per_month_included  minutes_included  \\\n",
       "0                 50                  15360               500   \n",
       "1               1000                  30720              3000   \n",
       "\n",
       "   rub_monthly_fee  rub_per_gb  rub_per_message  rub_per_minute tariff_name  \n",
       "0              550         200                3               3       smart  \n",
       "1             1950         150                1               1       ultra  "
      ]
     },
     "execution_count": 71,
     "metadata": {},
     "output_type": "execute_result"
    }
   ],
   "source": [
    "tariffs.head()"
   ]
  },
  {
   "cell_type": "code",
   "execution_count": 72,
   "metadata": {},
   "outputs": [],
   "source": [
    "import math"
   ]
  },
  {
   "cell_type": "code",
   "execution_count": 73,
   "metadata": {},
   "outputs": [],
   "source": [
    "#расчет прибыли для каждой строки тоблицы\n",
    "#я не стал использовать для расчетов таблицу tariffs, потому что мне это показалось еще сложнее, \n",
    "#чем код ниже\n",
    "\n",
    "income = [] # здесь будет хранится список из прибылей каждого клиента по порядку по месяцам\n",
    "for i in range(len(months_stat)):\n",
    "    total_income_per_string = 0\n",
    "    \n",
    "    if months_stat.loc[i, 'tariff'] == 'ultra':\n",
    "        tariff_price = 1950\n",
    "        income_calls = 0            #если потрачено минут звонков за месяц больше бесплатного лимита\n",
    "        if (3000 - months_stat.loc[i, 'calls_duration']) < 0: #то разность отрицательная => доплата\n",
    "            income_calls += (abs(3000 - months_stat.loc[i, 'calls_duration'])*1)\n",
    "            \n",
    "        income_messages = 0\n",
    "        if (1000 - months_stat.loc[i, 'messages_count']) < 0: \n",
    "            income_messages += (abs(1000 - months_stat.loc[i, 'messages_count'])*1)\n",
    "            \n",
    "        income_internet = 0\n",
    "        if (30720 - months_stat.loc[i, 'mb_used']) < 0:\n",
    "            #получаем положительное значение делим на 1024 и получаем количество Гб\n",
    "            #окугляем количество гб до целого значения к потолку с помощью ceil и умножаем на цену за\n",
    "            #один Гб\n",
    "            income_internet += (math.ceil((abs(30720 - months_stat.loc[i, 'mb_used'])/1024))) * 150 \n",
    "            \n",
    "        total_income_per_string = income_calls + income_messages + income_internet + tariff_price\n",
    "        income.append(total_income_per_string)\n",
    "        \n",
    "    if months_stat.loc[i, 'tariff'] == 'smart':\n",
    "    \n",
    "        tariff_price = 550 \n",
    "        income_calls = 0            #если потрачено минут звонков за месяц больше бесплатного лимита\n",
    "        if (3000 - months_stat.loc[i, 'calls_duration']) < 0: #то разность отрицательная => доплата\n",
    "            income_calls += (abs(500 - months_stat.loc[i, 'calls_duration'])*3)\n",
    "            \n",
    "        income_messages = 0\n",
    "        if (1000 - months_stat.loc[i, 'messages_count']) < 0: \n",
    "            income_messages += (abs(50 - months_stat.loc[i, 'messages_count'])*3)\n",
    "            \n",
    "        income_internet = 0\n",
    "        if (15360 - months_stat.loc[i, 'mb_used']) < 0:\n",
    "            #получаем положительное значение делим на 1024 и получаем количество Гб\n",
    "            #окугляем количество гб до целого значения к потолку с помощью ceil и умножаем на цену за\n",
    "            #один Гб\n",
    "            income_internet += (math.ceil((abs(15360 - months_stat.loc[i, 'mb_used'])/1024))) * 200 \n",
    "            \n",
    "        total_income_per_string = income_calls + income_messages + income_internet + tariff_price\n",
    "        income.append(total_income_per_string)\n",
    "       \n"
   ]
  },
  {
   "cell_type": "code",
   "execution_count": 74,
   "metadata": {},
   "outputs": [],
   "source": [
    "income = pd.DataFrame(data = income, columns = ['income'])  #создадим Series, которы затем добавим в осн таблицу\n"
   ]
  },
  {
   "cell_type": "code",
   "execution_count": 75,
   "metadata": {},
   "outputs": [],
   "source": [
    "months_stat['income'] = income # добавим столбец с прибылью по месяцам "
   ]
  },
  {
   "cell_type": "code",
   "execution_count": 76,
   "metadata": {},
   "outputs": [
    {
     "data": {
      "text/html": [
       "<div>\n",
       "<style scoped>\n",
       "    .dataframe tbody tr th:only-of-type {\n",
       "        vertical-align: middle;\n",
       "    }\n",
       "\n",
       "    .dataframe tbody tr th {\n",
       "        vertical-align: top;\n",
       "    }\n",
       "\n",
       "    .dataframe thead th {\n",
       "        text-align: right;\n",
       "    }\n",
       "</style>\n",
       "<table border=\"1\" class=\"dataframe\">\n",
       "  <thead>\n",
       "    <tr style=\"text-align: right;\">\n",
       "      <th></th>\n",
       "      <th>user_id</th>\n",
       "      <th>month</th>\n",
       "      <th>tariff</th>\n",
       "      <th>calls_count</th>\n",
       "      <th>calls_duration</th>\n",
       "      <th>messages_count</th>\n",
       "      <th>mb_used</th>\n",
       "      <th>income</th>\n",
       "    </tr>\n",
       "  </thead>\n",
       "  <tbody>\n",
       "    <tr>\n",
       "      <td>0</td>\n",
       "      <td>1000</td>\n",
       "      <td>5</td>\n",
       "      <td>ultra</td>\n",
       "      <td>17.0</td>\n",
       "      <td>159.0</td>\n",
       "      <td>22.0</td>\n",
       "      <td>2253.49</td>\n",
       "      <td>1950</td>\n",
       "    </tr>\n",
       "    <tr>\n",
       "      <td>1</td>\n",
       "      <td>1000</td>\n",
       "      <td>6</td>\n",
       "      <td>ultra</td>\n",
       "      <td>28.0</td>\n",
       "      <td>172.0</td>\n",
       "      <td>60.0</td>\n",
       "      <td>22036.51</td>\n",
       "      <td>1950</td>\n",
       "    </tr>\n",
       "    <tr>\n",
       "      <td>2</td>\n",
       "      <td>1000</td>\n",
       "      <td>7</td>\n",
       "      <td>ultra</td>\n",
       "      <td>41.0</td>\n",
       "      <td>340.0</td>\n",
       "      <td>75.0</td>\n",
       "      <td>14003.64</td>\n",
       "      <td>1950</td>\n",
       "    </tr>\n",
       "    <tr>\n",
       "      <td>3</td>\n",
       "      <td>1000</td>\n",
       "      <td>8</td>\n",
       "      <td>ultra</td>\n",
       "      <td>41.0</td>\n",
       "      <td>384.0</td>\n",
       "      <td>81.0</td>\n",
       "      <td>14055.93</td>\n",
       "      <td>1950</td>\n",
       "    </tr>\n",
       "    <tr>\n",
       "      <td>4</td>\n",
       "      <td>1000</td>\n",
       "      <td>9</td>\n",
       "      <td>ultra</td>\n",
       "      <td>46.0</td>\n",
       "      <td>466.0</td>\n",
       "      <td>57.0</td>\n",
       "      <td>14568.91</td>\n",
       "      <td>1950</td>\n",
       "    </tr>\n",
       "    <tr>\n",
       "      <td>5</td>\n",
       "      <td>1000</td>\n",
       "      <td>10</td>\n",
       "      <td>ultra</td>\n",
       "      <td>43.0</td>\n",
       "      <td>327.0</td>\n",
       "      <td>73.0</td>\n",
       "      <td>14702.49</td>\n",
       "      <td>1950</td>\n",
       "    </tr>\n",
       "    <tr>\n",
       "      <td>6</td>\n",
       "      <td>1000</td>\n",
       "      <td>11</td>\n",
       "      <td>ultra</td>\n",
       "      <td>36.0</td>\n",
       "      <td>313.0</td>\n",
       "      <td>58.0</td>\n",
       "      <td>12142.68</td>\n",
       "      <td>1950</td>\n",
       "    </tr>\n",
       "    <tr>\n",
       "      <td>7</td>\n",
       "      <td>1000</td>\n",
       "      <td>12</td>\n",
       "      <td>ultra</td>\n",
       "      <td>37.0</td>\n",
       "      <td>309.0</td>\n",
       "      <td>70.0</td>\n",
       "      <td>9817.61</td>\n",
       "      <td>1950</td>\n",
       "    </tr>\n",
       "    <tr>\n",
       "      <td>8</td>\n",
       "      <td>1001</td>\n",
       "      <td>11</td>\n",
       "      <td>smart</td>\n",
       "      <td>45.0</td>\n",
       "      <td>430.0</td>\n",
       "      <td>NaN</td>\n",
       "      <td>18429.34</td>\n",
       "      <td>1150</td>\n",
       "    </tr>\n",
       "    <tr>\n",
       "      <td>9</td>\n",
       "      <td>1001</td>\n",
       "      <td>12</td>\n",
       "      <td>smart</td>\n",
       "      <td>47.0</td>\n",
       "      <td>414.0</td>\n",
       "      <td>NaN</td>\n",
       "      <td>14036.66</td>\n",
       "      <td>550</td>\n",
       "    </tr>\n",
       "    <tr>\n",
       "      <td>10</td>\n",
       "      <td>1002</td>\n",
       "      <td>6</td>\n",
       "      <td>smart</td>\n",
       "      <td>13.0</td>\n",
       "      <td>94.0</td>\n",
       "      <td>4.0</td>\n",
       "      <td>10856.82</td>\n",
       "      <td>550</td>\n",
       "    </tr>\n",
       "    <tr>\n",
       "      <td>11</td>\n",
       "      <td>1002</td>\n",
       "      <td>7</td>\n",
       "      <td>smart</td>\n",
       "      <td>20.0</td>\n",
       "      <td>187.0</td>\n",
       "      <td>11.0</td>\n",
       "      <td>17580.10</td>\n",
       "      <td>1150</td>\n",
       "    </tr>\n",
       "    <tr>\n",
       "      <td>12</td>\n",
       "      <td>1002</td>\n",
       "      <td>8</td>\n",
       "      <td>smart</td>\n",
       "      <td>37.0</td>\n",
       "      <td>289.0</td>\n",
       "      <td>13.0</td>\n",
       "      <td>20319.26</td>\n",
       "      <td>1550</td>\n",
       "    </tr>\n",
       "    <tr>\n",
       "      <td>13</td>\n",
       "      <td>1002</td>\n",
       "      <td>9</td>\n",
       "      <td>smart</td>\n",
       "      <td>25.0</td>\n",
       "      <td>206.0</td>\n",
       "      <td>4.0</td>\n",
       "      <td>16691.08</td>\n",
       "      <td>950</td>\n",
       "    </tr>\n",
       "    <tr>\n",
       "      <td>14</td>\n",
       "      <td>1002</td>\n",
       "      <td>10</td>\n",
       "      <td>smart</td>\n",
       "      <td>24.0</td>\n",
       "      <td>212.0</td>\n",
       "      <td>10.0</td>\n",
       "      <td>13888.25</td>\n",
       "      <td>550</td>\n",
       "    </tr>\n",
       "    <tr>\n",
       "      <td>15</td>\n",
       "      <td>1002</td>\n",
       "      <td>11</td>\n",
       "      <td>smart</td>\n",
       "      <td>25.0</td>\n",
       "      <td>243.0</td>\n",
       "      <td>16.0</td>\n",
       "      <td>18587.28</td>\n",
       "      <td>1350</td>\n",
       "    </tr>\n",
       "    <tr>\n",
       "      <td>16</td>\n",
       "      <td>1002</td>\n",
       "      <td>12</td>\n",
       "      <td>smart</td>\n",
       "      <td>27.0</td>\n",
       "      <td>236.0</td>\n",
       "      <td>12.0</td>\n",
       "      <td>18113.73</td>\n",
       "      <td>1150</td>\n",
       "    </tr>\n",
       "    <tr>\n",
       "      <td>17</td>\n",
       "      <td>1003</td>\n",
       "      <td>8</td>\n",
       "      <td>ultra</td>\n",
       "      <td>43.0</td>\n",
       "      <td>380.0</td>\n",
       "      <td>37.0</td>\n",
       "      <td>8565.21</td>\n",
       "      <td>1950</td>\n",
       "    </tr>\n",
       "    <tr>\n",
       "      <td>18</td>\n",
       "      <td>1003</td>\n",
       "      <td>9</td>\n",
       "      <td>ultra</td>\n",
       "      <td>104.0</td>\n",
       "      <td>938.0</td>\n",
       "      <td>91.0</td>\n",
       "      <td>12468.87</td>\n",
       "      <td>1950</td>\n",
       "    </tr>\n",
       "    <tr>\n",
       "      <td>19</td>\n",
       "      <td>1003</td>\n",
       "      <td>10</td>\n",
       "      <td>ultra</td>\n",
       "      <td>97.0</td>\n",
       "      <td>855.0</td>\n",
       "      <td>83.0</td>\n",
       "      <td>11068.41</td>\n",
       "      <td>1950</td>\n",
       "    </tr>\n",
       "    <tr>\n",
       "      <td>20</td>\n",
       "      <td>1003</td>\n",
       "      <td>11</td>\n",
       "      <td>ultra</td>\n",
       "      <td>94.0</td>\n",
       "      <td>797.0</td>\n",
       "      <td>94.0</td>\n",
       "      <td>11356.89</td>\n",
       "      <td>1950</td>\n",
       "    </tr>\n",
       "    <tr>\n",
       "      <td>21</td>\n",
       "      <td>1003</td>\n",
       "      <td>12</td>\n",
       "      <td>ultra</td>\n",
       "      <td>88.0</td>\n",
       "      <td>802.0</td>\n",
       "      <td>75.0</td>\n",
       "      <td>10121.53</td>\n",
       "      <td>1950</td>\n",
       "    </tr>\n",
       "    <tr>\n",
       "      <td>22</td>\n",
       "      <td>1004</td>\n",
       "      <td>5</td>\n",
       "      <td>ultra</td>\n",
       "      <td>7.0</td>\n",
       "      <td>35.0</td>\n",
       "      <td>95.0</td>\n",
       "      <td>13403.98</td>\n",
       "      <td>1950</td>\n",
       "    </tr>\n",
       "    <tr>\n",
       "      <td>23</td>\n",
       "      <td>1004</td>\n",
       "      <td>6</td>\n",
       "      <td>ultra</td>\n",
       "      <td>25.0</td>\n",
       "      <td>171.0</td>\n",
       "      <td>134.0</td>\n",
       "      <td>16331.30</td>\n",
       "      <td>1950</td>\n",
       "    </tr>\n",
       "    <tr>\n",
       "      <td>24</td>\n",
       "      <td>1004</td>\n",
       "      <td>7</td>\n",
       "      <td>ultra</td>\n",
       "      <td>20.0</td>\n",
       "      <td>135.0</td>\n",
       "      <td>181.0</td>\n",
       "      <td>19779.21</td>\n",
       "      <td>1950</td>\n",
       "    </tr>\n",
       "    <tr>\n",
       "      <td>25</td>\n",
       "      <td>1004</td>\n",
       "      <td>8</td>\n",
       "      <td>ultra</td>\n",
       "      <td>18.0</td>\n",
       "      <td>137.0</td>\n",
       "      <td>151.0</td>\n",
       "      <td>27271.64</td>\n",
       "      <td>1950</td>\n",
       "    </tr>\n",
       "    <tr>\n",
       "      <td>26</td>\n",
       "      <td>1004</td>\n",
       "      <td>9</td>\n",
       "      <td>ultra</td>\n",
       "      <td>18.0</td>\n",
       "      <td>117.0</td>\n",
       "      <td>146.0</td>\n",
       "      <td>15109.03</td>\n",
       "      <td>1950</td>\n",
       "    </tr>\n",
       "    <tr>\n",
       "      <td>27</td>\n",
       "      <td>1004</td>\n",
       "      <td>10</td>\n",
       "      <td>ultra</td>\n",
       "      <td>21.0</td>\n",
       "      <td>145.0</td>\n",
       "      <td>165.0</td>\n",
       "      <td>18475.44</td>\n",
       "      <td>1950</td>\n",
       "    </tr>\n",
       "    <tr>\n",
       "      <td>28</td>\n",
       "      <td>1004</td>\n",
       "      <td>11</td>\n",
       "      <td>ultra</td>\n",
       "      <td>15.0</td>\n",
       "      <td>117.0</td>\n",
       "      <td>158.0</td>\n",
       "      <td>14382.06</td>\n",
       "      <td>1950</td>\n",
       "    </tr>\n",
       "    <tr>\n",
       "      <td>29</td>\n",
       "      <td>1004</td>\n",
       "      <td>12</td>\n",
       "      <td>ultra</td>\n",
       "      <td>15.0</td>\n",
       "      <td>130.0</td>\n",
       "      <td>162.0</td>\n",
       "      <td>16795.40</td>\n",
       "      <td>1950</td>\n",
       "    </tr>\n",
       "    <tr>\n",
       "      <td>30</td>\n",
       "      <td>1005</td>\n",
       "      <td>1</td>\n",
       "      <td>smart</td>\n",
       "      <td>11.0</td>\n",
       "      <td>95.0</td>\n",
       "      <td>7.0</td>\n",
       "      <td>2727.97</td>\n",
       "      <td>550</td>\n",
       "    </tr>\n",
       "    <tr>\n",
       "      <td>31</td>\n",
       "      <td>1005</td>\n",
       "      <td>2</td>\n",
       "      <td>smart</td>\n",
       "      <td>54.0</td>\n",
       "      <td>433.0</td>\n",
       "      <td>38.0</td>\n",
       "      <td>7383.93</td>\n",
       "      <td>550</td>\n",
       "    </tr>\n",
       "    <tr>\n",
       "      <td>32</td>\n",
       "      <td>1005</td>\n",
       "      <td>3</td>\n",
       "      <td>smart</td>\n",
       "      <td>61.0</td>\n",
       "      <td>559.0</td>\n",
       "      <td>56.0</td>\n",
       "      <td>11104.25</td>\n",
       "      <td>550</td>\n",
       "    </tr>\n",
       "    <tr>\n",
       "      <td>33</td>\n",
       "      <td>1005</td>\n",
       "      <td>4</td>\n",
       "      <td>smart</td>\n",
       "      <td>76.0</td>\n",
       "      <td>687.0</td>\n",
       "      <td>41.0</td>\n",
       "      <td>9351.72</td>\n",
       "      <td>550</td>\n",
       "    </tr>\n",
       "    <tr>\n",
       "      <td>34</td>\n",
       "      <td>1005</td>\n",
       "      <td>5</td>\n",
       "      <td>smart</td>\n",
       "      <td>60.0</td>\n",
       "      <td>549.0</td>\n",
       "      <td>42.0</td>\n",
       "      <td>7865.53</td>\n",
       "      <td>550</td>\n",
       "    </tr>\n",
       "    <tr>\n",
       "      <td>35</td>\n",
       "      <td>1005</td>\n",
       "      <td>6</td>\n",
       "      <td>smart</td>\n",
       "      <td>68.0</td>\n",
       "      <td>586.0</td>\n",
       "      <td>47.0</td>\n",
       "      <td>9863.19</td>\n",
       "      <td>550</td>\n",
       "    </tr>\n",
       "    <tr>\n",
       "      <td>36</td>\n",
       "      <td>1005</td>\n",
       "      <td>7</td>\n",
       "      <td>smart</td>\n",
       "      <td>62.0</td>\n",
       "      <td>569.0</td>\n",
       "      <td>56.0</td>\n",
       "      <td>7694.56</td>\n",
       "      <td>550</td>\n",
       "    </tr>\n",
       "    <tr>\n",
       "      <td>37</td>\n",
       "      <td>1005</td>\n",
       "      <td>8</td>\n",
       "      <td>smart</td>\n",
       "      <td>62.0</td>\n",
       "      <td>569.0</td>\n",
       "      <td>64.0</td>\n",
       "      <td>7543.63</td>\n",
       "      <td>550</td>\n",
       "    </tr>\n",
       "    <tr>\n",
       "      <td>38</td>\n",
       "      <td>1005</td>\n",
       "      <td>9</td>\n",
       "      <td>smart</td>\n",
       "      <td>57.0</td>\n",
       "      <td>479.0</td>\n",
       "      <td>52.0</td>\n",
       "      <td>7016.46</td>\n",
       "      <td>550</td>\n",
       "    </tr>\n",
       "    <tr>\n",
       "      <td>39</td>\n",
       "      <td>1005</td>\n",
       "      <td>10</td>\n",
       "      <td>smart</td>\n",
       "      <td>77.0</td>\n",
       "      <td>700.0</td>\n",
       "      <td>44.0</td>\n",
       "      <td>7800.93</td>\n",
       "      <td>550</td>\n",
       "    </tr>\n",
       "    <tr>\n",
       "      <td>40</td>\n",
       "      <td>1005</td>\n",
       "      <td>11</td>\n",
       "      <td>smart</td>\n",
       "      <td>59.0</td>\n",
       "      <td>521.0</td>\n",
       "      <td>51.0</td>\n",
       "      <td>12666.95</td>\n",
       "      <td>550</td>\n",
       "    </tr>\n",
       "    <tr>\n",
       "      <td>41</td>\n",
       "      <td>1005</td>\n",
       "      <td>12</td>\n",
       "      <td>smart</td>\n",
       "      <td>60.0</td>\n",
       "      <td>519.0</td>\n",
       "      <td>54.0</td>\n",
       "      <td>8668.19</td>\n",
       "      <td>550</td>\n",
       "    </tr>\n",
       "    <tr>\n",
       "      <td>42</td>\n",
       "      <td>1006</td>\n",
       "      <td>2</td>\n",
       "      <td>smart</td>\n",
       "      <td>3.0</td>\n",
       "      <td>42.0</td>\n",
       "      <td>NaN</td>\n",
       "      <td>1392.15</td>\n",
       "      <td>550</td>\n",
       "    </tr>\n",
       "    <tr>\n",
       "      <td>43</td>\n",
       "      <td>1006</td>\n",
       "      <td>3</td>\n",
       "      <td>smart</td>\n",
       "      <td>36.0</td>\n",
       "      <td>286.0</td>\n",
       "      <td>NaN</td>\n",
       "      <td>17287.93</td>\n",
       "      <td>950</td>\n",
       "    </tr>\n",
       "    <tr>\n",
       "      <td>44</td>\n",
       "      <td>1006</td>\n",
       "      <td>4</td>\n",
       "      <td>smart</td>\n",
       "      <td>37.0</td>\n",
       "      <td>333.0</td>\n",
       "      <td>NaN</td>\n",
       "      <td>13936.70</td>\n",
       "      <td>550</td>\n",
       "    </tr>\n",
       "    <tr>\n",
       "      <td>45</td>\n",
       "      <td>1006</td>\n",
       "      <td>5</td>\n",
       "      <td>smart</td>\n",
       "      <td>44.0</td>\n",
       "      <td>345.0</td>\n",
       "      <td>NaN</td>\n",
       "      <td>12965.41</td>\n",
       "      <td>550</td>\n",
       "    </tr>\n",
       "    <tr>\n",
       "      <td>46</td>\n",
       "      <td>1006</td>\n",
       "      <td>6</td>\n",
       "      <td>smart</td>\n",
       "      <td>48.0</td>\n",
       "      <td>478.0</td>\n",
       "      <td>NaN</td>\n",
       "      <td>12371.66</td>\n",
       "      <td>550</td>\n",
       "    </tr>\n",
       "    <tr>\n",
       "      <td>47</td>\n",
       "      <td>1006</td>\n",
       "      <td>7</td>\n",
       "      <td>smart</td>\n",
       "      <td>38.0</td>\n",
       "      <td>316.0</td>\n",
       "      <td>NaN</td>\n",
       "      <td>19977.60</td>\n",
       "      <td>1550</td>\n",
       "    </tr>\n",
       "    <tr>\n",
       "      <td>48</td>\n",
       "      <td>1006</td>\n",
       "      <td>8</td>\n",
       "      <td>smart</td>\n",
       "      <td>31.0</td>\n",
       "      <td>249.0</td>\n",
       "      <td>NaN</td>\n",
       "      <td>18156.68</td>\n",
       "      <td>1150</td>\n",
       "    </tr>\n",
       "    <tr>\n",
       "      <td>49</td>\n",
       "      <td>1006</td>\n",
       "      <td>9</td>\n",
       "      <td>smart</td>\n",
       "      <td>47.0</td>\n",
       "      <td>360.0</td>\n",
       "      <td>NaN</td>\n",
       "      <td>15521.53</td>\n",
       "      <td>750</td>\n",
       "    </tr>\n",
       "  </tbody>\n",
       "</table>\n",
       "</div>"
      ],
      "text/plain": [
       "    user_id  month tariff  calls_count  calls_duration  messages_count  \\\n",
       "0      1000      5  ultra         17.0           159.0            22.0   \n",
       "1      1000      6  ultra         28.0           172.0            60.0   \n",
       "2      1000      7  ultra         41.0           340.0            75.0   \n",
       "3      1000      8  ultra         41.0           384.0            81.0   \n",
       "4      1000      9  ultra         46.0           466.0            57.0   \n",
       "5      1000     10  ultra         43.0           327.0            73.0   \n",
       "6      1000     11  ultra         36.0           313.0            58.0   \n",
       "7      1000     12  ultra         37.0           309.0            70.0   \n",
       "8      1001     11  smart         45.0           430.0             NaN   \n",
       "9      1001     12  smart         47.0           414.0             NaN   \n",
       "10     1002      6  smart         13.0            94.0             4.0   \n",
       "11     1002      7  smart         20.0           187.0            11.0   \n",
       "12     1002      8  smart         37.0           289.0            13.0   \n",
       "13     1002      9  smart         25.0           206.0             4.0   \n",
       "14     1002     10  smart         24.0           212.0            10.0   \n",
       "15     1002     11  smart         25.0           243.0            16.0   \n",
       "16     1002     12  smart         27.0           236.0            12.0   \n",
       "17     1003      8  ultra         43.0           380.0            37.0   \n",
       "18     1003      9  ultra        104.0           938.0            91.0   \n",
       "19     1003     10  ultra         97.0           855.0            83.0   \n",
       "20     1003     11  ultra         94.0           797.0            94.0   \n",
       "21     1003     12  ultra         88.0           802.0            75.0   \n",
       "22     1004      5  ultra          7.0            35.0            95.0   \n",
       "23     1004      6  ultra         25.0           171.0           134.0   \n",
       "24     1004      7  ultra         20.0           135.0           181.0   \n",
       "25     1004      8  ultra         18.0           137.0           151.0   \n",
       "26     1004      9  ultra         18.0           117.0           146.0   \n",
       "27     1004     10  ultra         21.0           145.0           165.0   \n",
       "28     1004     11  ultra         15.0           117.0           158.0   \n",
       "29     1004     12  ultra         15.0           130.0           162.0   \n",
       "30     1005      1  smart         11.0            95.0             7.0   \n",
       "31     1005      2  smart         54.0           433.0            38.0   \n",
       "32     1005      3  smart         61.0           559.0            56.0   \n",
       "33     1005      4  smart         76.0           687.0            41.0   \n",
       "34     1005      5  smart         60.0           549.0            42.0   \n",
       "35     1005      6  smart         68.0           586.0            47.0   \n",
       "36     1005      7  smart         62.0           569.0            56.0   \n",
       "37     1005      8  smart         62.0           569.0            64.0   \n",
       "38     1005      9  smart         57.0           479.0            52.0   \n",
       "39     1005     10  smart         77.0           700.0            44.0   \n",
       "40     1005     11  smart         59.0           521.0            51.0   \n",
       "41     1005     12  smart         60.0           519.0            54.0   \n",
       "42     1006      2  smart          3.0            42.0             NaN   \n",
       "43     1006      3  smart         36.0           286.0             NaN   \n",
       "44     1006      4  smart         37.0           333.0             NaN   \n",
       "45     1006      5  smart         44.0           345.0             NaN   \n",
       "46     1006      6  smart         48.0           478.0             NaN   \n",
       "47     1006      7  smart         38.0           316.0             NaN   \n",
       "48     1006      8  smart         31.0           249.0             NaN   \n",
       "49     1006      9  smart         47.0           360.0             NaN   \n",
       "\n",
       "     mb_used  income  \n",
       "0    2253.49    1950  \n",
       "1   22036.51    1950  \n",
       "2   14003.64    1950  \n",
       "3   14055.93    1950  \n",
       "4   14568.91    1950  \n",
       "5   14702.49    1950  \n",
       "6   12142.68    1950  \n",
       "7    9817.61    1950  \n",
       "8   18429.34    1150  \n",
       "9   14036.66     550  \n",
       "10  10856.82     550  \n",
       "11  17580.10    1150  \n",
       "12  20319.26    1550  \n",
       "13  16691.08     950  \n",
       "14  13888.25     550  \n",
       "15  18587.28    1350  \n",
       "16  18113.73    1150  \n",
       "17   8565.21    1950  \n",
       "18  12468.87    1950  \n",
       "19  11068.41    1950  \n",
       "20  11356.89    1950  \n",
       "21  10121.53    1950  \n",
       "22  13403.98    1950  \n",
       "23  16331.30    1950  \n",
       "24  19779.21    1950  \n",
       "25  27271.64    1950  \n",
       "26  15109.03    1950  \n",
       "27  18475.44    1950  \n",
       "28  14382.06    1950  \n",
       "29  16795.40    1950  \n",
       "30   2727.97     550  \n",
       "31   7383.93     550  \n",
       "32  11104.25     550  \n",
       "33   9351.72     550  \n",
       "34   7865.53     550  \n",
       "35   9863.19     550  \n",
       "36   7694.56     550  \n",
       "37   7543.63     550  \n",
       "38   7016.46     550  \n",
       "39   7800.93     550  \n",
       "40  12666.95     550  \n",
       "41   8668.19     550  \n",
       "42   1392.15     550  \n",
       "43  17287.93     950  \n",
       "44  13936.70     550  \n",
       "45  12965.41     550  \n",
       "46  12371.66     550  \n",
       "47  19977.60    1550  \n",
       "48  18156.68    1150  \n",
       "49  15521.53     750  "
      ]
     },
     "execution_count": 76,
     "metadata": {},
     "output_type": "execute_result"
    }
   ],
   "source": [
    "months_stat.head(50)"
   ]
  },
  {
   "cell_type": "code",
   "execution_count": 77,
   "metadata": {},
   "outputs": [],
   "source": [
    "#расчитаем прибыль от каждого клиента\n",
    "client_income = months_stat.pivot_table(index = 'user_id', values = 'income', aggfunc = 'sum')\n"
   ]
  },
  {
   "cell_type": "code",
   "execution_count": 78,
   "metadata": {},
   "outputs": [
    {
     "data": {
      "text/html": [
       "<div>\n",
       "<style scoped>\n",
       "    .dataframe tbody tr th:only-of-type {\n",
       "        vertical-align: middle;\n",
       "    }\n",
       "\n",
       "    .dataframe tbody tr th {\n",
       "        vertical-align: top;\n",
       "    }\n",
       "\n",
       "    .dataframe thead th {\n",
       "        text-align: right;\n",
       "    }\n",
       "</style>\n",
       "<table border=\"1\" class=\"dataframe\">\n",
       "  <thead>\n",
       "    <tr style=\"text-align: right;\">\n",
       "      <th></th>\n",
       "      <th>income</th>\n",
       "    </tr>\n",
       "    <tr>\n",
       "      <th>user_id</th>\n",
       "      <th></th>\n",
       "    </tr>\n",
       "  </thead>\n",
       "  <tbody>\n",
       "    <tr>\n",
       "      <td>1000</td>\n",
       "      <td>15600</td>\n",
       "    </tr>\n",
       "    <tr>\n",
       "      <td>1001</td>\n",
       "      <td>1700</td>\n",
       "    </tr>\n",
       "    <tr>\n",
       "      <td>1002</td>\n",
       "      <td>7250</td>\n",
       "    </tr>\n",
       "    <tr>\n",
       "      <td>1003</td>\n",
       "      <td>9750</td>\n",
       "    </tr>\n",
       "    <tr>\n",
       "      <td>1004</td>\n",
       "      <td>15600</td>\n",
       "    </tr>\n",
       "    <tr>\n",
       "      <td>1005</td>\n",
       "      <td>6600</td>\n",
       "    </tr>\n",
       "    <tr>\n",
       "      <td>1006</td>\n",
       "      <td>9850</td>\n",
       "    </tr>\n",
       "    <tr>\n",
       "      <td>1007</td>\n",
       "      <td>7150</td>\n",
       "    </tr>\n",
       "    <tr>\n",
       "      <td>1008</td>\n",
       "      <td>550</td>\n",
       "    </tr>\n",
       "    <tr>\n",
       "      <td>1009</td>\n",
       "      <td>13100</td>\n",
       "    </tr>\n",
       "    <tr>\n",
       "      <td>1010</td>\n",
       "      <td>4550</td>\n",
       "    </tr>\n",
       "    <tr>\n",
       "      <td>1011</td>\n",
       "      <td>14500</td>\n",
       "    </tr>\n",
       "    <tr>\n",
       "      <td>1012</td>\n",
       "      <td>17500</td>\n",
       "    </tr>\n",
       "    <tr>\n",
       "      <td>1013</td>\n",
       "      <td>3900</td>\n",
       "    </tr>\n",
       "    <tr>\n",
       "      <td>1014</td>\n",
       "      <td>18800</td>\n",
       "    </tr>\n",
       "    <tr>\n",
       "      <td>1015</td>\n",
       "      <td>14350</td>\n",
       "    </tr>\n",
       "    <tr>\n",
       "      <td>1016</td>\n",
       "      <td>3900</td>\n",
       "    </tr>\n",
       "    <tr>\n",
       "      <td>1017</td>\n",
       "      <td>9200</td>\n",
       "    </tr>\n",
       "    <tr>\n",
       "      <td>1018</td>\n",
       "      <td>17550</td>\n",
       "    </tr>\n",
       "    <tr>\n",
       "      <td>1019</td>\n",
       "      <td>11700</td>\n",
       "    </tr>\n",
       "    <tr>\n",
       "      <td>1020</td>\n",
       "      <td>2250</td>\n",
       "    </tr>\n",
       "    <tr>\n",
       "      <td>1021</td>\n",
       "      <td>17550</td>\n",
       "    </tr>\n",
       "    <tr>\n",
       "      <td>1022</td>\n",
       "      <td>750</td>\n",
       "    </tr>\n",
       "    <tr>\n",
       "      <td>1023</td>\n",
       "      <td>4650</td>\n",
       "    </tr>\n",
       "    <tr>\n",
       "      <td>1024</td>\n",
       "      <td>8250</td>\n",
       "    </tr>\n",
       "    <tr>\n",
       "      <td>1025</td>\n",
       "      <td>7700</td>\n",
       "    </tr>\n",
       "    <tr>\n",
       "      <td>1026</td>\n",
       "      <td>2050</td>\n",
       "    </tr>\n",
       "    <tr>\n",
       "      <td>1027</td>\n",
       "      <td>15350</td>\n",
       "    </tr>\n",
       "    <tr>\n",
       "      <td>1028</td>\n",
       "      <td>5850</td>\n",
       "    </tr>\n",
       "    <tr>\n",
       "      <td>1029</td>\n",
       "      <td>3200</td>\n",
       "    </tr>\n",
       "    <tr>\n",
       "      <td>1030</td>\n",
       "      <td>5200</td>\n",
       "    </tr>\n",
       "    <tr>\n",
       "      <td>1031</td>\n",
       "      <td>1100</td>\n",
       "    </tr>\n",
       "    <tr>\n",
       "      <td>1032</td>\n",
       "      <td>17600</td>\n",
       "    </tr>\n",
       "    <tr>\n",
       "      <td>1033</td>\n",
       "      <td>10900</td>\n",
       "    </tr>\n",
       "    <tr>\n",
       "      <td>1034</td>\n",
       "      <td>3600</td>\n",
       "    </tr>\n",
       "    <tr>\n",
       "      <td>1035</td>\n",
       "      <td>5950</td>\n",
       "    </tr>\n",
       "    <tr>\n",
       "      <td>1036</td>\n",
       "      <td>4100</td>\n",
       "    </tr>\n",
       "    <tr>\n",
       "      <td>1037</td>\n",
       "      <td>1650</td>\n",
       "    </tr>\n",
       "    <tr>\n",
       "      <td>1038</td>\n",
       "      <td>2450</td>\n",
       "    </tr>\n",
       "    <tr>\n",
       "      <td>1039</td>\n",
       "      <td>13650</td>\n",
       "    </tr>\n",
       "    <tr>\n",
       "      <td>1040</td>\n",
       "      <td>9650</td>\n",
       "    </tr>\n",
       "    <tr>\n",
       "      <td>1041</td>\n",
       "      <td>2700</td>\n",
       "    </tr>\n",
       "    <tr>\n",
       "      <td>1042</td>\n",
       "      <td>5300</td>\n",
       "    </tr>\n",
       "    <tr>\n",
       "      <td>1043</td>\n",
       "      <td>9700</td>\n",
       "    </tr>\n",
       "    <tr>\n",
       "      <td>1044</td>\n",
       "      <td>11000</td>\n",
       "    </tr>\n",
       "    <tr>\n",
       "      <td>1045</td>\n",
       "      <td>13800</td>\n",
       "    </tr>\n",
       "    <tr>\n",
       "      <td>1046</td>\n",
       "      <td>6950</td>\n",
       "    </tr>\n",
       "    <tr>\n",
       "      <td>1047</td>\n",
       "      <td>6250</td>\n",
       "    </tr>\n",
       "    <tr>\n",
       "      <td>1048</td>\n",
       "      <td>9750</td>\n",
       "    </tr>\n",
       "    <tr>\n",
       "      <td>1049</td>\n",
       "      <td>19500</td>\n",
       "    </tr>\n",
       "  </tbody>\n",
       "</table>\n",
       "</div>"
      ],
      "text/plain": [
       "         income\n",
       "user_id        \n",
       "1000      15600\n",
       "1001       1700\n",
       "1002       7250\n",
       "1003       9750\n",
       "1004      15600\n",
       "1005       6600\n",
       "1006       9850\n",
       "1007       7150\n",
       "1008        550\n",
       "1009      13100\n",
       "1010       4550\n",
       "1011      14500\n",
       "1012      17500\n",
       "1013       3900\n",
       "1014      18800\n",
       "1015      14350\n",
       "1016       3900\n",
       "1017       9200\n",
       "1018      17550\n",
       "1019      11700\n",
       "1020       2250\n",
       "1021      17550\n",
       "1022        750\n",
       "1023       4650\n",
       "1024       8250\n",
       "1025       7700\n",
       "1026       2050\n",
       "1027      15350\n",
       "1028       5850\n",
       "1029       3200\n",
       "1030       5200\n",
       "1031       1100\n",
       "1032      17600\n",
       "1033      10900\n",
       "1034       3600\n",
       "1035       5950\n",
       "1036       4100\n",
       "1037       1650\n",
       "1038       2450\n",
       "1039      13650\n",
       "1040       9650\n",
       "1041       2700\n",
       "1042       5300\n",
       "1043       9700\n",
       "1044      11000\n",
       "1045      13800\n",
       "1046       6950\n",
       "1047       6250\n",
       "1048       9750\n",
       "1049      19500"
      ]
     },
     "execution_count": 78,
     "metadata": {},
     "output_type": "execute_result"
    }
   ],
   "source": [
    "client_income.head(50)"
   ]
  },
  {
   "cell_type": "markdown",
   "metadata": {},
   "source": [
    "### Вывод\n",
    "\n",
    "На данном этапе были проделаны следующие действия :\n",
    "\n",
    "##### 1. Замена пропусков  \n",
    "Заменил пропускки столбца churn_date на нули, для дальнейшего изменения типа данных в datetime\n",
    "\n",
    "\n",
    "##### 2. Изменение типа данных   \n",
    "Во всех таблицах,  имеющих столбцы с датой, я изменил тип данных с object на datetime\n",
    "\n",
    "\n",
    "##### 3. Исправление ошибок в данных   \n",
    " Я удалил 0.0 значения столбца duration в таблице calls, хоть они и составляют ~ 1/4 всех значений и их наличие больше исказит алгебраические метрики, чем сохраниние. То же самое проделал с таблицей \n",
    "internet в столбце mb_used, где нулевых значений тоже ощутимо много (~ 19 тыс).  \n",
    "\n",
    "##### 4. Округление значений  \n",
    "Округлил значения столбца таблицы до ближайших верхних целых значений и перевел столбец в int\n",
    "\n",
    "##### 5. Проверка на наличие дубликатов  \n",
    "Дубликаты не обнаружены\n",
    "\n",
    "##### 6. Удаление выбросов  \n",
    "Были удалены выбросы в таблицах calls (ст. duration) и intenet (ст. mb_used)\n",
    "\n",
    "\n",
    "##### 7. Произведены расчеты для каждого пользователя\n",
    "\n",
    "1. количество сделанных звонков и израсходованных минут разговора по месяцам;  \n",
    "2. количество отправленных сообщений по месяцам;  \n",
    "2. объем израсходованного интернет-трафика по месяцам;  \n",
    "3. помесячная выручка с каждого пользователя.  "
   ]
  },
  {
   "cell_type": "markdown",
   "metadata": {},
   "source": [
    "### Шаг 3. Анализ данных"
   ]
  },
  {
   "cell_type": "markdown",
   "metadata": {},
   "source": [
    "Проведем сравнительный анализ двух тарифов и узнаем, как распределяется пользовательская аудитория \n",
    "по трем предоставляемым услугам : звонки, сообщения и интернет. "
   ]
  },
  {
   "cell_type": "code",
   "execution_count": 79,
   "metadata": {},
   "outputs": [],
   "source": [
    "import numpy as np "
   ]
  },
  {
   "cell_type": "markdown",
   "metadata": {},
   "source": [
    "#### Звонки "
   ]
  },
  {
   "cell_type": "markdown",
   "metadata": {},
   "source": [
    "#### Smart"
   ]
  },
  {
   "cell_type": "code",
   "execution_count": 80,
   "metadata": {
    "scrolled": true
   },
   "outputs": [
    {
     "data": {
      "text/html": [
       "<div>\n",
       "<style scoped>\n",
       "    .dataframe tbody tr th:only-of-type {\n",
       "        vertical-align: middle;\n",
       "    }\n",
       "\n",
       "    .dataframe tbody tr th {\n",
       "        vertical-align: top;\n",
       "    }\n",
       "\n",
       "    .dataframe thead th {\n",
       "        text-align: right;\n",
       "    }\n",
       "</style>\n",
       "<table border=\"1\" class=\"dataframe\">\n",
       "  <thead>\n",
       "    <tr style=\"text-align: right;\">\n",
       "      <th></th>\n",
       "      <th>user_id</th>\n",
       "      <th>month</th>\n",
       "      <th>tariff</th>\n",
       "      <th>calls_count</th>\n",
       "      <th>calls_duration</th>\n",
       "      <th>messages_count</th>\n",
       "      <th>mb_used</th>\n",
       "      <th>income</th>\n",
       "    </tr>\n",
       "  </thead>\n",
       "  <tbody>\n",
       "    <tr>\n",
       "      <td>0</td>\n",
       "      <td>1000</td>\n",
       "      <td>5</td>\n",
       "      <td>ultra</td>\n",
       "      <td>17.0</td>\n",
       "      <td>159.0</td>\n",
       "      <td>22.0</td>\n",
       "      <td>2253.49</td>\n",
       "      <td>1950</td>\n",
       "    </tr>\n",
       "    <tr>\n",
       "      <td>1</td>\n",
       "      <td>1000</td>\n",
       "      <td>6</td>\n",
       "      <td>ultra</td>\n",
       "      <td>28.0</td>\n",
       "      <td>172.0</td>\n",
       "      <td>60.0</td>\n",
       "      <td>22036.51</td>\n",
       "      <td>1950</td>\n",
       "    </tr>\n",
       "    <tr>\n",
       "      <td>2</td>\n",
       "      <td>1000</td>\n",
       "      <td>7</td>\n",
       "      <td>ultra</td>\n",
       "      <td>41.0</td>\n",
       "      <td>340.0</td>\n",
       "      <td>75.0</td>\n",
       "      <td>14003.64</td>\n",
       "      <td>1950</td>\n",
       "    </tr>\n",
       "    <tr>\n",
       "      <td>3</td>\n",
       "      <td>1000</td>\n",
       "      <td>8</td>\n",
       "      <td>ultra</td>\n",
       "      <td>41.0</td>\n",
       "      <td>384.0</td>\n",
       "      <td>81.0</td>\n",
       "      <td>14055.93</td>\n",
       "      <td>1950</td>\n",
       "    </tr>\n",
       "    <tr>\n",
       "      <td>4</td>\n",
       "      <td>1000</td>\n",
       "      <td>9</td>\n",
       "      <td>ultra</td>\n",
       "      <td>46.0</td>\n",
       "      <td>466.0</td>\n",
       "      <td>57.0</td>\n",
       "      <td>14568.91</td>\n",
       "      <td>1950</td>\n",
       "    </tr>\n",
       "  </tbody>\n",
       "</table>\n",
       "</div>"
      ],
      "text/plain": [
       "   user_id  month tariff  calls_count  calls_duration  messages_count  \\\n",
       "0     1000      5  ultra         17.0           159.0            22.0   \n",
       "1     1000      6  ultra         28.0           172.0            60.0   \n",
       "2     1000      7  ultra         41.0           340.0            75.0   \n",
       "3     1000      8  ultra         41.0           384.0            81.0   \n",
       "4     1000      9  ultra         46.0           466.0            57.0   \n",
       "\n",
       "    mb_used  income  \n",
       "0   2253.49    1950  \n",
       "1  22036.51    1950  \n",
       "2  14003.64    1950  \n",
       "3  14055.93    1950  \n",
       "4  14568.91    1950  "
      ]
     },
     "execution_count": 80,
     "metadata": {},
     "output_type": "execute_result"
    }
   ],
   "source": [
    "months_stat.head()"
   ]
  },
  {
   "cell_type": "code",
   "execution_count": 81,
   "metadata": {},
   "outputs": [],
   "source": [
    "months_smart = months_stat.query('tariff == \"smart\"')"
   ]
  },
  {
   "cell_type": "code",
   "execution_count": 82,
   "metadata": {},
   "outputs": [
    {
     "data": {
      "text/plain": [
       "count    2221.000000\n",
       "mean      403.632598\n",
       "std       182.263548\n",
       "min         2.000000\n",
       "25%       271.000000\n",
       "50%       406.000000\n",
       "75%       527.000000\n",
       "max      1340.000000\n",
       "Name: calls_duration, dtype: float64"
      ]
     },
     "execution_count": 82,
     "metadata": {},
     "output_type": "execute_result"
    }
   ],
   "source": [
    "months_smart['calls_duration'].describe() # получим среднее и дисперсию "
   ]
  },
  {
   "cell_type": "code",
   "execution_count": 83,
   "metadata": {
    "scrolled": true
   },
   "outputs": [
    {
     "data": {
      "text/plain": [
       "33205.043764029695"
      ]
     },
     "execution_count": 83,
     "metadata": {},
     "output_type": "execute_result"
    }
   ],
   "source": [
    "#найдем дисперсию \n",
    "np.var(months_smart['calls_duration'])"
   ]
  },
  {
   "cell_type": "code",
   "execution_count": 84,
   "metadata": {
    "scrolled": false
   },
   "outputs": [
    {
     "data": {
      "text/plain": [
       "<matplotlib.axes._subplots.AxesSubplot at 0x7f0b994f92e8>"
      ]
     },
     "execution_count": 84,
     "metadata": {},
     "output_type": "execute_result"
    },
    {
     "data": {
      "image/png": "[encoded data removed]",
      "text/plain": [
       "<Figure size 432x288 with 1 Axes>"
      ]
     },
     "metadata": {
      "needs_background": "light"
     },
     "output_type": "display_data"
    }
   ],
   "source": [
    "months_smart['calls_duration'].hist(range = (0, 2221), bins = 50 )"
   ]
  },
  {
   "cell_type": "code",
   "execution_count": 85,
   "metadata": {},
   "outputs": [
    {
     "data": {
      "text/plain": [
       "<matplotlib.axes._subplots.AxesSubplot at 0x7f0b9955b8d0>"
      ]
     },
     "execution_count": 85,
     "metadata": {},
     "output_type": "execute_result"
    },
    {
     "data": {
      "image/png": "[encoded data removed]",
      "text/plain": [
       "<Figure size 432x288 with 1 Axes>"
      ]
     },
     "metadata": {
      "needs_background": "light"
     },
     "output_type": "display_data"
    }
   ],
   "source": [
    "months_smart['calls_duration'].hist()"
   ]
  },
  {
   "cell_type": "markdown",
   "metadata": {},
   "source": [
    "Расспределение Пуассоновское, стремящееся к нормальному т.к. мы рассматриваем много значений.   Пуассоновское т.к. описывает число событий в единицу времени.   \n",
    "Скошенность вправо   \n",
    "Среднее значение 403   \n",
    "Стандартное отклонение 182  \n",
    "Дисперсия 33205  \n",
    "\n",
    " "
   ]
  },
  {
   "cell_type": "markdown",
   "metadata": {},
   "source": [
    "#### Ultra"
   ]
  },
  {
   "cell_type": "code",
   "execution_count": 86,
   "metadata": {},
   "outputs": [],
   "source": [
    "months_ultra = months_stat.query('tariff == \"ultra\"')"
   ]
  },
  {
   "cell_type": "code",
   "execution_count": 87,
   "metadata": {
    "scrolled": true
   },
   "outputs": [
    {
     "data": {
      "text/plain": [
       "count     947.000000\n",
       "mean      526.080253\n",
       "std       294.263035\n",
       "min         1.000000\n",
       "25%       304.500000\n",
       "50%       506.000000\n",
       "75%       732.000000\n",
       "max      1545.000000\n",
       "Name: calls_duration, dtype: float64"
      ]
     },
     "execution_count": 87,
     "metadata": {},
     "output_type": "execute_result"
    }
   ],
   "source": [
    "months_ultra['calls_duration'].describe()"
   ]
  },
  {
   "cell_type": "code",
   "execution_count": 88,
   "metadata": {},
   "outputs": [
    {
     "data": {
      "text/plain": [
       "86499.29662168866"
      ]
     },
     "execution_count": 88,
     "metadata": {},
     "output_type": "execute_result"
    }
   ],
   "source": [
    "np.var(months_ultra['calls_duration'])"
   ]
  },
  {
   "cell_type": "code",
   "execution_count": 89,
   "metadata": {
    "scrolled": false
   },
   "outputs": [
    {
     "data": {
      "text/plain": [
       "<matplotlib.axes._subplots.AxesSubplot at 0x7f0b9a9b8cf8>"
      ]
     },
     "execution_count": 89,
     "metadata": {},
     "output_type": "execute_result"
    },
    {
     "data": {
      "image/png": "[encoded data removed]",
      "text/plain": [
       "<Figure size 432x288 with 1 Axes>"
      ]
     },
     "metadata": {
      "needs_background": "light"
     },
     "output_type": "display_data"
    }
   ],
   "source": [
    "months_ultra['calls_duration'].hist()"
   ]
  },
  {
   "cell_type": "markdown",
   "metadata": {},
   "source": [
    "Расспределение Пуассоновское. Пуассоновское т.к. описывает число событий в единицу времени.  \n",
    "Скошенность вправо   \n",
    "Среднее значение 526  \n",
    "Стандартное отклонение 294  \n",
    "Дисперсия 86499  "
   ]
  },
  {
   "cell_type": "markdown",
   "metadata": {},
   "source": [
    "#### Вывод по звонкам"
   ]
  },
  {
   "cell_type": "markdown",
   "metadata": {},
   "source": [
    "1. Гистограмы для обоих тарифов отражают Пуассоновское распределение, как и ожидалось. Аномалий не обнаружилось. У обоих скошенность вправо.   \n",
    "\n",
    "2. Пользователи ultra в среднем говорят на 123 минуты дольше пользователей smart\n",
    "\n",
    "3. Разброс для обоих тарифов не слишком большой, т.к. меньше среднего. Пользоватили smart в использовании минут больше придерживаются среднего значения (std 182), чем пользователи ultra(std 294).\n",
    "\n",
    "4. Дисперсии для smart и ultra 33205 и 86499 соответсвенно. Они приблизительно соответстыуют квадратам стандартных отклонений, а значит в качестве меры разброса можно оставить std.  \n"
   ]
  },
  {
   "cell_type": "markdown",
   "metadata": {},
   "source": [
    "#### Сообщения "
   ]
  },
  {
   "cell_type": "markdown",
   "metadata": {},
   "source": [
    "#### smart"
   ]
  },
  {
   "cell_type": "code",
   "execution_count": 90,
   "metadata": {},
   "outputs": [
    {
     "data": {
      "text/plain": [
       "count    1922.000000\n",
       "mean       38.716441\n",
       "std        26.787949\n",
       "min         1.000000\n",
       "25%        17.000000\n",
       "50%        34.000000\n",
       "75%        55.000000\n",
       "max       143.000000\n",
       "Name: messages_count, dtype: float64"
      ]
     },
     "execution_count": 90,
     "metadata": {},
     "output_type": "execute_result"
    }
   ],
   "source": [
    "months_smart['messages_count'].describe()"
   ]
  },
  {
   "cell_type": "code",
   "execution_count": 91,
   "metadata": {
    "scrolled": true
   },
   "outputs": [
    {
     "data": {
      "text/plain": [
       "717.220843110227"
      ]
     },
     "execution_count": 91,
     "metadata": {},
     "output_type": "execute_result"
    }
   ],
   "source": [
    "np.var(months_smart['messages_count'])"
   ]
  },
  {
   "cell_type": "code",
   "execution_count": 92,
   "metadata": {
    "scrolled": false
   },
   "outputs": [
    {
     "data": {
      "text/plain": [
       "<matplotlib.axes._subplots.AxesSubplot at 0x7f0b9a8e5dd8>"
      ]
     },
     "execution_count": 92,
     "metadata": {},
     "output_type": "execute_result"
    },
    {
     "data": {
      "image/png": "[encoded data removed]",
      "text/plain": [
       "<Figure size 432x288 with 1 Axes>"
      ]
     },
     "metadata": {
      "needs_background": "light"
     },
     "output_type": "display_data"
    }
   ],
   "source": [
    "months_smart['messages_count'].hist()"
   ]
  },
  {
   "cell_type": "code",
   "execution_count": 93,
   "metadata": {},
   "outputs": [
    {
     "data": {
      "text/plain": [
       "20.0     39\n",
       "16.0     38\n",
       "13.0     37\n",
       "14.0     36\n",
       "25.0     35\n",
       "         ..\n",
       "110.0     1\n",
       "114.0     1\n",
       "125.0     1\n",
       "127.0     1\n",
       "129.0     1\n",
       "Name: messages_count, Length: 123, dtype: int64"
      ]
     },
     "execution_count": 93,
     "metadata": {},
     "output_type": "execute_result"
    }
   ],
   "source": [
    "#гистограмма получилась подозрительной слишком много значений между 0 и 20. Расмотрим поближе\n",
    "months_smart['messages_count'].value_counts() \n"
   ]
  },
  {
   "cell_type": "markdown",
   "metadata": {},
   "source": [
    "Опасения были напрасы, видимо сообщения действительно не пользуются особой популярностью популярностью. Около 30 смсок в месяц на пользователя"
   ]
  },
  {
   "cell_type": "markdown",
   "metadata": {},
   "source": [
    "Расспределение должно было быть похоже  на нормальное. Заметно изобилие нулевых значений. При детальном рассмотрени значений от 0 до 20, выяснилось, что они распределены адекватно.  \n",
    "Скошенность вправо  \n",
    "Среднее значение 38.71   \n",
    "Стандартное отклонение 26.78  \n",
    "Дисперсия 717.22   "
   ]
  },
  {
   "cell_type": "markdown",
   "metadata": {},
   "source": [
    "#### ultra "
   ]
  },
  {
   "cell_type": "code",
   "execution_count": 94,
   "metadata": {},
   "outputs": [
    {
     "data": {
      "text/plain": [
       "count    795.000000\n",
       "mean      61.161006\n",
       "std       45.931026\n",
       "min        1.000000\n",
       "25%       24.000000\n",
       "50%       51.000000\n",
       "75%       87.500000\n",
       "max      224.000000\n",
       "Name: messages_count, dtype: float64"
      ]
     },
     "execution_count": 94,
     "metadata": {},
     "output_type": "execute_result"
    }
   ],
   "source": [
    "months_ultra['messages_count'].describe()"
   ]
  },
  {
   "cell_type": "code",
   "execution_count": 95,
   "metadata": {},
   "outputs": [
    {
     "data": {
      "text/plain": [
       "2107.0055235156838"
      ]
     },
     "execution_count": 95,
     "metadata": {},
     "output_type": "execute_result"
    }
   ],
   "source": [
    "np.var(months_ultra['messages_count'])"
   ]
  },
  {
   "cell_type": "code",
   "execution_count": 96,
   "metadata": {
    "scrolled": true
   },
   "outputs": [
    {
     "data": {
      "text/plain": [
       "<matplotlib.axes._subplots.AxesSubplot at 0x7f0b98e8c908>"
      ]
     },
     "execution_count": 96,
     "metadata": {},
     "output_type": "execute_result"
    },
    {
     "data": {
      "image/png": "[encoded data removed]",
      "text/plain": [
       "<Figure size 432x288 with 1 Axes>"
      ]
     },
     "metadata": {
      "needs_background": "light"
     },
     "output_type": "display_data"
    }
   ],
   "source": [
    "months_ultra['messages_count'].hist(bins = 30)"
   ]
  },
  {
   "cell_type": "code",
   "execution_count": 97,
   "metadata": {},
   "outputs": [
    {
     "data": {
      "text/plain": [
       "120.0     1\n",
       "183.0     1\n",
       "139.0     1\n",
       "169.0     1\n",
       "197.0     1\n",
       "         ..\n",
       "17.0     12\n",
       "4.0      12\n",
       "40.0     13\n",
       "20.0     13\n",
       "6.0      13\n",
       "Name: messages_count, Length: 177, dtype: int64"
      ]
     },
     "execution_count": 97,
     "metadata": {},
     "output_type": "execute_result"
    }
   ],
   "source": [
    "months_ultra['messages_count'].value_counts().sort_values()"
   ]
  },
  {
   "cell_type": "code",
   "execution_count": 98,
   "metadata": {
    "scrolled": true
   },
   "outputs": [
    {
     "data": {
      "text/plain": [
       "<matplotlib.axes._subplots.AxesSubplot at 0x7f0b98dcc5c0>"
      ]
     },
     "execution_count": 98,
     "metadata": {},
     "output_type": "execute_result"
    },
    {
     "data": {
      "image/png": "[encoded data removed]",
      "text/plain": [
       "<Figure size 432x288 with 1 Axes>"
      ]
     },
     "metadata": {
      "needs_background": "light"
     },
     "output_type": "display_data"
    }
   ],
   "source": [
    "months_ultra['messages_count'].hist(range = (0,50))"
   ]
  },
  {
   "cell_type": "markdown",
   "metadata": {},
   "source": [
    "Расспределение должно было быть похоже на нормальное. Заметны резкие перепады до 50 сообщений  \n",
    "Скошенность вправо  \n",
    "Среднее значение 61.16  \n",
    "Стандартное отклонение 45.93  \n",
    "Дисперсия 2107.00   "
   ]
  },
  {
   "cell_type": "markdown",
   "metadata": {},
   "source": [
    "#### Вопрос наставнику"
   ]
  },
  {
   "cell_type": "markdown",
   "metadata": {},
   "source": [
    "Не могу понять, чем объясняются такие скачки в распределении на гистограмме, которое, как я понял, должно быть похоже на нормальное, или хотя бы стремится стремиться к нему ? "
   ]
  },
  {
   "cell_type": "markdown",
   "metadata": {},
   "source": [
    "#### Вывод по сообщениям\n",
    "1. Оба распределения не похожи на нормальное. Для обоих датасетов скошенность вправо  \n",
    "2. Пользователи ultra пишут сообщения в среднем в полтора раза чаще (~ 1,57), чем smart  \n",
    "3. Количество сообщения пользователей ultra разнообразней пользователей смарт примерно в два раза (std: 45.93 и 26.78)  \n",
    "4. Дисперсии для smart и ultra равны 33205 и 86499 соответсвенно. Они приблизительно соответстыуют   квадратам стандартных отклонений, а значит в качестве меры разброса можно оставить std.    "
   ]
  },
  {
   "cell_type": "markdown",
   "metadata": {},
   "source": [
    "#### Интернет"
   ]
  },
  {
   "cell_type": "markdown",
   "metadata": {},
   "source": [
    "#### smart"
   ]
  },
  {
   "cell_type": "code",
   "execution_count": 99,
   "metadata": {
    "scrolled": true
   },
   "outputs": [
    {
     "data": {
      "text/plain": [
       "count     2227.000000\n",
       "mean     16077.322892\n",
       "std       5795.644052\n",
       "min        201.070000\n",
       "25%      12576.635000\n",
       "50%      16302.930000\n",
       "75%      19901.995000\n",
       "max      38552.450000\n",
       "Name: mb_used, dtype: float64"
      ]
     },
     "execution_count": 99,
     "metadata": {},
     "output_type": "execute_result"
    }
   ],
   "source": [
    "months_smart['mb_used'].describe()"
   ]
  },
  {
   "cell_type": "code",
   "execution_count": 100,
   "metadata": {},
   "outputs": [
    {
     "data": {
      "text/plain": [
       "33574407.140547454"
      ]
     },
     "execution_count": 100,
     "metadata": {},
     "output_type": "execute_result"
    }
   ],
   "source": [
    "np.var(months_smart['mb_used'])"
   ]
  },
  {
   "cell_type": "code",
   "execution_count": 101,
   "metadata": {
    "scrolled": true
   },
   "outputs": [
    {
     "data": {
      "text/plain": [
       "<matplotlib.axes._subplots.AxesSubplot at 0x7f0b98d37978>"
      ]
     },
     "execution_count": 101,
     "metadata": {},
     "output_type": "execute_result"
    },
    {
     "data": {
      "image/png": "[encoded data removed]",
      "text/plain": [
       "<Figure size 432x288 with 1 Axes>"
      ]
     },
     "metadata": {
      "needs_background": "light"
     },
     "output_type": "display_data"
    }
   ],
   "source": [
    "months_smart['mb_used'].hist(bins = 100)"
   ]
  },
  {
   "cell_type": "markdown",
   "metadata": {},
   "source": [
    "Расспределение должно было быть похоже на нормальное и соответствует ему.   \n",
    "Скошенности нет  \n",
    "Среднее значение 16077.32    \n",
    "Стандартное отклонение 5795.64   \n",
    "Дисперсия 33574407.14 "
   ]
  },
  {
   "cell_type": "markdown",
   "metadata": {},
   "source": [
    "#### ultra"
   ]
  },
  {
   "cell_type": "code",
   "execution_count": 102,
   "metadata": {
    "scrolled": true
   },
   "outputs": [
    {
     "data": {
      "text/plain": [
       "count      974.000000\n",
       "mean     18925.900175\n",
       "std       9531.383006\n",
       "min        365.090000\n",
       "25%      11525.152500\n",
       "50%      18593.120000\n",
       "75%      25875.470000\n",
       "max      45874.280000\n",
       "Name: mb_used, dtype: float64"
      ]
     },
     "execution_count": 102,
     "metadata": {},
     "output_type": "execute_result"
    }
   ],
   "source": [
    "months_ultra['mb_used'].describe()"
   ]
  },
  {
   "cell_type": "code",
   "execution_count": 103,
   "metadata": {
    "scrolled": true
   },
   "outputs": [
    {
     "data": {
      "text/plain": [
       "90753989.6577512"
      ]
     },
     "execution_count": 103,
     "metadata": {},
     "output_type": "execute_result"
    }
   ],
   "source": [
    "np.var(months_ultra['mb_used'])"
   ]
  },
  {
   "cell_type": "code",
   "execution_count": 104,
   "metadata": {
    "scrolled": true
   },
   "outputs": [
    {
     "data": {
      "text/plain": [
       "<matplotlib.axes._subplots.AxesSubplot at 0x7f0b98ba8828>"
      ]
     },
     "execution_count": 104,
     "metadata": {},
     "output_type": "execute_result"
    },
    {
     "data": {
      "image/png": "[encoded data removed]",
      "text/plain": [
       "<Figure size 432x288 with 1 Axes>"
      ]
     },
     "metadata": {
      "needs_background": "light"
     },
     "output_type": "display_data"
    }
   ],
   "source": [
    "months_ultra['mb_used'].hist(bins = 100)\n"
   ]
  },
  {
   "cell_type": "code",
   "execution_count": 105,
   "metadata": {
    "scrolled": true
   },
   "outputs": [
    {
     "data": {
      "text/plain": [
       "365.09      1\n",
       "15366.71    1\n",
       "18182.96    1\n",
       "21667.98    1\n",
       "22115.16    1\n",
       "           ..\n",
       "12769.34    1\n",
       "19496.88    1\n",
       "16303.33    1\n",
       "3805.39     1\n",
       "1904.00     1\n",
       "Name: mb_used, Length: 974, dtype: int64"
      ]
     },
     "execution_count": 105,
     "metadata": {},
     "output_type": "execute_result"
    }
   ],
   "source": [
    "months_ultra['mb_used'].value_counts().sort_values() # проверим на повторы"
   ]
  },
  {
   "cell_type": "markdown",
   "metadata": {},
   "source": [
    "Расспределение должно быть похоже на нормальное и соответствует ему.   \n",
    "Скошенности нет  \n",
    "Среднее значение  18925.90    \n",
    "Стандартное отклонение 9531.38   \n",
    "Дисперсия 90753989.65 "
   ]
  },
  {
   "cell_type": "markdown",
   "metadata": {},
   "source": [
    "#### Вывод по интернету"
   ]
  },
  {
   "cell_type": "markdown",
   "metadata": {},
   "source": [
    "1. Распределение нормальное для обоих тарифов. Скошенности нет  \n",
    "2. Пользоватиле ultra (18925.90) в среднем используют примерно на 3Гб больше траффика, чем пользователи smart (16077.32)   \n",
    "3. Кол-во использованных Гб у пользователей ultra в ~1.6 раз чаще отличаются от среднего, чем у smart\n",
    "4. Дисперсии приблизительно соответстыуют квадратам стандартных отклонений, а значит в качестве меры разброса можно оставить std  "
   ]
  },
  {
   "cell_type": "markdown",
   "metadata": {},
   "source": [
    "### Вывод\n",
    "\n",
    "\n",
    "#### Вывод по звонкам\n",
    "1. Гистограмы для обоих тарифов отражают Пуассоновское распределение, как и ожидадось. Аномалий не обнаружилось. У обоих скошенность вправо.   \n",
    "2. Пользователи ultra в среднем говорят на 123 минуты дольше пользователей smart\n",
    "3. Разброс для обоих тарифов не слишком большой, т.к. меньше среднего. Пользоватили smart в использовании минут больше придерживаются среднего значения (std 182), чем пользователи ultra(std 294).\n",
    "4. Дисперсии для smart и ultra равны 33205 и 86499 соответсвенно. Они приблизительно соответстыуют квадратам стандартных отклонений, а значит в качестве меры разброса можно оставить std.  \n",
    "\n",
    "#### Вывод по сообщениям\n",
    "\n",
    "1. Оба распределения не похожи на нормальное. Для обоих датасетов скошенность вправо  \n",
    "2. Пользователи ultra пишут сообщения в среднем в полтора раза чаще (~ 1,57), чем smart  \n",
    "3. Количество сообщения пользователей ultra разнообразней пользователей смарт примерно в два раза (std: 45.93 и 26.78)  \n",
    "4. Дисперсии для smart и ultra равны 33205 и 86499 соответсвенно. Они приблизительно соответстыуют   квадратам стандартных отклонений, а значит в качестве меры разброса можно оставить std.   \n",
    "\n",
    "#### Вывод по интернету\n",
    "1. Распределение нормальное для обоих тарифов. Скошенности нет  \n",
    "2. Пользоватиле ultra (18925.90) в среднем используют примерно на 3Гб больше траффика, чем пользователи smart (16077.32)   \n",
    "3. Кол-во использованных Гб у пользователей ultra в ~1.6 раз чаще отличаются от среднего, чем у smart\n",
    "4. Дисперсии приблизительно соответстыуют квадратам стандартных отклонений, а значит в качестве меры разброса можно оставить std  \n",
    "\n",
    "#### Сравнительный вывод\n",
    "1. Распределения количества минут для обоих тарифов, как и ожидалось оказались Пуассона. А вот распределения количества сообщений в месяц оказалось, несмотря на ожидаемое нормальное, оказалось\n",
    "похожими на Пуассона. Также гистограма владельцев smart имела ощутимые скачки до значения в 50 сообщений. Распределение интернет трафика полность удовлетворило ожидания и оказалось нормальным.  \n",
    "2. Пользователи ultra активней пользуются услугами оператора. В среднем на ~ 123 мин больше, пишут сообщения в ~ 1.57 раза чаще и расходуют на 3Гб больше. Так же владельцы smart обычно не укладываются во включенный лимит интернет-трафика. \n",
    "3. Распределение частоты использования всех учлуг пользователями ultra разнообразней смарт примерно в 1,5 - 2 раза  "
   ]
  },
  {
   "cell_type": "markdown",
   "metadata": {},
   "source": [
    "### Шаг 4. Проверка гипотез"
   ]
  },
  {
   "cell_type": "markdown",
   "metadata": {},
   "source": [
    "#### Гипотеза 1. средняя выручка пользователей тарифов «Ультра» и «Смарт» различается"
   ]
  },
  {
   "cell_type": "markdown",
   "metadata": {},
   "source": [
    "Нулевая гипотеза: cредняя выручка пользователей тарифов «Ультра» равна средней выручке тарифа «Смарт»\n",
    "Я выбрал именно такую нулевую гипотезу, т.к. она должна вкючать в себя знак равенства. \n",
    "Альтернатиная гипотеза : cредняя выручка пользователей тарифов «Ультра» и «Смарт» различается. "
   ]
  },
  {
   "cell_type": "code",
   "execution_count": 116,
   "metadata": {
    "scrolled": true
   },
   "outputs": [
    {
     "data": {
      "text/html": [
       "<div>\n",
       "<style scoped>\n",
       "    .dataframe tbody tr th:only-of-type {\n",
       "        vertical-align: middle;\n",
       "    }\n",
       "\n",
       "    .dataframe tbody tr th {\n",
       "        vertical-align: top;\n",
       "    }\n",
       "\n",
       "    .dataframe thead th {\n",
       "        text-align: right;\n",
       "    }\n",
       "</style>\n",
       "<table border=\"1\" class=\"dataframe\">\n",
       "  <thead>\n",
       "    <tr style=\"text-align: right;\">\n",
       "      <th></th>\n",
       "      <th>user_id</th>\n",
       "      <th>month</th>\n",
       "      <th>tariff</th>\n",
       "      <th>calls_count</th>\n",
       "      <th>calls_duration</th>\n",
       "      <th>messages_count</th>\n",
       "      <th>mb_used</th>\n",
       "      <th>income</th>\n",
       "    </tr>\n",
       "  </thead>\n",
       "  <tbody>\n",
       "    <tr>\n",
       "      <td>8</td>\n",
       "      <td>1001</td>\n",
       "      <td>11</td>\n",
       "      <td>smart</td>\n",
       "      <td>45.0</td>\n",
       "      <td>430.0</td>\n",
       "      <td>NaN</td>\n",
       "      <td>18429.34</td>\n",
       "      <td>1150</td>\n",
       "    </tr>\n",
       "    <tr>\n",
       "      <td>9</td>\n",
       "      <td>1001</td>\n",
       "      <td>12</td>\n",
       "      <td>smart</td>\n",
       "      <td>47.0</td>\n",
       "      <td>414.0</td>\n",
       "      <td>NaN</td>\n",
       "      <td>14036.66</td>\n",
       "      <td>550</td>\n",
       "    </tr>\n",
       "    <tr>\n",
       "      <td>10</td>\n",
       "      <td>1002</td>\n",
       "      <td>6</td>\n",
       "      <td>smart</td>\n",
       "      <td>13.0</td>\n",
       "      <td>94.0</td>\n",
       "      <td>4.0</td>\n",
       "      <td>10856.82</td>\n",
       "      <td>550</td>\n",
       "    </tr>\n",
       "    <tr>\n",
       "      <td>11</td>\n",
       "      <td>1002</td>\n",
       "      <td>7</td>\n",
       "      <td>smart</td>\n",
       "      <td>20.0</td>\n",
       "      <td>187.0</td>\n",
       "      <td>11.0</td>\n",
       "      <td>17580.10</td>\n",
       "      <td>1150</td>\n",
       "    </tr>\n",
       "    <tr>\n",
       "      <td>12</td>\n",
       "      <td>1002</td>\n",
       "      <td>8</td>\n",
       "      <td>smart</td>\n",
       "      <td>37.0</td>\n",
       "      <td>289.0</td>\n",
       "      <td>13.0</td>\n",
       "      <td>20319.26</td>\n",
       "      <td>1550</td>\n",
       "    </tr>\n",
       "    <tr>\n",
       "      <td>...</td>\n",
       "      <td>...</td>\n",
       "      <td>...</td>\n",
       "      <td>...</td>\n",
       "      <td>...</td>\n",
       "      <td>...</td>\n",
       "      <td>...</td>\n",
       "      <td>...</td>\n",
       "      <td>...</td>\n",
       "    </tr>\n",
       "    <tr>\n",
       "      <td>3207</td>\n",
       "      <td>1489</td>\n",
       "      <td>8</td>\n",
       "      <td>smart</td>\n",
       "      <td>NaN</td>\n",
       "      <td>NaN</td>\n",
       "      <td>17.0</td>\n",
       "      <td>11050.56</td>\n",
       "      <td>550</td>\n",
       "    </tr>\n",
       "    <tr>\n",
       "      <td>3208</td>\n",
       "      <td>1489</td>\n",
       "      <td>9</td>\n",
       "      <td>smart</td>\n",
       "      <td>NaN</td>\n",
       "      <td>NaN</td>\n",
       "      <td>32.0</td>\n",
       "      <td>17206.30</td>\n",
       "      <td>950</td>\n",
       "    </tr>\n",
       "    <tr>\n",
       "      <td>3209</td>\n",
       "      <td>1489</td>\n",
       "      <td>10</td>\n",
       "      <td>smart</td>\n",
       "      <td>NaN</td>\n",
       "      <td>NaN</td>\n",
       "      <td>21.0</td>\n",
       "      <td>19559.44</td>\n",
       "      <td>1550</td>\n",
       "    </tr>\n",
       "    <tr>\n",
       "      <td>3210</td>\n",
       "      <td>1489</td>\n",
       "      <td>11</td>\n",
       "      <td>smart</td>\n",
       "      <td>NaN</td>\n",
       "      <td>NaN</td>\n",
       "      <td>20.0</td>\n",
       "      <td>17491.56</td>\n",
       "      <td>1150</td>\n",
       "    </tr>\n",
       "    <tr>\n",
       "      <td>3211</td>\n",
       "      <td>1489</td>\n",
       "      <td>12</td>\n",
       "      <td>smart</td>\n",
       "      <td>NaN</td>\n",
       "      <td>NaN</td>\n",
       "      <td>35.0</td>\n",
       "      <td>17322.51</td>\n",
       "      <td>950</td>\n",
       "    </tr>\n",
       "  </tbody>\n",
       "</table>\n",
       "<p>2229 rows × 8 columns</p>\n",
       "</div>"
      ],
      "text/plain": [
       "      user_id  month tariff  calls_count  calls_duration  messages_count  \\\n",
       "8        1001     11  smart         45.0           430.0             NaN   \n",
       "9        1001     12  smart         47.0           414.0             NaN   \n",
       "10       1002      6  smart         13.0            94.0             4.0   \n",
       "11       1002      7  smart         20.0           187.0            11.0   \n",
       "12       1002      8  smart         37.0           289.0            13.0   \n",
       "...       ...    ...    ...          ...             ...             ...   \n",
       "3207     1489      8  smart          NaN             NaN            17.0   \n",
       "3208     1489      9  smart          NaN             NaN            32.0   \n",
       "3209     1489     10  smart          NaN             NaN            21.0   \n",
       "3210     1489     11  smart          NaN             NaN            20.0   \n",
       "3211     1489     12  smart          NaN             NaN            35.0   \n",
       "\n",
       "       mb_used  income  \n",
       "8     18429.34    1150  \n",
       "9     14036.66     550  \n",
       "10    10856.82     550  \n",
       "11    17580.10    1150  \n",
       "12    20319.26    1550  \n",
       "...        ...     ...  \n",
       "3207  11050.56     550  \n",
       "3208  17206.30     950  \n",
       "3209  19559.44    1550  \n",
       "3210  17491.56    1150  \n",
       "3211  17322.51     950  \n",
       "\n",
       "[2229 rows x 8 columns]"
      ]
     },
     "execution_count": 116,
     "metadata": {},
     "output_type": "execute_result"
    }
   ],
   "source": [
    "months_stat.query('tariff == \"smart\"')"
   ]
  },
  {
   "cell_type": "markdown",
   "metadata": {},
   "source": [
    "найдем среднюю выручку выручку по пользователям тарифа смарт:"
   ]
  },
  {
   "cell_type": "code",
   "execution_count": 109,
   "metadata": {},
   "outputs": [],
   "source": [
    "smart_income_stat = months_stat.query('tariff == \"smart\"')"
   ]
  },
  {
   "cell_type": "code",
   "execution_count": 112,
   "metadata": {},
   "outputs": [],
   "source": [
    "smart_income_user_stat = smart_income_stat.pivot_table(index = 'user_id', values = 'income', aggfunc = 'sum')"
   ]
  },
  {
   "cell_type": "code",
   "execution_count": 146,
   "metadata": {},
   "outputs": [
    {
     "data": {
      "text/html": [
       "<div>\n",
       "<style scoped>\n",
       "    .dataframe tbody tr th:only-of-type {\n",
       "        vertical-align: middle;\n",
       "    }\n",
       "\n",
       "    .dataframe tbody tr th {\n",
       "        vertical-align: top;\n",
       "    }\n",
       "\n",
       "    .dataframe thead th {\n",
       "        text-align: right;\n",
       "    }\n",
       "</style>\n",
       "<table border=\"1\" class=\"dataframe\">\n",
       "  <thead>\n",
       "    <tr style=\"text-align: right;\">\n",
       "      <th></th>\n",
       "      <th>income</th>\n",
       "    </tr>\n",
       "    <tr>\n",
       "      <th>user_id</th>\n",
       "      <th></th>\n",
       "    </tr>\n",
       "  </thead>\n",
       "  <tbody>\n",
       "    <tr>\n",
       "      <td>1001</td>\n",
       "      <td>1700</td>\n",
       "    </tr>\n",
       "    <tr>\n",
       "      <td>1002</td>\n",
       "      <td>7250</td>\n",
       "    </tr>\n",
       "    <tr>\n",
       "      <td>1005</td>\n",
       "      <td>6600</td>\n",
       "    </tr>\n",
       "    <tr>\n",
       "      <td>1006</td>\n",
       "      <td>9850</td>\n",
       "    </tr>\n",
       "    <tr>\n",
       "      <td>1007</td>\n",
       "      <td>7150</td>\n",
       "    </tr>\n",
       "  </tbody>\n",
       "</table>\n",
       "</div>"
      ],
      "text/plain": [
       "         income\n",
       "user_id        \n",
       "1001       1700\n",
       "1002       7250\n",
       "1005       6600\n",
       "1006       9850\n",
       "1007       7150"
      ]
     },
     "execution_count": 146,
     "metadata": {},
     "output_type": "execute_result"
    }
   ],
   "source": [
    "smart_income_user_stat.head()"
   ]
  },
  {
   "cell_type": "code",
   "execution_count": null,
   "metadata": {},
   "outputs": [],
   "source": [
    "#найдем среднюю выручку выручку по пользователям тарифа ультра"
   ]
  },
  {
   "cell_type": "code",
   "execution_count": 120,
   "metadata": {},
   "outputs": [],
   "source": [
    "ultra_income_stat = months_stat.query('tariff == \"ultra\"')"
   ]
  },
  {
   "cell_type": "code",
   "execution_count": 151,
   "metadata": {},
   "outputs": [],
   "source": [
    "ultra_income_user_stat = ultra_income_stat.pivot_table(index = 'user_id', values = 'income', aggfunc = 'sum')"
   ]
  },
  {
   "cell_type": "code",
   "execution_count": 152,
   "metadata": {},
   "outputs": [
    {
     "data": {
      "text/html": [
       "<div>\n",
       "<style scoped>\n",
       "    .dataframe tbody tr th:only-of-type {\n",
       "        vertical-align: middle;\n",
       "    }\n",
       "\n",
       "    .dataframe tbody tr th {\n",
       "        vertical-align: top;\n",
       "    }\n",
       "\n",
       "    .dataframe thead th {\n",
       "        text-align: right;\n",
       "    }\n",
       "</style>\n",
       "<table border=\"1\" class=\"dataframe\">\n",
       "  <thead>\n",
       "    <tr style=\"text-align: right;\">\n",
       "      <th></th>\n",
       "      <th>income</th>\n",
       "    </tr>\n",
       "    <tr>\n",
       "      <th>user_id</th>\n",
       "      <th></th>\n",
       "    </tr>\n",
       "  </thead>\n",
       "  <tbody>\n",
       "    <tr>\n",
       "      <td>1000</td>\n",
       "      <td>15600</td>\n",
       "    </tr>\n",
       "    <tr>\n",
       "      <td>1003</td>\n",
       "      <td>9750</td>\n",
       "    </tr>\n",
       "    <tr>\n",
       "      <td>1004</td>\n",
       "      <td>15600</td>\n",
       "    </tr>\n",
       "    <tr>\n",
       "      <td>1013</td>\n",
       "      <td>3900</td>\n",
       "    </tr>\n",
       "    <tr>\n",
       "      <td>1016</td>\n",
       "      <td>3900</td>\n",
       "    </tr>\n",
       "  </tbody>\n",
       "</table>\n",
       "</div>"
      ],
      "text/plain": [
       "         income\n",
       "user_id        \n",
       "1000      15600\n",
       "1003       9750\n",
       "1004      15600\n",
       "1013       3900\n",
       "1016       3900"
      ]
     },
     "execution_count": 152,
     "metadata": {},
     "output_type": "execute_result"
    }
   ],
   "source": [
    "ultra_income_user_stat.head()"
   ]
  },
  {
   "cell_type": "code",
   "execution_count": 153,
   "metadata": {},
   "outputs": [],
   "source": [
    "from scipy import stats as st"
   ]
  },
  {
   "cell_type": "code",
   "execution_count": 154,
   "metadata": {
    "scrolled": false
   },
   "outputs": [
    {
     "name": "stdout",
     "output_type": "stream",
     "text": [
      "p-значение: [6.06403279e-29]\n",
      "Отвергаем нулевую гипотезу\n"
     ]
    }
   ],
   "source": [
    "#проверим нулевую гипотезу\n",
    "alpha = 0.05 # критический уровень статистической значимости\n",
    "            # если p-value окажется меньше него - отвергнем гипотезу\n",
    "results = st.ttest_ind(\n",
    "    ultra_income_user_stat, \n",
    "    smart_income_user_stat)\n",
    "\n",
    "print('p-значение:', results.pvalue)\n",
    "\n",
    "if (results.pvalue < alpha):\n",
    "    print(\"Отвергаем нулевую гипотезу\")\n",
    "else:\n",
    "    print(\"Не получилось отвергнуть нулевую гипотезу\")"
   ]
  },
  {
   "cell_type": "markdown",
   "metadata": {},
   "source": [
    "Раз нулевая гипотеза отвергнута => альернатнаивная гипотеза имеет место быть.  "
   ]
  },
  {
   "cell_type": "markdown",
   "metadata": {},
   "source": [
    "#### Гипотеза 2. средняя выручка пользователей из Москвы отличается от выручки пользователей из других регионов"
   ]
  },
  {
   "cell_type": "markdown",
   "metadata": {},
   "source": [
    "Нулевая гипотеза: cредняя выручка пользователей из Москвы равна средней выручке пользователей из других региононов. \n",
    "Я выбрал именно такую нулевую гипотезу, т.к. она должна вкючать в себя знак равенства. \n",
    "Альтернатиная гипотеза : средняя выручка пользователей из Москвы отличается от выручки пользователей из других регионов "
   ]
  },
  {
   "cell_type": "code",
   "execution_count": null,
   "metadata": {},
   "outputs": [],
   "source": [
    "# добавим в таблицу months_stat столбец с населенными пунктам"
   ]
  },
  {
   "cell_type": "code",
   "execution_count": 131,
   "metadata": {},
   "outputs": [],
   "source": [
    "city_stat = months_stat.merge(users, on = 'user_id', how = 'left') #cклеил таблицы, чтобы получить\n",
    "# столбец с населенными пунктами (Мне кажется это какой-то костыльный способ, можно как-нибудь \n",
    "# по-другому добавить столбец из таблицы с другими индексами ?:)"
   ]
  },
  {
   "cell_type": "code",
   "execution_count": 133,
   "metadata": {},
   "outputs": [],
   "source": [
    "moscow_stat = city_stat.query('city == \"Москва\"')"
   ]
  },
  {
   "cell_type": "code",
   "execution_count": 142,
   "metadata": {},
   "outputs": [],
   "source": [
    "moscow_stat_income = moscow_stat.pivot_table(index = 'user_id', values = 'income', aggfunc = 'sum')"
   ]
  },
  {
   "cell_type": "code",
   "execution_count": 158,
   "metadata": {},
   "outputs": [
    {
     "data": {
      "text/html": [
       "<div>\n",
       "<style scoped>\n",
       "    .dataframe tbody tr th:only-of-type {\n",
       "        vertical-align: middle;\n",
       "    }\n",
       "\n",
       "    .dataframe tbody tr th {\n",
       "        vertical-align: top;\n",
       "    }\n",
       "\n",
       "    .dataframe thead th {\n",
       "        text-align: right;\n",
       "    }\n",
       "</style>\n",
       "<table border=\"1\" class=\"dataframe\">\n",
       "  <thead>\n",
       "    <tr style=\"text-align: right;\">\n",
       "      <th></th>\n",
       "      <th>income</th>\n",
       "    </tr>\n",
       "    <tr>\n",
       "      <th>user_id</th>\n",
       "      <th></th>\n",
       "    </tr>\n",
       "  </thead>\n",
       "  <tbody>\n",
       "    <tr>\n",
       "      <td>1001</td>\n",
       "      <td>1700</td>\n",
       "    </tr>\n",
       "    <tr>\n",
       "      <td>1003</td>\n",
       "      <td>9750</td>\n",
       "    </tr>\n",
       "    <tr>\n",
       "      <td>1007</td>\n",
       "      <td>7150</td>\n",
       "    </tr>\n",
       "    <tr>\n",
       "      <td>1031</td>\n",
       "      <td>1100</td>\n",
       "    </tr>\n",
       "    <tr>\n",
       "      <td>1033</td>\n",
       "      <td>10900</td>\n",
       "    </tr>\n",
       "  </tbody>\n",
       "</table>\n",
       "</div>"
      ],
      "text/plain": [
       "         income\n",
       "user_id        \n",
       "1001       1700\n",
       "1003       9750\n",
       "1007       7150\n",
       "1031       1100\n",
       "1033      10900"
      ]
     },
     "execution_count": 158,
     "metadata": {},
     "output_type": "execute_result"
    }
   ],
   "source": [
    "moscow_stat_income.head()"
   ]
  },
  {
   "cell_type": "code",
   "execution_count": 140,
   "metadata": {},
   "outputs": [],
   "source": [
    "not_moscow_stat = city_stat.query('city != \"Москва\"')"
   ]
  },
  {
   "cell_type": "code",
   "execution_count": 147,
   "metadata": {},
   "outputs": [],
   "source": [
    "not_moscow_stat_income = not_moscow_stat.pivot_table(index = 'user_id', values = 'income', aggfunc = 'sum')"
   ]
  },
  {
   "cell_type": "code",
   "execution_count": 156,
   "metadata": {},
   "outputs": [
    {
     "data": {
      "text/html": [
       "<div>\n",
       "<style scoped>\n",
       "    .dataframe tbody tr th:only-of-type {\n",
       "        vertical-align: middle;\n",
       "    }\n",
       "\n",
       "    .dataframe tbody tr th {\n",
       "        vertical-align: top;\n",
       "    }\n",
       "\n",
       "    .dataframe thead th {\n",
       "        text-align: right;\n",
       "    }\n",
       "</style>\n",
       "<table border=\"1\" class=\"dataframe\">\n",
       "  <thead>\n",
       "    <tr style=\"text-align: right;\">\n",
       "      <th></th>\n",
       "      <th>income</th>\n",
       "    </tr>\n",
       "    <tr>\n",
       "      <th>user_id</th>\n",
       "      <th></th>\n",
       "    </tr>\n",
       "  </thead>\n",
       "  <tbody>\n",
       "    <tr>\n",
       "      <td>1000</td>\n",
       "      <td>15600</td>\n",
       "    </tr>\n",
       "    <tr>\n",
       "      <td>1002</td>\n",
       "      <td>7250</td>\n",
       "    </tr>\n",
       "    <tr>\n",
       "      <td>1004</td>\n",
       "      <td>15600</td>\n",
       "    </tr>\n",
       "    <tr>\n",
       "      <td>1005</td>\n",
       "      <td>6600</td>\n",
       "    </tr>\n",
       "    <tr>\n",
       "      <td>1006</td>\n",
       "      <td>9850</td>\n",
       "    </tr>\n",
       "  </tbody>\n",
       "</table>\n",
       "</div>"
      ],
      "text/plain": [
       "         income\n",
       "user_id        \n",
       "1000      15600\n",
       "1002       7250\n",
       "1004      15600\n",
       "1005       6600\n",
       "1006       9850"
      ]
     },
     "execution_count": 156,
     "metadata": {},
     "output_type": "execute_result"
    }
   ],
   "source": [
    "not_moscow_stat_income.head()"
   ]
  },
  {
   "cell_type": "code",
   "execution_count": 159,
   "metadata": {
    "scrolled": true
   },
   "outputs": [
    {
     "name": "stdout",
     "output_type": "stream",
     "text": [
      "p-значение: [0.74729072]\n",
      "Не получилось отвергнуть нулевую гипотезу\n"
     ]
    }
   ],
   "source": [
    "alpha = 0.05 # критический уровень статистической значимости\n",
    "            # если p-value окажется меньше него - отвергнем гипотезу\n",
    "results = st.ttest_ind(\n",
    "    moscow_stat_income, \n",
    "    not_moscow_stat_income)\n",
    "\n",
    "print('p-значение:', results.pvalue)\n",
    "\n",
    "if (results.pvalue < alpha):\n",
    "    print(\"Отвергаем нулевую гипотезу\")\n",
    "else:\n",
    "    print(\"Не получилось отвергнуть нулевую гипотезу\")"
   ]
  },
  {
   "cell_type": "markdown",
   "metadata": {},
   "source": [
    "Если нет оснований отвергать нулевую гипотезу => гипотеза об отличии выручки не подтвердилась. "
   ]
  },
  {
   "cell_type": "markdown",
   "metadata": {},
   "source": [
    "### Вывод\n",
    "\n",
    "1. Имеющиеся данные не противоречат Гипотезе 1: средняя выручка пользователей тарифов «Ультра» и «Смарт» различается \n",
    "\n",
    "2. Имеющиеся данные  противоречат Гипотезе 2: средняя выручка пользователей из Москвы отличается от выручки пользователей из других регионов\n"
   ]
  },
  {
   "cell_type": "markdown",
   "metadata": {},
   "source": [
    "#### Заключительное сравнение"
   ]
  },
  {
   "cell_type": "markdown",
   "metadata": {},
   "source": [
    "Посчитаем средние значенее и медиану для обоих тарифов, а также построим диаграму размаха чтобы сравнить прибыльность и перспективы развития тарифов"
   ]
  },
  {
   "cell_type": "code",
   "execution_count": 160,
   "metadata": {},
   "outputs": [
    {
     "data": {
      "text/plain": [
       "income    13577.027027\n",
       "dtype: float64"
      ]
     },
     "execution_count": 160,
     "metadata": {},
     "output_type": "execute_result"
    }
   ],
   "source": [
    "ultra_income_user_stat.mean()"
   ]
  },
  {
   "cell_type": "code",
   "execution_count": 161,
   "metadata": {},
   "outputs": [
    {
     "data": {
      "text/plain": [
       "income    13650.0\n",
       "dtype: float64"
      ]
     },
     "execution_count": 161,
     "metadata": {},
     "output_type": "execute_result"
    }
   ],
   "source": [
    "\n",
    "ultra_income_user_stat.median()"
   ]
  },
  {
   "cell_type": "code",
   "execution_count": 162,
   "metadata": {},
   "outputs": [
    {
     "data": {
      "text/plain": [
       "income    7172.428571\n",
       "dtype: float64"
      ]
     },
     "execution_count": 162,
     "metadata": {},
     "output_type": "execute_result"
    }
   ],
   "source": [
    "smart_income_user_stat.mean()"
   ]
  },
  {
   "cell_type": "code",
   "execution_count": 163,
   "metadata": {},
   "outputs": [
    {
     "data": {
      "text/plain": [
       "income    6300.0\n",
       "dtype: float64"
      ]
     },
     "execution_count": 163,
     "metadata": {},
     "output_type": "execute_result"
    }
   ],
   "source": [
    "smart_income_user_stat.median()"
   ]
  },
  {
   "cell_type": "code",
   "execution_count": 164,
   "metadata": {},
   "outputs": [
    {
     "data": {
      "text/plain": [
       "<matplotlib.axes._subplots.AxesSubplot at 0x7f0b7ad3ef60>"
      ]
     },
     "execution_count": 164,
     "metadata": {},
     "output_type": "execute_result"
    },
    {
     "data": {
      "image/png": "[encoded data removed]",
      "text/plain": [
       "<Figure size 432x288 with 1 Axes>"
      ]
     },
     "metadata": {
      "needs_background": "light"
     },
     "output_type": "display_data"
    }
   ],
   "source": [
    "#построим диаграмы размаха чтобы проверить скошенность \n",
    "ultra_income_user_stat.boxplot()"
   ]
  },
  {
   "cell_type": "code",
   "execution_count": 165,
   "metadata": {
    "scrolled": true
   },
   "outputs": [
    {
     "data": {
      "text/plain": [
       "<matplotlib.axes._subplots.AxesSubplot at 0x7f0b7a7a5240>"
      ]
     },
     "execution_count": 165,
     "metadata": {},
     "output_type": "execute_result"
    },
    {
     "data": {
      "image/png": "[encoded data removed]",
      "text/plain": [
       "<Figure size 432x288 with 1 Axes>"
      ]
     },
     "metadata": {
      "needs_background": "light"
     },
     "output_type": "display_data"
    }
   ],
   "source": [
    "smart_income_user_stat.boxplot()"
   ]
  },
  {
   "cell_type": "markdown",
   "metadata": {},
   "source": [
    "Медена тарифа ultra почти в два раза больше медианы тарифа smart, то же самое качается и средних.\n",
    "В тарифе smart есть пользователи, которые принесли прибыль компании от 19 000  до 25 000р каждый, \n",
    "однако их количество не существенно и значения находястя в зоне выбросов. Змаетной скошенности \n",
    "в распределении прибыли по обоим тарифом тоже нет."
   ]
  },
  {
   "cell_type": "markdown",
   "metadata": {},
   "source": [
    "### Общий вывод "
   ]
  },
  {
   "cell_type": "markdown",
   "metadata": {},
   "source": [
    "1. Пользоватили ultrа активней пользуются услугами оператора, следовательно (и как подтвердилось в предыдущем пункте) приносят в среднем больше прибыли компании. \n",
    "2. Пользователй ultra меньше пользователей smart в ~2,4 раза, следовательно есть смысл вкладывать\n",
    "в продвижение ultra, т.к. часть клиентов могут перейти на него со smart и увеличить прибыль компании.\n",
    "3. С точки зрения клиента, если принебречь высокой ценой тарифа ultra, тариф в целом удовлетворяет потребности пользователей, особенно там, где у smart есть неудобства - интернет траффик. Средний пользователь превышает бесплатный лимит и вынужден доплачивать за каждый Гб интернет трафика, что психологичкси неудобно в сравнении с единовременной оплатой в случае ultra, где в среднем пользователи укладываются в 20Гб лимита и не доплачивают за издержки.\n",
    "\n",
    "Вывод - тариф ultra выгодней для компании, и имеет более высокий приоритет развития\n"
   ]
  }
 ],
 "metadata": {
  "kernelspec": {
   "display_name": "Python 3",
   "language": "python",
   "name": "python3"
  },
  "language_info": {
   "codemirror_mode": {
    "name": "ipython",
    "version": 3
   },
   "file_extension": ".py",
   "mimetype": "text/x-python",
   "name": "python",
   "nbconvert_exporter": "python",
   "pygments_lexer": "ipython3",
   "version": "3.7.4"
  }
 },
 "nbformat": 4,
 "nbformat_minor": 2
}
