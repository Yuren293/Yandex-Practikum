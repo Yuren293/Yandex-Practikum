{
 "cells": [
  {
   "cell_type": "markdown",
   "metadata": {},
   "source": [
    "# 1. Исследовательский анализ данных"
   ]
  },
  {
   "cell_type": "code",
   "execution_count": 2,
   "metadata": {},
   "outputs": [
    {
     "name": "stdout",
     "output_type": "stream",
     "text": [
      "Collecting ipyplot\n",
      "  Downloading https://files.pythonhosted.org/packages/c8/79/73a14a6d2727555a14c62b9acb97c8f2624d6d878d9964054f2f039f6a7a/ipyplot-1.0.5-py3-none-any.whl\n",
      "Requirement already satisfied: IPython in c:\\programs\\programming\\anaconda\\lib\\site-packages (from ipyplot) (7.8.0)\n",
      "Requirement already satisfied: pillow in c:\\programs\\programming\\anaconda\\lib\\site-packages (from ipyplot) (6.2.0)\n",
      "Requirement already satisfied: numpy in c:\\programs\\programming\\anaconda\\lib\\site-packages (from ipyplot) (1.16.5)\n",
      "Requirement already satisfied: decorator in c:\\programs\\programming\\anaconda\\lib\\site-packages (from IPython->ipyplot) (4.4.0)\n",
      "Requirement already satisfied: pygments in c:\\programs\\programming\\anaconda\\lib\\site-packages (from IPython->ipyplot) (2.4.2)\n",
      "Requirement already satisfied: traitlets>=4.2 in c:\\programs\\programming\\anaconda\\lib\\site-packages (from IPython->ipyplot) (4.3.3)\n",
      "Requirement already satisfied: pickleshare in c:\\programs\\programming\\anaconda\\lib\\site-packages (from IPython->ipyplot) (0.7.5)\n",
      "Requirement already satisfied: setuptools>=18.5 in c:\\programs\\programming\\anaconda\\lib\\site-packages (from IPython->ipyplot) (41.4.0)\n",
      "Requirement already satisfied: colorama; sys_platform == \"win32\" in c:\\programs\\programming\\anaconda\\lib\\site-packages (from IPython->ipyplot) (0.4.1)\n",
      "Requirement already satisfied: jedi>=0.10 in c:\\programs\\programming\\anaconda\\lib\\site-packages (from IPython->ipyplot) (0.15.1)\n",
      "Requirement already satisfied: prompt-toolkit<2.1.0,>=2.0.0 in c:\\programs\\programming\\anaconda\\lib\\site-packages (from IPython->ipyplot) (2.0.10)\n",
      "Requirement already satisfied: backcall in c:\\programs\\programming\\anaconda\\lib\\site-packages (from IPython->ipyplot) (0.1.0)\n",
      "Requirement already satisfied: ipython-genutils in c:\\programs\\programming\\anaconda\\lib\\site-packages (from traitlets>=4.2->IPython->ipyplot) (0.2.0)\n",
      "Requirement already satisfied: six in c:\\programs\\programming\\anaconda\\lib\\site-packages (from traitlets>=4.2->IPython->ipyplot) (1.12.0)\n",
      "Requirement already satisfied: parso>=0.5.0 in c:\\programs\\programming\\anaconda\\lib\\site-packages (from jedi>=0.10->IPython->ipyplot) (0.5.1)\n",
      "Requirement already satisfied: wcwidth in c:\\programs\\programming\\anaconda\\lib\\site-packages (from prompt-toolkit<2.1.0,>=2.0.0->IPython->ipyplot) (0.1.7)\n",
      "Installing collected packages: ipyplot\n",
      "Successfully installed ipyplot-1.0.5\n",
      "Note: you may need to restart the kernel to use updated packages.\n"
     ]
    }
   ],
   "source": [
    "pip install ipyplot"
   ]
  },
  {
   "cell_type": "code",
   "execution_count": 3,
   "metadata": {},
   "outputs": [],
   "source": [
    "import pandas as pd\n",
    "from tensorflow.keras.preprocessing.image import ImageDataGenerator\n",
    "import matplotlib.image as mpimg\n",
    "import matplotlib.pyplot as plt\n",
    "import ipyplot\n",
    "import numpy as np"
   ]
  },
  {
   "cell_type": "code",
   "execution_count": 5,
   "metadata": {},
   "outputs": [],
   "source": [
    "labels = pd.read_csv('/datasets/faces/labels.csv')"
   ]
  },
  {
   "cell_type": "code",
   "execution_count": null,
   "metadata": {},
   "outputs": [],
   "source": [
    "labels.info()"
   ]
  },
  {
   "cell_type": "markdown",
   "metadata": {},
   "source": [
    "Размер выборки - 7591 фотография "
   ]
  },
  {
   "cell_type": "code",
   "execution_count": null,
   "metadata": {},
   "outputs": [],
   "source": [
    "labels.hist()"
   ]
  },
  {
   "cell_type": "code",
   "execution_count": null,
   "metadata": {},
   "outputs": [],
   "source": [
    "datagen = ImageDataGenerator(rescale=1./255)\n",
    "datagen_flow = datagen.flow_from_dataframe(\n",
    "        dataframe=labels,\n",
    "        directory='/datasets/faces/final_files/',\n",
    "        x_col='file_name',\n",
    "        y_col='real_age',\n",
    "        target_size=(224, 224),\n",
    "        batch_size=32,\n",
    "        class_mode='raw',\n",
    "        seed=12345)"
   ]
  },
  {
   "cell_type": "code",
   "execution_count": null,
   "metadata": {},
   "outputs": [],
   "source": [
    "features, target = next(datagen_flow)"
   ]
  },
  {
   "cell_type": "code",
   "execution_count": null,
   "metadata": {},
   "outputs": [],
   "source": [
    "features"
   ]
  },
  {
   "cell_type": "code",
   "execution_count": null,
   "metadata": {},
   "outputs": [],
   "source": [
    "features.shape"
   ]
  },
  {
   "cell_type": "code",
   "execution_count": null,
   "metadata": {},
   "outputs": [],
   "source": [
    "target"
   ]
  },
  {
   "cell_type": "code",
   "execution_count": null,
   "metadata": {},
   "outputs": [],
   "source": [
    "for i in features:\n",
    "    plt.figure()\n",
    "    plt.imshow(i)"
   ]
  },
  {
   "cell_type": "code",
   "execution_count": null,
   "metadata": {},
   "outputs": [],
   "source": [
    "#ipyplot.plot_images(features,  max_images = 15, img_width = 150)"
   ]
  },
  {
   "cell_type": "markdown",
   "metadata": {},
   "source": [
    "# 2. Обучение модели"
   ]
  },
  {
   "cell_type": "markdown",
   "metadata": {},
   "source": [
    "Перенесите сюда код обучения модели и её результат вывода на экран.\n",
    "\n",
    "\n",
    "(Код в этом разделе запускается в отдельном GPU-тренажёре, поэтому оформлен не как ячейка с кодом, а как код в текстовой ячейке)"
   ]
  },
  {
   "cell_type": "code",
   "execution_count": null,
   "metadata": {},
   "outputs": [],
   "source": [
    "# обучение возрастного классификатора Resnet50\n",
    "from tensorflow.keras.datasets import fashion_mnist\n",
    "from tensorflow.keras.layers import   Conv2D, Flatten, AvgPool2D\n",
    "from tensorflow.keras.layers import Dense\n",
    "from tensorflow.keras.layers import GlobalAveragePooling2D\n",
    "from tensorflow.keras.models import Sequential\n",
    "import numpy as np\n",
    "import pandas as pd\n",
    "from tensorflow.keras.optimizers import Adam\n",
    "from tensorflow.keras.preprocessing.image import ImageDataGenerator #загруузчик\n",
    "from tensorflow.keras.applications.resnet import ResNet50 \n",
    "\n",
    "\n",
    "\n",
    "def load_train(path):\n",
    "    labels = pd.read_csv(path+'labels.csv')                                                     \n",
    "    train_datagen = ImageDataGenerator(rescale= 1./255, validation_split=0.25)  \n",
    "    train_datagen_flow = train_datagen.flow_from_dataframe(\n",
    "        dataframe = labels,\n",
    "        directory = path + 'final_files/',\n",
    "        x_col='file_name',\n",
    "        y_col='real_age',\n",
    "        target_size=(224, 224),\n",
    "        batch_size=32,\n",
    "        class_mode='raw',\n",
    "        subset='training', # установил subset='training', чтобы тест и трейн отличались\n",
    "        seed=12345)\n",
    "\n",
    "    return train_datagen_flow\n",
    "\n",
    "def load_test(path):\n",
    "    labels = pd.read_csv(path+'labels.csv')  \n",
    "    test_datagen = ImageDataGenerator(rescale= 1./255, validation_split=0.25)  # Удалл validation split\n",
    "    test_datagen_flow = test_datagen.flow_from_dataframe(\n",
    "        dataframe = labels,\n",
    "        directory = path + 'final_files/',\n",
    "        x_col='file_name',\n",
    "        y_col='real_age',\n",
    "        target_size=(224, 224),\n",
    "        batch_size=32,\n",
    "        class_mode='raw',\n",
    "        subset='validation', # установил subset='validation', чтобы тест и трейн отличались\n",
    "        seed=12345)\n",
    "    \n",
    "    return test_datagen_flow\n",
    "\n",
    "def create_model(input_shape):\n",
    "    \n",
    "    backbone = ResNet50(input_shape= input_shape,\n",
    "                    weights='imagenet', \n",
    "                    include_top= False)  # без кол ва классов\n",
    "                     \n",
    "    # замораживаем ResNet50 без верхушки\n",
    "    #backbone.trainable = False\n",
    "    model = Sequential()\n",
    "    model.add(backbone)\n",
    "    model.add(GlobalAveragePooling2D())\n",
    "    #model.add(Flatten())                       # не было flatten\n",
    "    model.add(Dense(1, activation='relu'))\n",
    "    optimizer = Adam(lr=0.0005)\n",
    "    model.compile(optimizer=optimizer, loss='mean_squared_error',metrics=['mae']) #пожно поменять на mean_absolute_error\n",
    "    \n",
    "\n",
    "    return model\n",
    "    \n",
    "    \n",
    "def train_model(model, train_data, test_data, batch_size=None, epochs= 10,\n",
    "                steps_per_epoch=None, validation_steps=None):\n",
    "    \n",
    "    if steps_per_epoch is None:\n",
    "        steps_per_epoch = len(train_data)\n",
    "    if validation_steps is None:\n",
    "        validation_steps = len(test_data)\n",
    "    model.fit(train_data, \n",
    "              validation_data= test_data,\n",
    "              batch_size=batch_size, epochs=epochs,\n",
    "              steps_per_epoch=steps_per_epoch,\n",
    "              validation_steps=validation_steps,\n",
    "              verbose=2) #shuffle=True   \n",
    "    return model"
   ]
  },
  {
   "cell_type": "markdown",
   "metadata": {},
   "source": [
    "# 3. Анализ обученной модели"
   ]
  },
  {
   "cell_type": "markdown",
   "metadata": {},
   "source": [
    "Обученная модель показала ошибку в рамках допустимого диапозона. MAE составила 6.83.  Насколько я понял, можно было оставить 7 эпох, т.к. после 7ой она начала переобучаться. В качестве функции потерь использовалась MSE, т.к. говорят, что нейросети обучаются быстрей на ней, чем на MAE. "
   ]
  }
 ],
 "metadata": {
  "kernelspec": {
   "display_name": "Python 3",
   "language": "python",
   "name": "python3"
  },
  "language_info": {
   "codemirror_mode": {
    "name": "ipython",
    "version": 3
   },
   "file_extension": ".py",
   "mimetype": "text/x-python",
   "name": "python",
   "nbconvert_exporter": "python",
   "pygments_lexer": "ipython3",
   "version": "3.7.4"
  }
 },
 "nbformat": 4,
 "nbformat_minor": 2
}
