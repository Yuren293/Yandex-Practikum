{
 "cells": [
  {
   "cell_type": "markdown",
   "metadata": {},
   "source": [
    "# Рекомендация тарифов"
   ]
  },
  {
   "cell_type": "markdown",
   "metadata": {},
   "source": [
    "В вашем распоряжении данные о поведении клиентов, которые уже перешли на эти тарифы (из проекта курса «Статистический анализ данных»). Нужно построить модель для задачи классификации, которая выберет подходящий тариф. Предобработка данных не понадобится — вы её уже сделали.\n",
    "\n",
    "Постройте модель с максимально большим значением *accuracy*. Чтобы сдать проект успешно, нужно довести долю правильных ответов по крайней мере до 0.75. Проверьте *accuracy* на тестовой выборке самостоятельно."
   ]
  },
  {
   "cell_type": "markdown",
   "metadata": {},
   "source": [
    "## 1. Откройте и изучите файл"
   ]
  },
  {
   "cell_type": "code",
   "execution_count": 1,
   "metadata": {},
   "outputs": [],
   "source": [
    "import pandas as pd\n",
    "from sklearn.tree import DecisionTreeClassifier\n",
    "from sklearn.ensemble import RandomForestClassifier\n",
    "from sklearn.linear_model import LogisticRegression\n",
    "from sklearn.model_selection import train_test_split\n",
    "from sklearn.metrics import accuracy_score"
   ]
  },
  {
   "cell_type": "code",
   "execution_count": 2,
   "metadata": {},
   "outputs": [],
   "source": [
    "df = pd.read_csv('/datasets/users_behavior.csv')"
   ]
  },
  {
   "cell_type": "code",
   "execution_count": 3,
   "metadata": {},
   "outputs": [
    {
     "data": {
      "text/html": [
       "<div>\n",
       "<style scoped>\n",
       "    .dataframe tbody tr th:only-of-type {\n",
       "        vertical-align: middle;\n",
       "    }\n",
       "\n",
       "    .dataframe tbody tr th {\n",
       "        vertical-align: top;\n",
       "    }\n",
       "\n",
       "    .dataframe thead th {\n",
       "        text-align: right;\n",
       "    }\n",
       "</style>\n",
       "<table border=\"1\" class=\"dataframe\">\n",
       "  <thead>\n",
       "    <tr style=\"text-align: right;\">\n",
       "      <th></th>\n",
       "      <th>calls</th>\n",
       "      <th>minutes</th>\n",
       "      <th>messages</th>\n",
       "      <th>mb_used</th>\n",
       "      <th>is_ultra</th>\n",
       "    </tr>\n",
       "  </thead>\n",
       "  <tbody>\n",
       "    <tr>\n",
       "      <td>0</td>\n",
       "      <td>40.0</td>\n",
       "      <td>311.90</td>\n",
       "      <td>83.0</td>\n",
       "      <td>19915.42</td>\n",
       "      <td>0</td>\n",
       "    </tr>\n",
       "    <tr>\n",
       "      <td>1</td>\n",
       "      <td>85.0</td>\n",
       "      <td>516.75</td>\n",
       "      <td>56.0</td>\n",
       "      <td>22696.96</td>\n",
       "      <td>0</td>\n",
       "    </tr>\n",
       "    <tr>\n",
       "      <td>2</td>\n",
       "      <td>77.0</td>\n",
       "      <td>467.66</td>\n",
       "      <td>86.0</td>\n",
       "      <td>21060.45</td>\n",
       "      <td>0</td>\n",
       "    </tr>\n",
       "    <tr>\n",
       "      <td>3</td>\n",
       "      <td>106.0</td>\n",
       "      <td>745.53</td>\n",
       "      <td>81.0</td>\n",
       "      <td>8437.39</td>\n",
       "      <td>1</td>\n",
       "    </tr>\n",
       "    <tr>\n",
       "      <td>4</td>\n",
       "      <td>66.0</td>\n",
       "      <td>418.74</td>\n",
       "      <td>1.0</td>\n",
       "      <td>14502.75</td>\n",
       "      <td>0</td>\n",
       "    </tr>\n",
       "    <tr>\n",
       "      <td>...</td>\n",
       "      <td>...</td>\n",
       "      <td>...</td>\n",
       "      <td>...</td>\n",
       "      <td>...</td>\n",
       "      <td>...</td>\n",
       "    </tr>\n",
       "    <tr>\n",
       "      <td>3209</td>\n",
       "      <td>122.0</td>\n",
       "      <td>910.98</td>\n",
       "      <td>20.0</td>\n",
       "      <td>35124.90</td>\n",
       "      <td>1</td>\n",
       "    </tr>\n",
       "    <tr>\n",
       "      <td>3210</td>\n",
       "      <td>25.0</td>\n",
       "      <td>190.36</td>\n",
       "      <td>0.0</td>\n",
       "      <td>3275.61</td>\n",
       "      <td>0</td>\n",
       "    </tr>\n",
       "    <tr>\n",
       "      <td>3211</td>\n",
       "      <td>97.0</td>\n",
       "      <td>634.44</td>\n",
       "      <td>70.0</td>\n",
       "      <td>13974.06</td>\n",
       "      <td>0</td>\n",
       "    </tr>\n",
       "    <tr>\n",
       "      <td>3212</td>\n",
       "      <td>64.0</td>\n",
       "      <td>462.32</td>\n",
       "      <td>90.0</td>\n",
       "      <td>31239.78</td>\n",
       "      <td>0</td>\n",
       "    </tr>\n",
       "    <tr>\n",
       "      <td>3213</td>\n",
       "      <td>80.0</td>\n",
       "      <td>566.09</td>\n",
       "      <td>6.0</td>\n",
       "      <td>29480.52</td>\n",
       "      <td>1</td>\n",
       "    </tr>\n",
       "  </tbody>\n",
       "</table>\n",
       "<p>3214 rows × 5 columns</p>\n",
       "</div>"
      ],
      "text/plain": [
       "      calls  minutes  messages   mb_used  is_ultra\n",
       "0      40.0   311.90      83.0  19915.42         0\n",
       "1      85.0   516.75      56.0  22696.96         0\n",
       "2      77.0   467.66      86.0  21060.45         0\n",
       "3     106.0   745.53      81.0   8437.39         1\n",
       "4      66.0   418.74       1.0  14502.75         0\n",
       "...     ...      ...       ...       ...       ...\n",
       "3209  122.0   910.98      20.0  35124.90         1\n",
       "3210   25.0   190.36       0.0   3275.61         0\n",
       "3211   97.0   634.44      70.0  13974.06         0\n",
       "3212   64.0   462.32      90.0  31239.78         0\n",
       "3213   80.0   566.09       6.0  29480.52         1\n",
       "\n",
       "[3214 rows x 5 columns]"
      ]
     },
     "execution_count": 3,
     "metadata": {},
     "output_type": "execute_result"
    }
   ],
   "source": [
    "df"
   ]
  },
  {
   "cell_type": "code",
   "execution_count": 4,
   "metadata": {},
   "outputs": [
    {
     "name": "stdout",
     "output_type": "stream",
     "text": [
      "<class 'pandas.core.frame.DataFrame'>\n",
      "RangeIndex: 3214 entries, 0 to 3213\n",
      "Data columns (total 5 columns):\n",
      "calls       3214 non-null float64\n",
      "minutes     3214 non-null float64\n",
      "messages    3214 non-null float64\n",
      "mb_used     3214 non-null float64\n",
      "is_ultra    3214 non-null int64\n",
      "dtypes: float64(4), int64(1)\n",
      "memory usage: 125.7 KB\n"
     ]
    }
   ],
   "source": [
    "df.info()"
   ]
  },
  {
   "cell_type": "markdown",
   "metadata": {},
   "source": [
    "### Вывод"
   ]
  },
  {
   "cell_type": "markdown",
   "metadata": {},
   "source": [
    "Датафрейм переработан и готов к использованию. Есть даже значения целевого признака is_ultra. Все остальные признаки подходят для обучения моделей по определению целевого признака (тарифа) для каждого объекта (пользователя). "
   ]
  },
  {
   "cell_type": "markdown",
   "metadata": {},
   "source": [
    "## 2. Разбейте данные на выборки"
   ]
  },
  {
   "cell_type": "code",
   "execution_count": 5,
   "metadata": {},
   "outputs": [],
   "source": [
    "df_train, df_others = train_test_split(df, test_size=0.40, random_state=12345)"
   ]
  },
  {
   "cell_type": "code",
   "execution_count": 6,
   "metadata": {},
   "outputs": [],
   "source": [
    "df_valid, df_test = train_test_split(df_others, test_size=0.50, random_state=12345)"
   ]
  },
  {
   "cell_type": "code",
   "execution_count": 7,
   "metadata": {},
   "outputs": [
    {
     "data": {
      "text/plain": [
       "(1928, 5)"
      ]
     },
     "execution_count": 7,
     "metadata": {},
     "output_type": "execute_result"
    }
   ],
   "source": [
    "df_train.shape"
   ]
  },
  {
   "cell_type": "code",
   "execution_count": 8,
   "metadata": {},
   "outputs": [
    {
     "data": {
      "text/plain": [
       "(643, 5)"
      ]
     },
     "execution_count": 8,
     "metadata": {},
     "output_type": "execute_result"
    }
   ],
   "source": [
    "df_valid.shape"
   ]
  },
  {
   "cell_type": "code",
   "execution_count": 9,
   "metadata": {},
   "outputs": [
    {
     "data": {
      "text/plain": [
       "(643, 5)"
      ]
     },
     "execution_count": 9,
     "metadata": {},
     "output_type": "execute_result"
    }
   ],
   "source": [
    "df_test.shape"
   ]
  },
  {
   "cell_type": "markdown",
   "metadata": {},
   "source": [
    "### Вопрос \n",
    "Как я понял, должно  быть три выборки. Отдельного датафрейма с данными для тестирования в задании я не обнаружил. Если так, то какой смысл кроме обучающей и валидационной выделять тестировочную выборку из тех же исходных данных, если уже есть валидационная ?"
   ]
  },
  {
   "cell_type": "markdown",
   "metadata": {},
   "source": [
    "## 3. Исследуйте модели"
   ]
  },
  {
   "cell_type": "markdown",
   "metadata": {},
   "source": [
    "Выберем оптимальное решающее дерево и на его основе его параметров постоим случайный лес. Далее проверим модель логичтической регрессии"
   ]
  },
  {
   "cell_type": "code",
   "execution_count": 10,
   "metadata": {},
   "outputs": [],
   "source": [
    "train_features = df_train.drop(['is_ultra'], axis = 1)\n",
    "train_target = df_train['is_ultra']"
   ]
  },
  {
   "cell_type": "code",
   "execution_count": 11,
   "metadata": {},
   "outputs": [],
   "source": [
    "valid_features = df_valid.drop(['is_ultra'], axis = 1)\n",
    "valid_target = df_valid['is_ultra']"
   ]
  },
  {
   "cell_type": "code",
   "execution_count": 12,
   "metadata": {
    "scrolled": false
   },
   "outputs": [
    {
     "name": "stdout",
     "output_type": "stream",
     "text": [
      "max_depth:  1 ;  accuracy =  0.7542768273716952\n",
      "max_depth:  2 ;  accuracy =  0.7822706065318819\n",
      "max_depth:  3 ;  accuracy =  0.7853810264385692\n",
      "max_depth:  4 ;  accuracy =  0.7791601866251944\n",
      "max_depth:  5 ;  accuracy =  0.7791601866251944\n",
      "max_depth:  6 ;  accuracy =  0.7838258164852255\n",
      "max_depth:  7 ;  accuracy =  0.7822706065318819\n",
      "max_depth:  8 ;  accuracy =  0.7791601866251944\n",
      "max_depth:  9 ;  accuracy =  0.7822706065318819\n",
      "max_depth:  10 ;  accuracy =  0.7744945567651633\n",
      "max_depth:  11 ;  accuracy =  0.7620528771384136\n",
      "max_depth:  12 ;  accuracy =  0.7620528771384136\n",
      "max_depth:  13 ;  accuracy =  0.7558320373250389\n",
      "max_depth:  14 ;  accuracy =  0.7589424572317263\n",
      "max_depth:  15 ;  accuracy =  0.7465007776049767\n",
      "max_depth:  16 ;  accuracy =  0.7340590979782271\n",
      "max_depth:  17 ;  accuracy =  0.7356143079315708\n",
      "max_depth:  18 ;  accuracy =  0.7309486780715396\n",
      "max_depth:  19 ;  accuracy =  0.7278382581648523\n",
      "max_depth:  20 ;  accuracy =  0.7216174183514774\n",
      "max_depth:  21 ;  accuracy =  0.7278382581648523\n",
      "max_depth:  22 ;  accuracy =  0.7262830482115086\n",
      "max_depth:  23 ;  accuracy =  0.7169517884914464\n",
      "max_depth:  24 ;  accuracy =  0.713841368584759\n",
      "max_depth:  25 ;  accuracy =  0.713841368584759\n",
      "max_depth:  26 ;  accuracy =  0.713841368584759\n",
      "max_depth:  27 ;  accuracy =  0.713841368584759\n",
      "max_depth:  28 ;  accuracy =  0.713841368584759\n",
      "max_depth:  29 ;  accuracy =  0.713841368584759\n"
     ]
    }
   ],
   "source": [
    "t_models = [] \n",
    "for i in range(1, 30, 1):\n",
    "    model_tree = DecisionTreeClassifier(random_state = 12345, max_depth = i) #\n",
    "    model_tree.fit(train_features, train_target)\n",
    "    predictions =   model_tree.predict(valid_features) # проверим модель на валидационной выборке\n",
    "    accuracy = accuracy_score(valid_target, predictions)\n",
    "    t_models.append({\n",
    "        'depth': i,\n",
    "        'accuracy': accuracy,\n",
    "        'model': model_tree\n",
    "    })\n",
    "    print(\"max_depth: \", i, '; ', 'accuracy = ', accuracy)"
   ]
  },
  {
   "cell_type": "markdown",
   "metadata": {},
   "source": [
    "Не брал глубину дерева больше 30, чтобы не переобучить модель. "
   ]
  },
  {
   "cell_type": "code",
   "execution_count": 19,
   "metadata": {},
   "outputs": [],
   "source": [
    "#выведем максимальный показатель качества \n",
    "best_tree = max(t_models, key = lambda x: x['accuracy'])"
   ]
  },
  {
   "cell_type": "code",
   "execution_count": 20,
   "metadata": {},
   "outputs": [
    {
     "data": {
      "text/plain": [
       "{'depth': 3,\n",
       " 'accuracy': 0.7853810264385692,\n",
       " 'model': DecisionTreeClassifier(class_weight=None, criterion='gini', max_depth=3,\n",
       "                        max_features=None, max_leaf_nodes=None,\n",
       "                        min_impurity_decrease=0.0, min_impurity_split=None,\n",
       "                        min_samples_leaf=1, min_samples_split=2,\n",
       "                        min_weight_fraction_leaf=0.0, presort=False,\n",
       "                        random_state=12345, splitter='best')}"
      ]
     },
     "execution_count": 20,
     "metadata": {},
     "output_type": "execute_result"
    }
   ],
   "source": [
    "best_tree"
   ]
  },
  {
   "cell_type": "code",
   "execution_count": 21,
   "metadata": {},
   "outputs": [],
   "source": [
    "best_tree_model = best_tree['model']"
   ]
  },
  {
   "cell_type": "code",
   "execution_count": 25,
   "metadata": {},
   "outputs": [],
   "source": [
    "# замерим точность на тестовой выборке\n",
    "train_predictions = best_tree_model.predict(train_features)\n",
    "train_tree_accuracy = accuracy_score(train_target, train_predictions)"
   ]
  },
  {
   "cell_type": "code",
   "execution_count": 26,
   "metadata": {},
   "outputs": [
    {
     "data": {
      "text/plain": [
       "0.8075726141078838"
      ]
     },
     "execution_count": 26,
     "metadata": {},
     "output_type": "execute_result"
    }
   ],
   "source": [
    "train_tree_accuracy"
   ]
  },
  {
   "cell_type": "markdown",
   "metadata": {},
   "source": [
    "Создадим модель логистической регрессии "
   ]
  },
  {
   "cell_type": "code",
   "execution_count": 27,
   "metadata": {},
   "outputs": [
    {
     "name": "stderr",
     "output_type": "stream",
     "text": [
      "/opt/conda/lib/python3.7/site-packages/sklearn/linear_model/logistic.py:432: FutureWarning: Default solver will be changed to 'lbfgs' in 0.22. Specify a solver to silence this warning.\n",
      "  FutureWarning)\n"
     ]
    }
   ],
   "source": [
    "model_logistic_regression = LogisticRegression(random_state=12345)\n",
    "model_logistic_regression.fit(train_features, train_target)\n",
    "prediction =  model_logistic_regression.predict(valid_features)\n",
    "accuracy_regression_valid = accuracy_score(valid_target, prediction)"
   ]
  },
  {
   "cell_type": "code",
   "execution_count": 28,
   "metadata": {
    "scrolled": true
   },
   "outputs": [
    {
     "data": {
      "text/plain": [
       "0.7589424572317263"
      ]
     },
     "execution_count": 28,
     "metadata": {},
     "output_type": "execute_result"
    }
   ],
   "source": [
    "accuracy_regression_valid"
   ]
  },
  {
   "cell_type": "code",
   "execution_count": 46,
   "metadata": {},
   "outputs": [],
   "source": [
    "# замерим точность на тестовой выборке\n",
    "train_predictions = model_logistic_regression.predict(train_features)\n",
    "train_regression_accuracy = accuracy_score(train_target, train_predictions)"
   ]
  },
  {
   "cell_type": "code",
   "execution_count": 47,
   "metadata": {},
   "outputs": [
    {
     "data": {
      "text/plain": [
       "0.7505186721991701"
      ]
     },
     "execution_count": 47,
     "metadata": {},
     "output_type": "execute_result"
    }
   ],
   "source": [
    "train_regression_accuracy"
   ]
  },
  {
   "cell_type": "markdown",
   "metadata": {},
   "source": [
    "Логистическая регрессия показала меньшую точность, чем случайный лес на следующих ячейках."
   ]
  },
  {
   "cell_type": "markdown",
   "metadata": {},
   "source": [
    "Подберем модель с помощью случайного лучший леса, попробовав разрыне комбинации глубины деревьев, и их количества, чтобы получить усредненный алгаритм для определения тарифа."
   ]
  },
  {
   "cell_type": "code",
   "execution_count": 29,
   "metadata": {},
   "outputs": [
    {
     "name": "stdout",
     "output_type": "stream",
     "text": [
      "estimators:  2 ; max depth:  2 ;  accuracy =  0.7822706065318819\n",
      "estimators:  2 ; max depth:  4 ;  accuracy =  0.7776049766718507\n",
      "estimators:  2 ; max depth:  6 ;  accuracy =  0.7853810264385692\n",
      "estimators:  2 ; max depth:  8 ;  accuracy =  0.7807153965785381\n",
      "estimators:  2 ; max depth:  10 ;  accuracy =  0.7698289269051322\n",
      "estimators:  2 ; max depth:  12 ;  accuracy =  0.7620528771384136\n",
      "estimators:  2 ; max depth:  14 ;  accuracy =  0.7573872472783826\n",
      "estimators:  2 ; max depth:  16 ;  accuracy =  0.7356143079315708\n",
      "estimators:  2 ; max depth:  18 ;  accuracy =  0.7169517884914464\n",
      "estimators:  2 ; max depth:  20 ;  accuracy =  0.7636080870917574\n",
      "estimators:  2 ; max depth:  22 ;  accuracy =  0.7573872472783826\n",
      "estimators:  2 ; max depth:  24 ;  accuracy =  0.7636080870917574\n",
      "estimators:  2 ; max depth:  26 ;  accuracy =  0.7636080870917574\n",
      "estimators:  2 ; max depth:  28 ;  accuracy =  0.7636080870917574\n",
      "estimators:  2 ; max depth:  30 ;  accuracy =  0.7636080870917574\n",
      "estimators:  2 ; max depth:  32 ;  accuracy =  0.7636080870917574\n",
      "estimators:  2 ; max depth:  34 ;  accuracy =  0.7636080870917574\n",
      "estimators:  2 ; max depth:  36 ;  accuracy =  0.7636080870917574\n",
      "estimators:  2 ; max depth:  38 ;  accuracy =  0.7636080870917574\n",
      "estimators:  4 ; max depth:  2 ;  accuracy =  0.7869362363919129\n",
      "estimators:  4 ; max depth:  4 ;  accuracy =  0.7884914463452566\n",
      "estimators:  4 ; max depth:  6 ;  accuracy =  0.7884914463452566\n",
      "estimators:  4 ; max depth:  8 ;  accuracy =  0.7900466562986003\n",
      "estimators:  4 ; max depth:  10 ;  accuracy =  0.7744945567651633\n",
      "estimators:  4 ; max depth:  12 ;  accuracy =  0.7682737169517885\n",
      "estimators:  4 ; max depth:  14 ;  accuracy =  0.7620528771384136\n",
      "estimators:  4 ; max depth:  16 ;  accuracy =  0.7480559875583204\n",
      "estimators:  4 ; max depth:  18 ;  accuracy =  0.7433903576982893\n",
      "estimators:  4 ; max depth:  20 ;  accuracy =  0.7558320373250389\n",
      "estimators:  4 ; max depth:  22 ;  accuracy =  0.7636080870917574\n",
      "estimators:  4 ; max depth:  24 ;  accuracy =  0.7713841368584758\n",
      "estimators:  4 ; max depth:  26 ;  accuracy =  0.7713841368584758\n",
      "estimators:  4 ; max depth:  28 ;  accuracy =  0.7713841368584758\n",
      "estimators:  4 ; max depth:  30 ;  accuracy =  0.7713841368584758\n",
      "estimators:  4 ; max depth:  32 ;  accuracy =  0.7713841368584758\n",
      "estimators:  4 ; max depth:  34 ;  accuracy =  0.7713841368584758\n",
      "estimators:  4 ; max depth:  36 ;  accuracy =  0.7713841368584758\n",
      "estimators:  4 ; max depth:  38 ;  accuracy =  0.7713841368584758\n",
      "estimators:  6 ; max depth:  2 ;  accuracy =  0.7729393468118196\n",
      "estimators:  6 ; max depth:  4 ;  accuracy =  0.7869362363919129\n",
      "estimators:  6 ; max depth:  6 ;  accuracy =  0.7931570762052877\n",
      "estimators:  6 ; max depth:  8 ;  accuracy =  0.7962674961119751\n",
      "estimators:  6 ; max depth:  10 ;  accuracy =  0.7822706065318819\n",
      "estimators:  6 ; max depth:  12 ;  accuracy =  0.7698289269051322\n",
      "estimators:  6 ; max depth:  14 ;  accuracy =  0.7589424572317263\n",
      "estimators:  6 ; max depth:  16 ;  accuracy =  0.7636080870917574\n",
      "estimators:  6 ; max depth:  18 ;  accuracy =  0.7667185069984448\n",
      "estimators:  6 ; max depth:  20 ;  accuracy =  0.7744945567651633\n",
      "estimators:  6 ; max depth:  22 ;  accuracy =  0.7651632970451011\n",
      "estimators:  6 ; max depth:  24 ;  accuracy =  0.7838258164852255\n",
      "estimators:  6 ; max depth:  26 ;  accuracy =  0.7807153965785381\n",
      "estimators:  6 ; max depth:  28 ;  accuracy =  0.7807153965785381\n",
      "estimators:  6 ; max depth:  30 ;  accuracy =  0.7807153965785381\n",
      "estimators:  6 ; max depth:  32 ;  accuracy =  0.7807153965785381\n",
      "estimators:  6 ; max depth:  34 ;  accuracy =  0.7807153965785381\n",
      "estimators:  6 ; max depth:  36 ;  accuracy =  0.7807153965785381\n",
      "estimators:  6 ; max depth:  38 ;  accuracy =  0.7807153965785381\n",
      "estimators:  8 ; max depth:  2 ;  accuracy =  0.7698289269051322\n",
      "estimators:  8 ; max depth:  4 ;  accuracy =  0.7916018662519441\n",
      "estimators:  8 ; max depth:  6 ;  accuracy =  0.7993779160186625\n",
      "estimators:  8 ; max depth:  8 ;  accuracy =  0.80248833592535\n",
      "estimators:  8 ; max depth:  10 ;  accuracy =  0.7791601866251944\n",
      "estimators:  8 ; max depth:  12 ;  accuracy =  0.7838258164852255\n",
      "estimators:  8 ; max depth:  14 ;  accuracy =  0.7744945567651633\n",
      "estimators:  8 ; max depth:  16 ;  accuracy =  0.7682737169517885\n",
      "estimators:  8 ; max depth:  18 ;  accuracy =  0.7776049766718507\n",
      "estimators:  8 ; max depth:  20 ;  accuracy =  0.7884914463452566\n",
      "estimators:  8 ; max depth:  22 ;  accuracy =  0.7698289269051322\n",
      "estimators:  8 ; max depth:  24 ;  accuracy =  0.7822706065318819\n",
      "estimators:  8 ; max depth:  26 ;  accuracy =  0.7822706065318819\n",
      "estimators:  8 ; max depth:  28 ;  accuracy =  0.7822706065318819\n",
      "estimators:  8 ; max depth:  30 ;  accuracy =  0.7822706065318819\n",
      "estimators:  8 ; max depth:  32 ;  accuracy =  0.7822706065318819\n",
      "estimators:  8 ; max depth:  34 ;  accuracy =  0.7822706065318819\n",
      "estimators:  8 ; max depth:  36 ;  accuracy =  0.7822706065318819\n",
      "estimators:  8 ; max depth:  38 ;  accuracy =  0.7822706065318819\n",
      "estimators:  10 ; max depth:  2 ;  accuracy =  0.7776049766718507\n",
      "estimators:  10 ; max depth:  4 ;  accuracy =  0.7900466562986003\n",
      "estimators:  10 ; max depth:  6 ;  accuracy =  0.8009331259720062\n",
      "estimators:  10 ; max depth:  8 ;  accuracy =  0.7962674961119751\n",
      "estimators:  10 ; max depth:  10 ;  accuracy =  0.7916018662519441\n",
      "estimators:  10 ; max depth:  12 ;  accuracy =  0.7884914463452566\n",
      "estimators:  10 ; max depth:  14 ;  accuracy =  0.7776049766718507\n",
      "estimators:  10 ; max depth:  16 ;  accuracy =  0.7791601866251944\n",
      "estimators:  10 ; max depth:  18 ;  accuracy =  0.7776049766718507\n",
      "estimators:  10 ; max depth:  20 ;  accuracy =  0.7869362363919129\n",
      "estimators:  10 ; max depth:  22 ;  accuracy =  0.7838258164852255\n",
      "estimators:  10 ; max depth:  24 ;  accuracy =  0.7869362363919129\n",
      "estimators:  10 ; max depth:  26 ;  accuracy =  0.7853810264385692\n",
      "estimators:  10 ; max depth:  28 ;  accuracy =  0.7853810264385692\n",
      "estimators:  10 ; max depth:  30 ;  accuracy =  0.7853810264385692\n",
      "estimators:  10 ; max depth:  32 ;  accuracy =  0.7853810264385692\n",
      "estimators:  10 ; max depth:  34 ;  accuracy =  0.7853810264385692\n",
      "estimators:  10 ; max depth:  36 ;  accuracy =  0.7853810264385692\n",
      "estimators:  10 ; max depth:  38 ;  accuracy =  0.7853810264385692\n",
      "estimators:  12 ; max depth:  2 ;  accuracy =  0.7838258164852255\n",
      "estimators:  12 ; max depth:  4 ;  accuracy =  0.7884914463452566\n",
      "estimators:  12 ; max depth:  6 ;  accuracy =  0.8040435458786936\n",
      "estimators:  12 ; max depth:  8 ;  accuracy =  0.7947122861586314\n",
      "estimators:  12 ; max depth:  10 ;  accuracy =  0.7900466562986003\n",
      "estimators:  12 ; max depth:  12 ;  accuracy =  0.7931570762052877\n",
      "estimators:  12 ; max depth:  14 ;  accuracy =  0.7807153965785381\n",
      "estimators:  12 ; max depth:  16 ;  accuracy =  0.7853810264385692\n",
      "estimators:  12 ; max depth:  18 ;  accuracy =  0.7853810264385692\n",
      "estimators:  12 ; max depth:  20 ;  accuracy =  0.7869362363919129\n",
      "estimators:  12 ; max depth:  22 ;  accuracy =  0.7900466562986003\n",
      "estimators:  12 ; max depth:  24 ;  accuracy =  0.7931570762052877\n",
      "estimators:  12 ; max depth:  26 ;  accuracy =  0.7869362363919129\n",
      "estimators:  12 ; max depth:  28 ;  accuracy =  0.7869362363919129\n",
      "estimators:  12 ; max depth:  30 ;  accuracy =  0.7869362363919129\n",
      "estimators:  12 ; max depth:  32 ;  accuracy =  0.7869362363919129\n",
      "estimators:  12 ; max depth:  34 ;  accuracy =  0.7869362363919129\n",
      "estimators:  12 ; max depth:  36 ;  accuracy =  0.7869362363919129\n",
      "estimators:  12 ; max depth:  38 ;  accuracy =  0.7869362363919129\n",
      "estimators:  14 ; max depth:  2 ;  accuracy =  0.7838258164852255\n",
      "estimators:  14 ; max depth:  4 ;  accuracy =  0.7916018662519441\n",
      "estimators:  14 ; max depth:  6 ;  accuracy =  0.80248833592535\n",
      "estimators:  14 ; max depth:  8 ;  accuracy =  0.7947122861586314\n",
      "estimators:  14 ; max depth:  10 ;  accuracy =  0.7916018662519441\n",
      "estimators:  14 ; max depth:  12 ;  accuracy =  0.7947122861586314\n",
      "estimators:  14 ; max depth:  14 ;  accuracy =  0.7807153965785381\n",
      "estimators:  14 ; max depth:  16 ;  accuracy =  0.7869362363919129\n",
      "estimators:  14 ; max depth:  18 ;  accuracy =  0.7869362363919129\n",
      "estimators:  14 ; max depth:  20 ;  accuracy =  0.7916018662519441\n",
      "estimators:  14 ; max depth:  22 ;  accuracy =  0.7853810264385692\n",
      "estimators:  14 ; max depth:  24 ;  accuracy =  0.7884914463452566\n",
      "estimators:  14 ; max depth:  26 ;  accuracy =  0.7853810264385692\n",
      "estimators:  14 ; max depth:  28 ;  accuracy =  0.7838258164852255\n",
      "estimators:  14 ; max depth:  30 ;  accuracy =  0.7838258164852255\n",
      "estimators:  14 ; max depth:  32 ;  accuracy =  0.7838258164852255\n",
      "estimators:  14 ; max depth:  34 ;  accuracy =  0.7838258164852255\n",
      "estimators:  14 ; max depth:  36 ;  accuracy =  0.7838258164852255\n",
      "estimators:  14 ; max depth:  38 ;  accuracy =  0.7838258164852255\n",
      "estimators:  16 ; max depth:  2 ;  accuracy =  0.7838258164852255\n",
      "estimators:  16 ; max depth:  4 ;  accuracy =  0.7916018662519441\n",
      "estimators:  16 ; max depth:  6 ;  accuracy =  0.8009331259720062\n",
      "estimators:  16 ; max depth:  8 ;  accuracy =  0.7978227060653188\n",
      "estimators:  16 ; max depth:  10 ;  accuracy =  0.7916018662519441\n",
      "estimators:  16 ; max depth:  12 ;  accuracy =  0.7931570762052877\n",
      "estimators:  16 ; max depth:  14 ;  accuracy =  0.7791601866251944\n",
      "estimators:  16 ; max depth:  16 ;  accuracy =  0.7884914463452566\n",
      "estimators:  16 ; max depth:  18 ;  accuracy =  0.7807153965785381\n",
      "estimators:  16 ; max depth:  20 ;  accuracy =  0.7853810264385692\n",
      "estimators:  16 ; max depth:  22 ;  accuracy =  0.7838258164852255\n",
      "estimators:  16 ; max depth:  24 ;  accuracy =  0.7900466562986003\n",
      "estimators:  16 ; max depth:  26 ;  accuracy =  0.7900466562986003\n",
      "estimators:  16 ; max depth:  28 ;  accuracy =  0.7869362363919129\n",
      "estimators:  16 ; max depth:  30 ;  accuracy =  0.7869362363919129\n",
      "estimators:  16 ; max depth:  32 ;  accuracy =  0.7869362363919129\n",
      "estimators:  16 ; max depth:  34 ;  accuracy =  0.7869362363919129\n",
      "estimators:  16 ; max depth:  36 ;  accuracy =  0.7869362363919129\n",
      "estimators:  16 ; max depth:  38 ;  accuracy =  0.7869362363919129\n",
      "estimators:  18 ; max depth:  2 ;  accuracy =  0.7822706065318819\n",
      "estimators:  18 ; max depth:  4 ;  accuracy =  0.7884914463452566\n",
      "estimators:  18 ; max depth:  6 ;  accuracy =  0.8009331259720062\n",
      "estimators:  18 ; max depth:  8 ;  accuracy =  0.7978227060653188\n",
      "estimators:  18 ; max depth:  10 ;  accuracy =  0.7900466562986003\n",
      "estimators:  18 ; max depth:  12 ;  accuracy =  0.8009331259720062\n",
      "estimators:  18 ; max depth:  14 ;  accuracy =  0.7807153965785381\n",
      "estimators:  18 ; max depth:  16 ;  accuracy =  0.7838258164852255\n",
      "estimators:  18 ; max depth:  18 ;  accuracy =  0.7838258164852255\n",
      "estimators:  18 ; max depth:  20 ;  accuracy =  0.7869362363919129\n",
      "estimators:  18 ; max depth:  22 ;  accuracy =  0.7884914463452566\n",
      "estimators:  18 ; max depth:  24 ;  accuracy =  0.7931570762052877\n",
      "estimators:  18 ; max depth:  26 ;  accuracy =  0.7916018662519441\n",
      "estimators:  18 ; max depth:  28 ;  accuracy =  0.7931570762052877\n",
      "estimators:  18 ; max depth:  30 ;  accuracy =  0.7931570762052877\n",
      "estimators:  18 ; max depth:  32 ;  accuracy =  0.7931570762052877\n",
      "estimators:  18 ; max depth:  34 ;  accuracy =  0.7931570762052877\n",
      "estimators:  18 ; max depth:  36 ;  accuracy =  0.7931570762052877\n",
      "estimators:  18 ; max depth:  38 ;  accuracy =  0.7931570762052877\n",
      "estimators:  20 ; max depth:  2 ;  accuracy =  0.7838258164852255\n",
      "estimators:  20 ; max depth:  4 ;  accuracy =  0.7884914463452566\n",
      "estimators:  20 ; max depth:  6 ;  accuracy =  0.7993779160186625\n",
      "estimators:  20 ; max depth:  8 ;  accuracy =  0.7978227060653188\n",
      "estimators:  20 ; max depth:  10 ;  accuracy =  0.7916018662519441\n",
      "estimators:  20 ; max depth:  12 ;  accuracy =  0.8009331259720062\n",
      "estimators:  20 ; max depth:  14 ;  accuracy =  0.7822706065318819\n",
      "estimators:  20 ; max depth:  16 ;  accuracy =  0.7900466562986003\n",
      "estimators:  20 ; max depth:  18 ;  accuracy =  0.7807153965785381\n",
      "estimators:  20 ; max depth:  20 ;  accuracy =  0.7853810264385692\n",
      "estimators:  20 ; max depth:  22 ;  accuracy =  0.7776049766718507\n",
      "estimators:  20 ; max depth:  24 ;  accuracy =  0.7869362363919129\n",
      "estimators:  20 ; max depth:  26 ;  accuracy =  0.7853810264385692\n",
      "estimators:  20 ; max depth:  28 ;  accuracy =  0.7869362363919129\n",
      "estimators:  20 ; max depth:  30 ;  accuracy =  0.7869362363919129\n",
      "estimators:  20 ; max depth:  32 ;  accuracy =  0.7869362363919129\n",
      "estimators:  20 ; max depth:  34 ;  accuracy =  0.7869362363919129\n",
      "estimators:  20 ; max depth:  36 ;  accuracy =  0.7869362363919129\n",
      "estimators:  20 ; max depth:  38 ;  accuracy =  0.7869362363919129\n",
      "estimators:  22 ; max depth:  2 ;  accuracy =  0.7853810264385692\n",
      "estimators:  22 ; max depth:  4 ;  accuracy =  0.7884914463452566\n",
      "estimators:  22 ; max depth:  6 ;  accuracy =  0.7993779160186625\n",
      "estimators:  22 ; max depth:  8 ;  accuracy =  0.7978227060653188\n",
      "estimators:  22 ; max depth:  10 ;  accuracy =  0.7916018662519441\n",
      "estimators:  22 ; max depth:  12 ;  accuracy =  0.7947122861586314\n",
      "estimators:  22 ; max depth:  14 ;  accuracy =  0.7791601866251944\n",
      "estimators:  22 ; max depth:  16 ;  accuracy =  0.7900466562986003\n",
      "estimators:  22 ; max depth:  18 ;  accuracy =  0.7853810264385692\n",
      "estimators:  22 ; max depth:  20 ;  accuracy =  0.7838258164852255\n",
      "estimators:  22 ; max depth:  22 ;  accuracy =  0.7791601866251944\n",
      "estimators:  22 ; max depth:  24 ;  accuracy =  0.7884914463452566\n",
      "estimators:  22 ; max depth:  26 ;  accuracy =  0.7869362363919129\n",
      "estimators:  22 ; max depth:  28 ;  accuracy =  0.7884914463452566\n",
      "estimators:  22 ; max depth:  30 ;  accuracy =  0.7884914463452566\n",
      "estimators:  22 ; max depth:  32 ;  accuracy =  0.7884914463452566\n",
      "estimators:  22 ; max depth:  34 ;  accuracy =  0.7884914463452566\n",
      "estimators:  22 ; max depth:  36 ;  accuracy =  0.7884914463452566\n",
      "estimators:  22 ; max depth:  38 ;  accuracy =  0.7884914463452566\n",
      "estimators:  24 ; max depth:  2 ;  accuracy =  0.7869362363919129\n",
      "estimators:  24 ; max depth:  4 ;  accuracy =  0.7853810264385692\n",
      "estimators:  24 ; max depth:  6 ;  accuracy =  0.7993779160186625\n",
      "estimators:  24 ; max depth:  8 ;  accuracy =  0.7978227060653188\n",
      "estimators:  24 ; max depth:  10 ;  accuracy =  0.7978227060653188\n",
      "estimators:  24 ; max depth:  12 ;  accuracy =  0.7916018662519441\n",
      "estimators:  24 ; max depth:  14 ;  accuracy =  0.7791601866251944\n",
      "estimators:  24 ; max depth:  16 ;  accuracy =  0.7884914463452566\n",
      "estimators:  24 ; max depth:  18 ;  accuracy =  0.7869362363919129\n",
      "estimators:  24 ; max depth:  20 ;  accuracy =  0.7853810264385692\n",
      "estimators:  24 ; max depth:  22 ;  accuracy =  0.7807153965785381\n",
      "estimators:  24 ; max depth:  24 ;  accuracy =  0.7916018662519441\n",
      "estimators:  24 ; max depth:  26 ;  accuracy =  0.7931570762052877\n",
      "estimators:  24 ; max depth:  28 ;  accuracy =  0.7900466562986003\n",
      "estimators:  24 ; max depth:  30 ;  accuracy =  0.7900466562986003\n",
      "estimators:  24 ; max depth:  32 ;  accuracy =  0.7900466562986003\n",
      "estimators:  24 ; max depth:  34 ;  accuracy =  0.7900466562986003\n",
      "estimators:  24 ; max depth:  36 ;  accuracy =  0.7900466562986003\n",
      "estimators:  24 ; max depth:  38 ;  accuracy =  0.7900466562986003\n",
      "estimators:  26 ; max depth:  2 ;  accuracy =  0.7853810264385692\n",
      "estimators:  26 ; max depth:  4 ;  accuracy =  0.7900466562986003\n",
      "estimators:  26 ; max depth:  6 ;  accuracy =  0.7962674961119751\n",
      "estimators:  26 ; max depth:  8 ;  accuracy =  0.8009331259720062\n",
      "estimators:  26 ; max depth:  10 ;  accuracy =  0.7993779160186625\n",
      "estimators:  26 ; max depth:  12 ;  accuracy =  0.7931570762052877\n",
      "estimators:  26 ; max depth:  14 ;  accuracy =  0.776049766718507\n",
      "estimators:  26 ; max depth:  16 ;  accuracy =  0.7900466562986003\n",
      "estimators:  26 ; max depth:  18 ;  accuracy =  0.7838258164852255\n",
      "estimators:  26 ; max depth:  20 ;  accuracy =  0.7822706065318819\n",
      "estimators:  26 ; max depth:  22 ;  accuracy =  0.7869362363919129\n",
      "estimators:  26 ; max depth:  24 ;  accuracy =  0.7884914463452566\n",
      "estimators:  26 ; max depth:  26 ;  accuracy =  0.7869362363919129\n",
      "estimators:  26 ; max depth:  28 ;  accuracy =  0.7853810264385692\n",
      "estimators:  26 ; max depth:  30 ;  accuracy =  0.7853810264385692\n",
      "estimators:  26 ; max depth:  32 ;  accuracy =  0.7853810264385692\n",
      "estimators:  26 ; max depth:  34 ;  accuracy =  0.7853810264385692\n",
      "estimators:  26 ; max depth:  36 ;  accuracy =  0.7853810264385692\n",
      "estimators:  26 ; max depth:  38 ;  accuracy =  0.7853810264385692\n",
      "estimators:  28 ; max depth:  2 ;  accuracy =  0.7838258164852255\n",
      "estimators:  28 ; max depth:  4 ;  accuracy =  0.7884914463452566\n",
      "estimators:  28 ; max depth:  6 ;  accuracy =  0.8009331259720062\n",
      "estimators:  28 ; max depth:  8 ;  accuracy =  0.7978227060653188\n",
      "estimators:  28 ; max depth:  10 ;  accuracy =  0.7931570762052877\n",
      "estimators:  28 ; max depth:  12 ;  accuracy =  0.7947122861586314\n",
      "estimators:  28 ; max depth:  14 ;  accuracy =  0.776049766718507\n",
      "estimators:  28 ; max depth:  16 ;  accuracy =  0.7916018662519441\n",
      "estimators:  28 ; max depth:  18 ;  accuracy =  0.7884914463452566\n",
      "estimators:  28 ; max depth:  20 ;  accuracy =  0.7822706065318819\n",
      "estimators:  28 ; max depth:  22 ;  accuracy =  0.7776049766718507\n",
      "estimators:  28 ; max depth:  24 ;  accuracy =  0.7853810264385692\n",
      "estimators:  28 ; max depth:  26 ;  accuracy =  0.7853810264385692\n",
      "estimators:  28 ; max depth:  28 ;  accuracy =  0.7838258164852255\n",
      "estimators:  28 ; max depth:  30 ;  accuracy =  0.7838258164852255\n",
      "estimators:  28 ; max depth:  32 ;  accuracy =  0.7838258164852255\n",
      "estimators:  28 ; max depth:  34 ;  accuracy =  0.7838258164852255\n",
      "estimators:  28 ; max depth:  36 ;  accuracy =  0.7838258164852255\n",
      "estimators:  28 ; max depth:  38 ;  accuracy =  0.7838258164852255\n",
      "estimators:  30 ; max depth:  2 ;  accuracy =  0.7838258164852255\n",
      "estimators:  30 ; max depth:  4 ;  accuracy =  0.7869362363919129\n",
      "estimators:  30 ; max depth:  6 ;  accuracy =  0.8009331259720062\n",
      "estimators:  30 ; max depth:  8 ;  accuracy =  0.7993779160186625\n",
      "estimators:  30 ; max depth:  10 ;  accuracy =  0.7947122861586314\n",
      "estimators:  30 ; max depth:  12 ;  accuracy =  0.7947122861586314\n",
      "estimators:  30 ; max depth:  14 ;  accuracy =  0.7822706065318819\n",
      "estimators:  30 ; max depth:  16 ;  accuracy =  0.7931570762052877\n",
      "estimators:  30 ; max depth:  18 ;  accuracy =  0.7776049766718507\n",
      "estimators:  30 ; max depth:  20 ;  accuracy =  0.7838258164852255\n",
      "estimators:  30 ; max depth:  22 ;  accuracy =  0.7838258164852255\n",
      "estimators:  30 ; max depth:  24 ;  accuracy =  0.7853810264385692\n",
      "estimators:  30 ; max depth:  26 ;  accuracy =  0.7838258164852255\n",
      "estimators:  30 ; max depth:  28 ;  accuracy =  0.7838258164852255\n",
      "estimators:  30 ; max depth:  30 ;  accuracy =  0.7838258164852255\n",
      "estimators:  30 ; max depth:  32 ;  accuracy =  0.7838258164852255\n",
      "estimators:  30 ; max depth:  34 ;  accuracy =  0.7838258164852255\n",
      "estimators:  30 ; max depth:  36 ;  accuracy =  0.7838258164852255\n",
      "estimators:  30 ; max depth:  38 ;  accuracy =  0.7838258164852255\n",
      "estimators:  32 ; max depth:  2 ;  accuracy =  0.7838258164852255\n",
      "estimators:  32 ; max depth:  4 ;  accuracy =  0.7869362363919129\n",
      "estimators:  32 ; max depth:  6 ;  accuracy =  0.8040435458786936\n",
      "estimators:  32 ; max depth:  8 ;  accuracy =  0.7978227060653188\n",
      "estimators:  32 ; max depth:  10 ;  accuracy =  0.7962674961119751\n",
      "estimators:  32 ; max depth:  12 ;  accuracy =  0.7947122861586314\n",
      "estimators:  32 ; max depth:  14 ;  accuracy =  0.7853810264385692\n",
      "estimators:  32 ; max depth:  16 ;  accuracy =  0.7916018662519441\n",
      "estimators:  32 ; max depth:  18 ;  accuracy =  0.7884914463452566\n",
      "estimators:  32 ; max depth:  20 ;  accuracy =  0.7869362363919129\n",
      "estimators:  32 ; max depth:  22 ;  accuracy =  0.7853810264385692\n",
      "estimators:  32 ; max depth:  24 ;  accuracy =  0.7853810264385692\n",
      "estimators:  32 ; max depth:  26 ;  accuracy =  0.7822706065318819\n",
      "estimators:  32 ; max depth:  28 ;  accuracy =  0.7822706065318819\n",
      "estimators:  32 ; max depth:  30 ;  accuracy =  0.7822706065318819\n",
      "estimators:  32 ; max depth:  32 ;  accuracy =  0.7822706065318819\n",
      "estimators:  32 ; max depth:  34 ;  accuracy =  0.7822706065318819\n",
      "estimators:  32 ; max depth:  36 ;  accuracy =  0.7822706065318819\n",
      "estimators:  32 ; max depth:  38 ;  accuracy =  0.7822706065318819\n",
      "estimators:  34 ; max depth:  2 ;  accuracy =  0.7838258164852255\n",
      "estimators:  34 ; max depth:  4 ;  accuracy =  0.7884914463452566\n",
      "estimators:  34 ; max depth:  6 ;  accuracy =  0.8009331259720062\n",
      "estimators:  34 ; max depth:  8 ;  accuracy =  0.7947122861586314\n",
      "estimators:  34 ; max depth:  10 ;  accuracy =  0.7947122861586314\n",
      "estimators:  34 ; max depth:  12 ;  accuracy =  0.7931570762052877\n",
      "estimators:  34 ; max depth:  14 ;  accuracy =  0.7869362363919129\n",
      "estimators:  34 ; max depth:  16 ;  accuracy =  0.7947122861586314\n",
      "estimators:  34 ; max depth:  18 ;  accuracy =  0.7869362363919129\n",
      "estimators:  34 ; max depth:  20 ;  accuracy =  0.7853810264385692\n",
      "estimators:  34 ; max depth:  22 ;  accuracy =  0.7869362363919129\n",
      "estimators:  34 ; max depth:  24 ;  accuracy =  0.7853810264385692\n",
      "estimators:  34 ; max depth:  26 ;  accuracy =  0.7807153965785381\n",
      "estimators:  34 ; max depth:  28 ;  accuracy =  0.7807153965785381\n",
      "estimators:  34 ; max depth:  30 ;  accuracy =  0.7807153965785381\n",
      "estimators:  34 ; max depth:  32 ;  accuracy =  0.7807153965785381\n",
      "estimators:  34 ; max depth:  34 ;  accuracy =  0.7807153965785381\n",
      "estimators:  34 ; max depth:  36 ;  accuracy =  0.7807153965785381\n",
      "estimators:  34 ; max depth:  38 ;  accuracy =  0.7807153965785381\n",
      "estimators:  36 ; max depth:  2 ;  accuracy =  0.7838258164852255\n",
      "estimators:  36 ; max depth:  4 ;  accuracy =  0.7900466562986003\n",
      "estimators:  36 ; max depth:  6 ;  accuracy =  0.7993779160186625\n",
      "estimators:  36 ; max depth:  8 ;  accuracy =  0.7962674961119751\n",
      "estimators:  36 ; max depth:  10 ;  accuracy =  0.7931570762052877\n",
      "estimators:  36 ; max depth:  12 ;  accuracy =  0.7947122861586314\n",
      "estimators:  36 ; max depth:  14 ;  accuracy =  0.7916018662519441\n",
      "estimators:  36 ; max depth:  16 ;  accuracy =  0.7931570762052877\n",
      "estimators:  36 ; max depth:  18 ;  accuracy =  0.7822706065318819\n",
      "estimators:  36 ; max depth:  20 ;  accuracy =  0.7853810264385692\n",
      "estimators:  36 ; max depth:  22 ;  accuracy =  0.7838258164852255\n",
      "estimators:  36 ; max depth:  24 ;  accuracy =  0.7822706065318819\n",
      "estimators:  36 ; max depth:  26 ;  accuracy =  0.7807153965785381\n",
      "estimators:  36 ; max depth:  28 ;  accuracy =  0.7807153965785381\n",
      "estimators:  36 ; max depth:  30 ;  accuracy =  0.7807153965785381\n",
      "estimators:  36 ; max depth:  32 ;  accuracy =  0.7807153965785381\n",
      "estimators:  36 ; max depth:  34 ;  accuracy =  0.7807153965785381\n",
      "estimators:  36 ; max depth:  36 ;  accuracy =  0.7807153965785381\n",
      "estimators:  36 ; max depth:  38 ;  accuracy =  0.7807153965785381\n",
      "estimators:  38 ; max depth:  2 ;  accuracy =  0.7838258164852255\n",
      "estimators:  38 ; max depth:  4 ;  accuracy =  0.7900466562986003\n",
      "estimators:  38 ; max depth:  6 ;  accuracy =  0.80248833592535\n",
      "estimators:  38 ; max depth:  8 ;  accuracy =  0.80248833592535\n",
      "estimators:  38 ; max depth:  10 ;  accuracy =  0.7962674961119751\n",
      "estimators:  38 ; max depth:  12 ;  accuracy =  0.7931570762052877\n",
      "estimators:  38 ; max depth:  14 ;  accuracy =  0.7884914463452566\n",
      "estimators:  38 ; max depth:  16 ;  accuracy =  0.7931570762052877\n",
      "estimators:  38 ; max depth:  18 ;  accuracy =  0.7776049766718507\n",
      "estimators:  38 ; max depth:  20 ;  accuracy =  0.7838258164852255\n",
      "estimators:  38 ; max depth:  22 ;  accuracy =  0.7822706065318819\n",
      "estimators:  38 ; max depth:  24 ;  accuracy =  0.7853810264385692\n",
      "estimators:  38 ; max depth:  26 ;  accuracy =  0.7838258164852255\n",
      "estimators:  38 ; max depth:  28 ;  accuracy =  0.7838258164852255\n",
      "estimators:  38 ; max depth:  30 ;  accuracy =  0.7838258164852255\n",
      "estimators:  38 ; max depth:  32 ;  accuracy =  0.7838258164852255\n",
      "estimators:  38 ; max depth:  34 ;  accuracy =  0.7838258164852255\n",
      "estimators:  38 ; max depth:  36 ;  accuracy =  0.7838258164852255\n",
      "estimators:  38 ; max depth:  38 ;  accuracy =  0.7838258164852255\n",
      "estimators:  40 ; max depth:  2 ;  accuracy =  0.7853810264385692\n",
      "estimators:  40 ; max depth:  4 ;  accuracy =  0.7900466562986003\n",
      "estimators:  40 ; max depth:  6 ;  accuracy =  0.80248833592535\n",
      "estimators:  40 ; max depth:  8 ;  accuracy =  0.8087091757387247\n",
      "estimators:  40 ; max depth:  10 ;  accuracy =  0.7962674961119751\n",
      "estimators:  40 ; max depth:  12 ;  accuracy =  0.7931570762052877\n",
      "estimators:  40 ; max depth:  14 ;  accuracy =  0.7853810264385692\n",
      "estimators:  40 ; max depth:  16 ;  accuracy =  0.7931570762052877\n",
      "estimators:  40 ; max depth:  18 ;  accuracy =  0.7776049766718507\n",
      "estimators:  40 ; max depth:  20 ;  accuracy =  0.7838258164852255\n",
      "estimators:  40 ; max depth:  22 ;  accuracy =  0.7822706065318819\n",
      "estimators:  40 ; max depth:  24 ;  accuracy =  0.7838258164852255\n",
      "estimators:  40 ; max depth:  26 ;  accuracy =  0.7838258164852255\n",
      "estimators:  40 ; max depth:  28 ;  accuracy =  0.7838258164852255\n",
      "estimators:  40 ; max depth:  30 ;  accuracy =  0.7838258164852255\n",
      "estimators:  40 ; max depth:  32 ;  accuracy =  0.7838258164852255\n",
      "estimators:  40 ; max depth:  34 ;  accuracy =  0.7838258164852255\n",
      "estimators:  40 ; max depth:  36 ;  accuracy =  0.7838258164852255\n",
      "estimators:  40 ; max depth:  38 ;  accuracy =  0.7838258164852255\n",
      "estimators:  42 ; max depth:  2 ;  accuracy =  0.7853810264385692\n",
      "estimators:  42 ; max depth:  4 ;  accuracy =  0.7900466562986003\n",
      "estimators:  42 ; max depth:  6 ;  accuracy =  0.80248833592535\n",
      "estimators:  42 ; max depth:  8 ;  accuracy =  0.807153965785381\n",
      "estimators:  42 ; max depth:  10 ;  accuracy =  0.7916018662519441\n",
      "estimators:  42 ; max depth:  12 ;  accuracy =  0.7916018662519441\n",
      "estimators:  42 ; max depth:  14 ;  accuracy =  0.7838258164852255\n",
      "estimators:  42 ; max depth:  16 ;  accuracy =  0.7931570762052877\n",
      "estimators:  42 ; max depth:  18 ;  accuracy =  0.7807153965785381\n",
      "estimators:  42 ; max depth:  20 ;  accuracy =  0.7900466562986003\n",
      "estimators:  42 ; max depth:  22 ;  accuracy =  0.7900466562986003\n",
      "estimators:  42 ; max depth:  24 ;  accuracy =  0.7916018662519441\n",
      "estimators:  42 ; max depth:  26 ;  accuracy =  0.7916018662519441\n",
      "estimators:  42 ; max depth:  28 ;  accuracy =  0.7900466562986003\n",
      "estimators:  42 ; max depth:  30 ;  accuracy =  0.7900466562986003\n",
      "estimators:  42 ; max depth:  32 ;  accuracy =  0.7900466562986003\n",
      "estimators:  42 ; max depth:  34 ;  accuracy =  0.7900466562986003\n",
      "estimators:  42 ; max depth:  36 ;  accuracy =  0.7900466562986003\n",
      "estimators:  42 ; max depth:  38 ;  accuracy =  0.7900466562986003\n",
      "estimators:  44 ; max depth:  2 ;  accuracy =  0.7853810264385692\n",
      "estimators:  44 ; max depth:  4 ;  accuracy =  0.7869362363919129\n",
      "estimators:  44 ; max depth:  6 ;  accuracy =  0.8009331259720062\n",
      "estimators:  44 ; max depth:  8 ;  accuracy =  0.8055987558320373\n",
      "estimators:  44 ; max depth:  10 ;  accuracy =  0.7916018662519441\n",
      "estimators:  44 ; max depth:  12 ;  accuracy =  0.7947122861586314\n",
      "estimators:  44 ; max depth:  14 ;  accuracy =  0.7869362363919129\n",
      "estimators:  44 ; max depth:  16 ;  accuracy =  0.7931570762052877\n",
      "estimators:  44 ; max depth:  18 ;  accuracy =  0.7776049766718507\n",
      "estimators:  44 ; max depth:  20 ;  accuracy =  0.7869362363919129\n",
      "estimators:  44 ; max depth:  22 ;  accuracy =  0.7884914463452566\n",
      "estimators:  44 ; max depth:  24 ;  accuracy =  0.7884914463452566\n",
      "estimators:  44 ; max depth:  26 ;  accuracy =  0.7916018662519441\n",
      "estimators:  44 ; max depth:  28 ;  accuracy =  0.7900466562986003\n",
      "estimators:  44 ; max depth:  30 ;  accuracy =  0.7900466562986003\n",
      "estimators:  44 ; max depth:  32 ;  accuracy =  0.7900466562986003\n",
      "estimators:  44 ; max depth:  34 ;  accuracy =  0.7900466562986003\n",
      "estimators:  44 ; max depth:  36 ;  accuracy =  0.7900466562986003\n",
      "estimators:  44 ; max depth:  38 ;  accuracy =  0.7900466562986003\n",
      "estimators:  46 ; max depth:  2 ;  accuracy =  0.7838258164852255\n",
      "estimators:  46 ; max depth:  4 ;  accuracy =  0.7869362363919129\n",
      "estimators:  46 ; max depth:  6 ;  accuracy =  0.7993779160186625\n",
      "estimators:  46 ; max depth:  8 ;  accuracy =  0.807153965785381\n",
      "estimators:  46 ; max depth:  10 ;  accuracy =  0.7916018662519441\n",
      "estimators:  46 ; max depth:  12 ;  accuracy =  0.7947122861586314\n",
      "estimators:  46 ; max depth:  14 ;  accuracy =  0.7884914463452566\n",
      "estimators:  46 ; max depth:  16 ;  accuracy =  0.7931570762052877\n",
      "estimators:  46 ; max depth:  18 ;  accuracy =  0.7807153965785381\n",
      "estimators:  46 ; max depth:  20 ;  accuracy =  0.7869362363919129\n",
      "estimators:  46 ; max depth:  22 ;  accuracy =  0.7838258164852255\n",
      "estimators:  46 ; max depth:  24 ;  accuracy =  0.7884914463452566\n",
      "estimators:  46 ; max depth:  26 ;  accuracy =  0.7900466562986003\n",
      "estimators:  46 ; max depth:  28 ;  accuracy =  0.7884914463452566\n",
      "estimators:  46 ; max depth:  30 ;  accuracy =  0.7884914463452566\n",
      "estimators:  46 ; max depth:  32 ;  accuracy =  0.7884914463452566\n",
      "estimators:  46 ; max depth:  34 ;  accuracy =  0.7884914463452566\n",
      "estimators:  46 ; max depth:  36 ;  accuracy =  0.7884914463452566\n",
      "estimators:  46 ; max depth:  38 ;  accuracy =  0.7884914463452566\n",
      "estimators:  48 ; max depth:  2 ;  accuracy =  0.7822706065318819\n",
      "estimators:  48 ; max depth:  4 ;  accuracy =  0.7869362363919129\n",
      "estimators:  48 ; max depth:  6 ;  accuracy =  0.7978227060653188\n",
      "estimators:  48 ; max depth:  8 ;  accuracy =  0.8055987558320373\n",
      "estimators:  48 ; max depth:  10 ;  accuracy =  0.7931570762052877\n",
      "estimators:  48 ; max depth:  12 ;  accuracy =  0.7962674961119751\n",
      "estimators:  48 ; max depth:  14 ;  accuracy =  0.7916018662519441\n",
      "estimators:  48 ; max depth:  16 ;  accuracy =  0.7916018662519441\n",
      "estimators:  48 ; max depth:  18 ;  accuracy =  0.7822706065318819\n",
      "estimators:  48 ; max depth:  20 ;  accuracy =  0.7838258164852255\n",
      "estimators:  48 ; max depth:  22 ;  accuracy =  0.7900466562986003\n",
      "estimators:  48 ; max depth:  24 ;  accuracy =  0.7916018662519441\n",
      "estimators:  48 ; max depth:  26 ;  accuracy =  0.7931570762052877\n",
      "estimators:  48 ; max depth:  28 ;  accuracy =  0.7916018662519441\n",
      "estimators:  48 ; max depth:  30 ;  accuracy =  0.7916018662519441\n",
      "estimators:  48 ; max depth:  32 ;  accuracy =  0.7916018662519441\n",
      "estimators:  48 ; max depth:  34 ;  accuracy =  0.7916018662519441\n",
      "estimators:  48 ; max depth:  36 ;  accuracy =  0.7916018662519441\n",
      "estimators:  48 ; max depth:  38 ;  accuracy =  0.7916018662519441\n",
      "estimators:  50 ; max depth:  2 ;  accuracy =  0.7838258164852255\n",
      "estimators:  50 ; max depth:  4 ;  accuracy =  0.7869362363919129\n",
      "estimators:  50 ; max depth:  6 ;  accuracy =  0.7993779160186625\n",
      "estimators:  50 ; max depth:  8 ;  accuracy =  0.807153965785381\n",
      "estimators:  50 ; max depth:  10 ;  accuracy =  0.7931570762052877\n",
      "estimators:  50 ; max depth:  12 ;  accuracy =  0.7962674961119751\n",
      "estimators:  50 ; max depth:  14 ;  accuracy =  0.7916018662519441\n",
      "estimators:  50 ; max depth:  16 ;  accuracy =  0.7916018662519441\n",
      "estimators:  50 ; max depth:  18 ;  accuracy =  0.7869362363919129\n",
      "estimators:  50 ; max depth:  20 ;  accuracy =  0.7853810264385692\n",
      "estimators:  50 ; max depth:  22 ;  accuracy =  0.7884914463452566\n",
      "estimators:  50 ; max depth:  24 ;  accuracy =  0.7916018662519441\n",
      "estimators:  50 ; max depth:  26 ;  accuracy =  0.7931570762052877\n",
      "estimators:  50 ; max depth:  28 ;  accuracy =  0.7916018662519441\n",
      "estimators:  50 ; max depth:  30 ;  accuracy =  0.7916018662519441\n",
      "estimators:  50 ; max depth:  32 ;  accuracy =  0.7916018662519441\n",
      "estimators:  50 ; max depth:  34 ;  accuracy =  0.7916018662519441\n",
      "estimators:  50 ; max depth:  36 ;  accuracy =  0.7916018662519441\n",
      "estimators:  50 ; max depth:  38 ;  accuracy =  0.7916018662519441\n",
      "estimators:  52 ; max depth:  2 ;  accuracy =  0.7853810264385692\n",
      "estimators:  52 ; max depth:  4 ;  accuracy =  0.7869362363919129\n",
      "estimators:  52 ; max depth:  6 ;  accuracy =  0.7962674961119751\n",
      "estimators:  52 ; max depth:  8 ;  accuracy =  0.8009331259720062\n",
      "estimators:  52 ; max depth:  10 ;  accuracy =  0.7931570762052877\n",
      "estimators:  52 ; max depth:  12 ;  accuracy =  0.7947122861586314\n",
      "estimators:  52 ; max depth:  14 ;  accuracy =  0.7931570762052877\n",
      "estimators:  52 ; max depth:  16 ;  accuracy =  0.7916018662519441\n",
      "estimators:  52 ; max depth:  18 ;  accuracy =  0.7838258164852255\n",
      "estimators:  52 ; max depth:  20 ;  accuracy =  0.7838258164852255\n",
      "estimators:  52 ; max depth:  22 ;  accuracy =  0.7869362363919129\n",
      "estimators:  52 ; max depth:  24 ;  accuracy =  0.7884914463452566\n",
      "estimators:  52 ; max depth:  26 ;  accuracy =  0.7884914463452566\n",
      "estimators:  52 ; max depth:  28 ;  accuracy =  0.7900466562986003\n",
      "estimators:  52 ; max depth:  30 ;  accuracy =  0.7900466562986003\n",
      "estimators:  52 ; max depth:  32 ;  accuracy =  0.7900466562986003\n",
      "estimators:  52 ; max depth:  34 ;  accuracy =  0.7900466562986003\n",
      "estimators:  52 ; max depth:  36 ;  accuracy =  0.7900466562986003\n",
      "estimators:  52 ; max depth:  38 ;  accuracy =  0.7900466562986003\n",
      "estimators:  54 ; max depth:  2 ;  accuracy =  0.7838258164852255\n",
      "estimators:  54 ; max depth:  4 ;  accuracy =  0.7869362363919129\n",
      "estimators:  54 ; max depth:  6 ;  accuracy =  0.7978227060653188\n",
      "estimators:  54 ; max depth:  8 ;  accuracy =  0.80248833592535\n",
      "estimators:  54 ; max depth:  10 ;  accuracy =  0.7962674961119751\n",
      "estimators:  54 ; max depth:  12 ;  accuracy =  0.7947122861586314\n",
      "estimators:  54 ; max depth:  14 ;  accuracy =  0.7916018662519441\n",
      "estimators:  54 ; max depth:  16 ;  accuracy =  0.7884914463452566\n",
      "estimators:  54 ; max depth:  18 ;  accuracy =  0.7822706065318819\n",
      "estimators:  54 ; max depth:  20 ;  accuracy =  0.7807153965785381\n",
      "estimators:  54 ; max depth:  22 ;  accuracy =  0.7900466562986003\n",
      "estimators:  54 ; max depth:  24 ;  accuracy =  0.7869362363919129\n",
      "estimators:  54 ; max depth:  26 ;  accuracy =  0.7853810264385692\n",
      "estimators:  54 ; max depth:  28 ;  accuracy =  0.7853810264385692\n",
      "estimators:  54 ; max depth:  30 ;  accuracy =  0.7853810264385692\n",
      "estimators:  54 ; max depth:  32 ;  accuracy =  0.7853810264385692\n",
      "estimators:  54 ; max depth:  34 ;  accuracy =  0.7853810264385692\n",
      "estimators:  54 ; max depth:  36 ;  accuracy =  0.7853810264385692\n",
      "estimators:  54 ; max depth:  38 ;  accuracy =  0.7853810264385692\n",
      "estimators:  56 ; max depth:  2 ;  accuracy =  0.7838258164852255\n",
      "estimators:  56 ; max depth:  4 ;  accuracy =  0.7869362363919129\n",
      "estimators:  56 ; max depth:  6 ;  accuracy =  0.7947122861586314\n",
      "estimators:  56 ; max depth:  8 ;  accuracy =  0.80248833592535\n",
      "estimators:  56 ; max depth:  10 ;  accuracy =  0.7947122861586314\n",
      "estimators:  56 ; max depth:  12 ;  accuracy =  0.7947122861586314\n",
      "estimators:  56 ; max depth:  14 ;  accuracy =  0.7916018662519441\n",
      "estimators:  56 ; max depth:  16 ;  accuracy =  0.7822706065318819\n",
      "estimators:  56 ; max depth:  18 ;  accuracy =  0.7822706065318819\n",
      "estimators:  56 ; max depth:  20 ;  accuracy =  0.7791601866251944\n",
      "estimators:  56 ; max depth:  22 ;  accuracy =  0.7884914463452566\n",
      "estimators:  56 ; max depth:  24 ;  accuracy =  0.7838258164852255\n",
      "estimators:  56 ; max depth:  26 ;  accuracy =  0.7838258164852255\n",
      "estimators:  56 ; max depth:  28 ;  accuracy =  0.7853810264385692\n",
      "estimators:  56 ; max depth:  30 ;  accuracy =  0.7853810264385692\n",
      "estimators:  56 ; max depth:  32 ;  accuracy =  0.7853810264385692\n",
      "estimators:  56 ; max depth:  34 ;  accuracy =  0.7853810264385692\n",
      "estimators:  56 ; max depth:  36 ;  accuracy =  0.7853810264385692\n",
      "estimators:  56 ; max depth:  38 ;  accuracy =  0.7853810264385692\n",
      "estimators:  58 ; max depth:  2 ;  accuracy =  0.7838258164852255\n",
      "estimators:  58 ; max depth:  4 ;  accuracy =  0.7869362363919129\n",
      "estimators:  58 ; max depth:  6 ;  accuracy =  0.7962674961119751\n",
      "estimators:  58 ; max depth:  8 ;  accuracy =  0.8040435458786936\n",
      "estimators:  58 ; max depth:  10 ;  accuracy =  0.7962674961119751\n",
      "estimators:  58 ; max depth:  12 ;  accuracy =  0.7931570762052877\n",
      "estimators:  58 ; max depth:  14 ;  accuracy =  0.7931570762052877\n",
      "estimators:  58 ; max depth:  16 ;  accuracy =  0.7869362363919129\n",
      "estimators:  58 ; max depth:  18 ;  accuracy =  0.7884914463452566\n",
      "estimators:  58 ; max depth:  20 ;  accuracy =  0.7822706065318819\n",
      "estimators:  58 ; max depth:  22 ;  accuracy =  0.7916018662519441\n",
      "estimators:  58 ; max depth:  24 ;  accuracy =  0.7869362363919129\n",
      "estimators:  58 ; max depth:  26 ;  accuracy =  0.7838258164852255\n",
      "estimators:  58 ; max depth:  28 ;  accuracy =  0.7838258164852255\n",
      "estimators:  58 ; max depth:  30 ;  accuracy =  0.7838258164852255\n",
      "estimators:  58 ; max depth:  32 ;  accuracy =  0.7838258164852255\n",
      "estimators:  58 ; max depth:  34 ;  accuracy =  0.7838258164852255\n",
      "estimators:  58 ; max depth:  36 ;  accuracy =  0.7838258164852255\n",
      "estimators:  58 ; max depth:  38 ;  accuracy =  0.7838258164852255\n",
      "estimators:  60 ; max depth:  2 ;  accuracy =  0.7853810264385692\n",
      "estimators:  60 ; max depth:  4 ;  accuracy =  0.7869362363919129\n",
      "estimators:  60 ; max depth:  6 ;  accuracy =  0.7962674961119751\n",
      "estimators:  60 ; max depth:  8 ;  accuracy =  0.80248833592535\n",
      "estimators:  60 ; max depth:  10 ;  accuracy =  0.7978227060653188\n",
      "estimators:  60 ; max depth:  12 ;  accuracy =  0.7947122861586314\n",
      "estimators:  60 ; max depth:  14 ;  accuracy =  0.7900466562986003\n",
      "estimators:  60 ; max depth:  16 ;  accuracy =  0.7853810264385692\n",
      "estimators:  60 ; max depth:  18 ;  accuracy =  0.7822706065318819\n",
      "estimators:  60 ; max depth:  20 ;  accuracy =  0.7822706065318819\n",
      "estimators:  60 ; max depth:  22 ;  accuracy =  0.7900466562986003\n",
      "estimators:  60 ; max depth:  24 ;  accuracy =  0.7853810264385692\n",
      "estimators:  60 ; max depth:  26 ;  accuracy =  0.7853810264385692\n",
      "estimators:  60 ; max depth:  28 ;  accuracy =  0.7853810264385692\n",
      "estimators:  60 ; max depth:  30 ;  accuracy =  0.7853810264385692\n",
      "estimators:  60 ; max depth:  32 ;  accuracy =  0.7853810264385692\n",
      "estimators:  60 ; max depth:  34 ;  accuracy =  0.7853810264385692\n",
      "estimators:  60 ; max depth:  36 ;  accuracy =  0.7853810264385692\n",
      "estimators:  60 ; max depth:  38 ;  accuracy =  0.7853810264385692\n",
      "estimators:  62 ; max depth:  2 ;  accuracy =  0.7853810264385692\n",
      "estimators:  62 ; max depth:  4 ;  accuracy =  0.7869362363919129\n",
      "estimators:  62 ; max depth:  6 ;  accuracy =  0.7962674961119751\n",
      "estimators:  62 ; max depth:  8 ;  accuracy =  0.7993779160186625\n",
      "estimators:  62 ; max depth:  10 ;  accuracy =  0.7962674961119751\n",
      "estimators:  62 ; max depth:  12 ;  accuracy =  0.7931570762052877\n",
      "estimators:  62 ; max depth:  14 ;  accuracy =  0.7900466562986003\n",
      "estimators:  62 ; max depth:  16 ;  accuracy =  0.7853810264385692\n",
      "estimators:  62 ; max depth:  18 ;  accuracy =  0.7838258164852255\n",
      "estimators:  62 ; max depth:  20 ;  accuracy =  0.7853810264385692\n",
      "estimators:  62 ; max depth:  22 ;  accuracy =  0.7869362363919129\n",
      "estimators:  62 ; max depth:  24 ;  accuracy =  0.7807153965785381\n",
      "estimators:  62 ; max depth:  26 ;  accuracy =  0.7838258164852255\n",
      "estimators:  62 ; max depth:  28 ;  accuracy =  0.7838258164852255\n",
      "estimators:  62 ; max depth:  30 ;  accuracy =  0.7838258164852255\n",
      "estimators:  62 ; max depth:  32 ;  accuracy =  0.7838258164852255\n",
      "estimators:  62 ; max depth:  34 ;  accuracy =  0.7838258164852255\n",
      "estimators:  62 ; max depth:  36 ;  accuracy =  0.7838258164852255\n",
      "estimators:  62 ; max depth:  38 ;  accuracy =  0.7838258164852255\n",
      "estimators:  64 ; max depth:  2 ;  accuracy =  0.7853810264385692\n",
      "estimators:  64 ; max depth:  4 ;  accuracy =  0.7869362363919129\n",
      "estimators:  64 ; max depth:  6 ;  accuracy =  0.7962674961119751\n",
      "estimators:  64 ; max depth:  8 ;  accuracy =  0.8009331259720062\n",
      "estimators:  64 ; max depth:  10 ;  accuracy =  0.7978227060653188\n",
      "estimators:  64 ; max depth:  12 ;  accuracy =  0.7962674961119751\n",
      "estimators:  64 ; max depth:  14 ;  accuracy =  0.7884914463452566\n",
      "estimators:  64 ; max depth:  16 ;  accuracy =  0.7853810264385692\n",
      "estimators:  64 ; max depth:  18 ;  accuracy =  0.7869362363919129\n",
      "estimators:  64 ; max depth:  20 ;  accuracy =  0.7822706065318819\n",
      "estimators:  64 ; max depth:  22 ;  accuracy =  0.7822706065318819\n",
      "estimators:  64 ; max depth:  24 ;  accuracy =  0.7776049766718507\n",
      "estimators:  64 ; max depth:  26 ;  accuracy =  0.7807153965785381\n",
      "estimators:  64 ; max depth:  28 ;  accuracy =  0.7807153965785381\n",
      "estimators:  64 ; max depth:  30 ;  accuracy =  0.7807153965785381\n",
      "estimators:  64 ; max depth:  32 ;  accuracy =  0.7807153965785381\n",
      "estimators:  64 ; max depth:  34 ;  accuracy =  0.7807153965785381\n",
      "estimators:  64 ; max depth:  36 ;  accuracy =  0.7807153965785381\n",
      "estimators:  64 ; max depth:  38 ;  accuracy =  0.7807153965785381\n",
      "estimators:  66 ; max depth:  2 ;  accuracy =  0.7869362363919129\n",
      "estimators:  66 ; max depth:  4 ;  accuracy =  0.7869362363919129\n",
      "estimators:  66 ; max depth:  6 ;  accuracy =  0.7978227060653188\n",
      "estimators:  66 ; max depth:  8 ;  accuracy =  0.80248833592535\n",
      "estimators:  66 ; max depth:  10 ;  accuracy =  0.7947122861586314\n",
      "estimators:  66 ; max depth:  12 ;  accuracy =  0.7962674961119751\n",
      "estimators:  66 ; max depth:  14 ;  accuracy =  0.7838258164852255\n",
      "estimators:  66 ; max depth:  16 ;  accuracy =  0.7853810264385692\n",
      "estimators:  66 ; max depth:  18 ;  accuracy =  0.7853810264385692\n",
      "estimators:  66 ; max depth:  20 ;  accuracy =  0.7822706065318819\n",
      "estimators:  66 ; max depth:  22 ;  accuracy =  0.7822706065318819\n",
      "estimators:  66 ; max depth:  24 ;  accuracy =  0.7791601866251944\n",
      "estimators:  66 ; max depth:  26 ;  accuracy =  0.7838258164852255\n",
      "estimators:  66 ; max depth:  28 ;  accuracy =  0.7822706065318819\n",
      "estimators:  66 ; max depth:  30 ;  accuracy =  0.7822706065318819\n",
      "estimators:  66 ; max depth:  32 ;  accuracy =  0.7822706065318819\n",
      "estimators:  66 ; max depth:  34 ;  accuracy =  0.7822706065318819\n",
      "estimators:  66 ; max depth:  36 ;  accuracy =  0.7822706065318819\n",
      "estimators:  66 ; max depth:  38 ;  accuracy =  0.7822706065318819\n",
      "estimators:  68 ; max depth:  2 ;  accuracy =  0.7853810264385692\n",
      "estimators:  68 ; max depth:  4 ;  accuracy =  0.7869362363919129\n",
      "estimators:  68 ; max depth:  6 ;  accuracy =  0.7962674961119751\n",
      "estimators:  68 ; max depth:  8 ;  accuracy =  0.7978227060653188\n",
      "estimators:  68 ; max depth:  10 ;  accuracy =  0.7931570762052877\n",
      "estimators:  68 ; max depth:  12 ;  accuracy =  0.7947122861586314\n",
      "estimators:  68 ; max depth:  14 ;  accuracy =  0.7853810264385692\n",
      "estimators:  68 ; max depth:  16 ;  accuracy =  0.7838258164852255\n",
      "estimators:  68 ; max depth:  18 ;  accuracy =  0.7853810264385692\n",
      "estimators:  68 ; max depth:  20 ;  accuracy =  0.7776049766718507\n",
      "estimators:  68 ; max depth:  22 ;  accuracy =  0.7838258164852255\n",
      "estimators:  68 ; max depth:  24 ;  accuracy =  0.7807153965785381\n",
      "estimators:  68 ; max depth:  26 ;  accuracy =  0.7822706065318819\n",
      "estimators:  68 ; max depth:  28 ;  accuracy =  0.7807153965785381\n",
      "estimators:  68 ; max depth:  30 ;  accuracy =  0.7807153965785381\n",
      "estimators:  68 ; max depth:  32 ;  accuracy =  0.7807153965785381\n",
      "estimators:  68 ; max depth:  34 ;  accuracy =  0.7807153965785381\n",
      "estimators:  68 ; max depth:  36 ;  accuracy =  0.7807153965785381\n",
      "estimators:  68 ; max depth:  38 ;  accuracy =  0.7807153965785381\n"
     ]
    }
   ],
   "source": [
    "f_models = []\n",
    "for i in range(2, 70, 2):\n",
    "    for j in range(2,40,2):\n",
    "        model_random_forest = RandomForestClassifier(n_estimators = i, random_state=12345, max_depth = j)\n",
    "        model_random_forest.fit(train_features, train_target)\n",
    "        prediction =  model_random_forest.predict(valid_features)\n",
    "        accuracy = accuracy_score(valid_target, prediction)\n",
    "        f_models.append({\n",
    "            'estimators' : i,\n",
    "            'max_depth': j,\n",
    "            'accuracy': accuracy,\n",
    "            'model': model_random_forest\n",
    "        })\n",
    "        print(\"estimators: \", i, \"; max depth: \",j ,'; ', 'accuracy = ', accuracy)"
   ]
  },
  {
   "cell_type": "code",
   "execution_count": 31,
   "metadata": {},
   "outputs": [],
   "source": [
    "best_forest = max(f_models, key = lambda x: x['accuracy'])"
   ]
  },
  {
   "cell_type": "code",
   "execution_count": 33,
   "metadata": {},
   "outputs": [
    {
     "data": {
      "text/plain": [
       "{'estimators': 40,\n",
       " 'max_depth': 8,\n",
       " 'accuracy': 0.8087091757387247,\n",
       " 'model': RandomForestClassifier(bootstrap=True, class_weight=None, criterion='gini',\n",
       "                        max_depth=8, max_features='auto', max_leaf_nodes=None,\n",
       "                        min_impurity_decrease=0.0, min_impurity_split=None,\n",
       "                        min_samples_leaf=1, min_samples_split=2,\n",
       "                        min_weight_fraction_leaf=0.0, n_estimators=40,\n",
       "                        n_jobs=None, oob_score=False, random_state=12345,\n",
       "                        verbose=0, warm_start=False)}"
      ]
     },
     "execution_count": 33,
     "metadata": {},
     "output_type": "execute_result"
    }
   ],
   "source": [
    "best_forest"
   ]
  },
  {
   "cell_type": "code",
   "execution_count": 34,
   "metadata": {},
   "outputs": [],
   "source": [
    "# лучший рзультат - лес максимальной глубиной 8. Точнось - 80,87 % "
   ]
  },
  {
   "cell_type": "code",
   "execution_count": 50,
   "metadata": {},
   "outputs": [],
   "source": [
    "best_forest_model = best_forest['model'] #лучшая  модель"
   ]
  },
  {
   "cell_type": "code",
   "execution_count": 51,
   "metadata": {},
   "outputs": [],
   "source": [
    "# замерим точность на тестовой выборке\n",
    "train_predictions = best_forest_model.predict(train_features)\n",
    "train_forest_accuracy = accuracy_score(train_target, train_predictions)"
   ]
  },
  {
   "cell_type": "code",
   "execution_count": 52,
   "metadata": {},
   "outputs": [
    {
     "data": {
      "text/plain": [
       "0.875"
      ]
     },
     "execution_count": 52,
     "metadata": {},
     "output_type": "execute_result"
    }
   ],
   "source": [
    "train_forest_accuracy"
   ]
  },
  {
   "cell_type": "code",
   "execution_count": 35,
   "metadata": {},
   "outputs": [],
   "source": [
    "# Все понятно, спасибо большое, что объяснил "
   ]
  },
  {
   "cell_type": "markdown",
   "metadata": {},
   "source": [
    "### Вывод"
   ]
  },
  {
   "cell_type": "markdown",
   "metadata": {},
   "source": [
    "Я обучил и протестировал на валидационной выборке различне вариации моделей ( найденных с помощью алгоритмов: решающее дерево, случайный лес и логистическая регрессия). Результат метрики точности модели, полученной с помощью  случайного леса оказался самым высоким. Чтоб получить наилучшую в плане точности модель я создал таблицу случайных лесов с различным количеством estimators и разной глубиной деревьев. Сравнив модели лесов в таблице, я получил модель, у которой точность максимальна. Эту модель я назвал 'best_forest_model', точность валидационной выборке - 0.8087.       \n",
    "    "
   ]
  },
  {
   "cell_type": "markdown",
   "metadata": {},
   "source": [
    "## 4. Проверьте модель на тестовой выборке"
   ]
  },
  {
   "cell_type": "code",
   "execution_count": 37,
   "metadata": {},
   "outputs": [],
   "source": [
    "test_features = df_test.drop(['is_ultra'], axis = 1)\n",
    "test_target = df_test['is_ultra']"
   ]
  },
  {
   "cell_type": "markdown",
   "metadata": {},
   "source": [
    "Проверим на тестовой выборке лучшую модель"
   ]
  },
  {
   "cell_type": "markdown",
   "metadata": {},
   "source": [
    "##### ЛЕС"
   ]
  },
  {
   "cell_type": "code",
   "execution_count": 38,
   "metadata": {},
   "outputs": [
    {
     "data": {
      "text/plain": [
       "{'estimators': 40,\n",
       " 'max_depth': 8,\n",
       " 'accuracy': 0.8087091757387247,\n",
       " 'model': RandomForestClassifier(bootstrap=True, class_weight=None, criterion='gini',\n",
       "                        max_depth=8, max_features='auto', max_leaf_nodes=None,\n",
       "                        min_impurity_decrease=0.0, min_impurity_split=None,\n",
       "                        min_samples_leaf=1, min_samples_split=2,\n",
       "                        min_weight_fraction_leaf=0.0, n_estimators=40,\n",
       "                        n_jobs=None, oob_score=False, random_state=12345,\n",
       "                        verbose=0, warm_start=False)}"
      ]
     },
     "execution_count": 38,
     "metadata": {},
     "output_type": "execute_result"
    }
   ],
   "source": [
    "best_forest"
   ]
  },
  {
   "cell_type": "code",
   "execution_count": 39,
   "metadata": {},
   "outputs": [],
   "source": [
    "prediction_forest_test = best_forest_model.predict(test_features)\n",
    "accuracy_forest_test = accuracy_score(test_target, prediction_forest_test)"
   ]
  },
  {
   "cell_type": "code",
   "execution_count": 40,
   "metadata": {},
   "outputs": [
    {
     "data": {
      "text/plain": [
       "0.7962674961119751"
      ]
     },
     "execution_count": 40,
     "metadata": {},
     "output_type": "execute_result"
    }
   ],
   "source": [
    "accuracy_forest_test"
   ]
  },
  {
   "cell_type": "markdown",
   "metadata": {},
   "source": [
    "Модель best_forest_model показала наилучший результат точности почти в 0,80"
   ]
  },
  {
   "cell_type": "markdown",
   "metadata": {},
   "source": [
    "##### ДEРЕВО"
   ]
  },
  {
   "cell_type": "code",
   "execution_count": 41,
   "metadata": {},
   "outputs": [
    {
     "data": {
      "text/plain": [
       "{'depth': 3,\n",
       " 'accuracy': 0.7853810264385692,\n",
       " 'model': DecisionTreeClassifier(class_weight=None, criterion='gini', max_depth=3,\n",
       "                        max_features=None, max_leaf_nodes=None,\n",
       "                        min_impurity_decrease=0.0, min_impurity_split=None,\n",
       "                        min_samples_leaf=1, min_samples_split=2,\n",
       "                        min_weight_fraction_leaf=0.0, presort=False,\n",
       "                        random_state=12345, splitter='best')}"
      ]
     },
     "execution_count": 41,
     "metadata": {},
     "output_type": "execute_result"
    }
   ],
   "source": [
    "best_tree"
   ]
  },
  {
   "cell_type": "code",
   "execution_count": 42,
   "metadata": {},
   "outputs": [],
   "source": [
    "prediction_tree_test = best_tree_model.predict(test_features)\n",
    "accuracy_tree_test = accuracy_score(test_target, prediction_tree_test)"
   ]
  },
  {
   "cell_type": "code",
   "execution_count": 43,
   "metadata": {},
   "outputs": [
    {
     "data": {
      "text/plain": [
       "0.7791601866251944"
      ]
     },
     "execution_count": 43,
     "metadata": {},
     "output_type": "execute_result"
    }
   ],
   "source": [
    "accuracy_tree_test"
   ]
  },
  {
   "cell_type": "markdown",
   "metadata": {},
   "source": [
    "Точность модели постороенной с помощию решающего дерева не оказалась выше точности модели, построенной лучшим лесом"
   ]
  },
  {
   "cell_type": "markdown",
   "metadata": {},
   "source": [
    "##### ЛОГИСТИЧЕСКАЯ РЕГРЕССИЯ"
   ]
  },
  {
   "cell_type": "code",
   "execution_count": 48,
   "metadata": {},
   "outputs": [],
   "source": [
    "prediction_regression = model_logistic_regression.predict(test_features)\n",
    "accuracy_regression_test = accuracy_score(test_target, prediction_regression)"
   ]
  },
  {
   "cell_type": "code",
   "execution_count": 49,
   "metadata": {},
   "outputs": [
    {
     "data": {
      "text/plain": [
       "0.7402799377916018"
      ]
     },
     "execution_count": 49,
     "metadata": {},
     "output_type": "execute_result"
    }
   ],
   "source": [
    "accuracy_regression_test"
   ]
  },
  {
   "cell_type": "markdown",
   "metadata": {},
   "source": [
    "Регрессия показала худший результат"
   ]
  },
  {
   "cell_type": "markdown",
   "metadata": {},
   "source": [
    "### Вывод"
   ]
  },
  {
   "cell_type": "markdown",
   "metadata": {},
   "source": [
    "На тестовой выборке модель best_forest_model, построенная лучшим лесом оказалось самой точной. Ее точность составила 0,80"
   ]
  },
  {
   "cell_type": "markdown",
   "metadata": {},
   "source": [
    "### Выводы по переобучению"
   ]
  },
  {
   "cell_type": "markdown",
   "metadata": {},
   "source": [
    "1. Для дерева:  \n",
    "    точность на тренировочной выборке - 0.8075726141078838  \n",
    "    точность на тествой выборке - 0.7791601866251944  \n",
    "    Вывод -  модель незначительно переобучена   \n",
    "       \n",
    "2. Для леса:   \n",
    "    точность на тренировочной выборке - 0.875  \n",
    "    точность на тествой выборке - 0.7962674961119751    \n",
    "    Вывод - модель переобучена   \n",
    "       \n",
    "3. Для регрессии:    \n",
    "    точность на тренировочной выборке - 0.7505186721991701  \n",
    "    точность на тествой выборке - 0.7402799377916018  \n",
    "    Вывод - модель обучена оптимально   \n",
    "    \n",
    "Хоть модель, созданная c помощью случайного леса и переобучена, на тестовой выборке она дает наилучшую точность. "
   ]
  },
  {
   "cell_type": "markdown",
   "metadata": {},
   "source": [
    "## 5. (бонус) Проверьте модели на адекватность"
   ]
  },
  {
   "cell_type": "markdown",
   "metadata": {},
   "source": [
    "Здесь я сравню результаты точности случайной и константоной моделей, построенных на тех же гиперпараметрах, которые имеет best_forest_model c точностью самой best_forest_model"
   ]
  },
  {
   "cell_type": "code",
   "execution_count": 53,
   "metadata": {},
   "outputs": [],
   "source": [
    "import random"
   ]
  },
  {
   "cell_type": "code",
   "execution_count": 54,
   "metadata": {},
   "outputs": [],
   "source": [
    "#добавим в исходный датафрейм столбец и со случайными классами, не зависящими от признаков"
   ]
  },
  {
   "cell_type": "code",
   "execution_count": 55,
   "metadata": {
    "scrolled": true
   },
   "outputs": [
    {
     "data": {
      "text/html": [
       "<div>\n",
       "<style scoped>\n",
       "    .dataframe tbody tr th:only-of-type {\n",
       "        vertical-align: middle;\n",
       "    }\n",
       "\n",
       "    .dataframe tbody tr th {\n",
       "        vertical-align: top;\n",
       "    }\n",
       "\n",
       "    .dataframe thead th {\n",
       "        text-align: right;\n",
       "    }\n",
       "</style>\n",
       "<table border=\"1\" class=\"dataframe\">\n",
       "  <thead>\n",
       "    <tr style=\"text-align: right;\">\n",
       "      <th></th>\n",
       "      <th>calls</th>\n",
       "      <th>minutes</th>\n",
       "      <th>messages</th>\n",
       "      <th>mb_used</th>\n",
       "      <th>is_ultra</th>\n",
       "    </tr>\n",
       "  </thead>\n",
       "  <tbody>\n",
       "    <tr>\n",
       "      <td>0</td>\n",
       "      <td>40.0</td>\n",
       "      <td>311.90</td>\n",
       "      <td>83.0</td>\n",
       "      <td>19915.42</td>\n",
       "      <td>0</td>\n",
       "    </tr>\n",
       "    <tr>\n",
       "      <td>1</td>\n",
       "      <td>85.0</td>\n",
       "      <td>516.75</td>\n",
       "      <td>56.0</td>\n",
       "      <td>22696.96</td>\n",
       "      <td>0</td>\n",
       "    </tr>\n",
       "    <tr>\n",
       "      <td>2</td>\n",
       "      <td>77.0</td>\n",
       "      <td>467.66</td>\n",
       "      <td>86.0</td>\n",
       "      <td>21060.45</td>\n",
       "      <td>0</td>\n",
       "    </tr>\n",
       "    <tr>\n",
       "      <td>3</td>\n",
       "      <td>106.0</td>\n",
       "      <td>745.53</td>\n",
       "      <td>81.0</td>\n",
       "      <td>8437.39</td>\n",
       "      <td>1</td>\n",
       "    </tr>\n",
       "    <tr>\n",
       "      <td>4</td>\n",
       "      <td>66.0</td>\n",
       "      <td>418.74</td>\n",
       "      <td>1.0</td>\n",
       "      <td>14502.75</td>\n",
       "      <td>0</td>\n",
       "    </tr>\n",
       "  </tbody>\n",
       "</table>\n",
       "</div>"
      ],
      "text/plain": [
       "   calls  minutes  messages   mb_used  is_ultra\n",
       "0   40.0   311.90      83.0  19915.42         0\n",
       "1   85.0   516.75      56.0  22696.96         0\n",
       "2   77.0   467.66      86.0  21060.45         0\n",
       "3  106.0   745.53      81.0   8437.39         1\n",
       "4   66.0   418.74       1.0  14502.75         0"
      ]
     },
     "execution_count": 55,
     "metadata": {},
     "output_type": "execute_result"
    }
   ],
   "source": [
    "df.head()"
   ]
  },
  {
   "cell_type": "code",
   "execution_count": 56,
   "metadata": {},
   "outputs": [],
   "source": [
    "#сравним классы для is_ultra(df_train)  на сбалансированность\n",
    "pivot_is_ultra = df_train.pivot_table(index = 'is_ultra', values = 'calls', aggfunc = 'count' )"
   ]
  },
  {
   "cell_type": "code",
   "execution_count": 57,
   "metadata": {},
   "outputs": [
    {
     "data": {
      "text/html": [
       "<div>\n",
       "<style scoped>\n",
       "    .dataframe tbody tr th:only-of-type {\n",
       "        vertical-align: middle;\n",
       "    }\n",
       "\n",
       "    .dataframe tbody tr th {\n",
       "        vertical-align: top;\n",
       "    }\n",
       "\n",
       "    .dataframe thead th {\n",
       "        text-align: right;\n",
       "    }\n",
       "</style>\n",
       "<table border=\"1\" class=\"dataframe\">\n",
       "  <thead>\n",
       "    <tr style=\"text-align: right;\">\n",
       "      <th></th>\n",
       "      <th>calls</th>\n",
       "    </tr>\n",
       "    <tr>\n",
       "      <th>is_ultra</th>\n",
       "      <th></th>\n",
       "    </tr>\n",
       "  </thead>\n",
       "  <tbody>\n",
       "    <tr>\n",
       "      <td>0</td>\n",
       "      <td>1335</td>\n",
       "    </tr>\n",
       "    <tr>\n",
       "      <td>1</td>\n",
       "      <td>593</td>\n",
       "    </tr>\n",
       "  </tbody>\n",
       "</table>\n",
       "</div>"
      ],
      "text/plain": [
       "          calls\n",
       "is_ultra       \n",
       "0          1335\n",
       "1           593"
      ]
     },
     "execution_count": 57,
     "metadata": {},
     "output_type": "execute_result"
    }
   ],
   "source": [
    "pivot_is_ultra"
   ]
  },
  {
   "cell_type": "code",
   "execution_count": 58,
   "metadata": {},
   "outputs": [
    {
     "data": {
      "text/plain": [
       "0.6924273858921162"
      ]
     },
     "execution_count": 58,
     "metadata": {},
     "output_type": "execute_result"
    }
   ],
   "source": [
    "pivot_is_ultra.loc[0, 'calls'] / (pivot_is_ultra.loc[0, 'calls'] + pivot_is_ultra.loc[1, 'calls']) #найдем долю класса 0"
   ]
  },
  {
   "cell_type": "markdown",
   "metadata": {},
   "source": [
    "соответсвенно 0,69 и 0,31 для is_ultra. Насколько я понял из треда, нужно  случайную модель \n",
    "обучить на целевом признаке расставленном ранодомно (is_ultra_random), но с таким же соотношением классов, как и в изначальном целевом признаке (is_ultra)"
   ]
  },
  {
   "cell_type": "code",
   "execution_count": 59,
   "metadata": {},
   "outputs": [],
   "source": [
    "right_proportion = []\n",
    "\n",
    "for i in range(0, 1335): #на 1 бошльше конца посл числа\n",
    "    right_proportion.append(0)\n",
    "for i in range (0, 593):\n",
    "    right_proportion.append(1)\n",
    "    "
   ]
  },
  {
   "cell_type": "code",
   "execution_count": null,
   "metadata": {},
   "outputs": [],
   "source": [
    "random.shuffle(right_proportion) #рандомно перемешаем будущий целефой признак"
   ]
  },
  {
   "cell_type": "code",
   "execution_count": null,
   "metadata": {},
   "outputs": [],
   "source": [
    "len(right_proportion)"
   ]
  },
  {
   "cell_type": "code",
   "execution_count": null,
   "metadata": {},
   "outputs": [],
   "source": [
    "df_train['is_ultra_random'] = right_proportion"
   ]
  },
  {
   "cell_type": "code",
   "execution_count": null,
   "metadata": {
    "scrolled": true
   },
   "outputs": [],
   "source": [
    "df_train"
   ]
  },
  {
   "cell_type": "code",
   "execution_count": null,
   "metadata": {},
   "outputs": [],
   "source": [
    "pivot_random_is_ultra = df_train.pivot_table(index = 'is_ultra_random', values = 'calls', aggfunc = 'count' )"
   ]
  },
  {
   "cell_type": "code",
   "execution_count": null,
   "metadata": {
    "scrolled": false
   },
   "outputs": [],
   "source": [
    "pivot_random_is_ultra # как виддно, теперь пропорции такие же "
   ]
  },
  {
   "cell_type": "code",
   "execution_count": null,
   "metadata": {},
   "outputs": [],
   "source": [
    "#обучим случайную модель\n",
    "random_train_features = df_train.drop(['is_ultra_random', 'is_ultra'], axis = 1)\n",
    "random_train_target = df_train['is_ultra_random']\n",
    "random_model = RandomForestClassifier(n_estimators = 40, random_state=12345, max_depth = 8)\n",
    "random_model.fit(random_train_features, random_train_target)\n",
    "# проверим точность случайной модели на тестовой выборке\n",
    "random_prediction =  random_model.predict(test_features)\n",
    "random_accuracy = accuracy_score(test_target, random_prediction)"
   ]
  },
  {
   "cell_type": "code",
   "execution_count": null,
   "metadata": {},
   "outputs": [],
   "source": [
    "random_accuracy"
   ]
  },
  {
   "cell_type": "code",
   "execution_count": null,
   "metadata": {},
   "outputs": [],
   "source": [
    "train_target.mean()"
   ]
  },
  {
   "cell_type": "code",
   "execution_count": null,
   "metadata": {},
   "outputs": [],
   "source": [
    "constant_predictions = pd.Series(1, index = test_target.index) #взял индекс \n",
    "# от test_target, чтобы не возникло ошибки в constant_accuracy"
   ]
  },
  {
   "cell_type": "code",
   "execution_count": null,
   "metadata": {},
   "outputs": [],
   "source": [
    "#посчитаем точность константной модели\n",
    "constant_accuracy = accuracy_score(test_target, constant_predictions)"
   ]
  },
  {
   "cell_type": "code",
   "execution_count": null,
   "metadata": {},
   "outputs": [],
   "source": [
    "constant_accuracy"
   ]
  },
  {
   "cell_type": "markdown",
   "metadata": {},
   "source": [
    "### Вывод \n",
    "Результат точности на тестовой выборке исследуемой модели (best_forest_model) оказались выше результата точности случайной модели, который зависел от баланса классов 31% к 69%, следовательно, раз точность исследуемой модели првосходдит точность случайной примерно на 10%, то исследуемая модель адекватна. Константная выборка (если провести инверсию) оказалась сравнима со случайной, что говорит о том, что классы сбалансированы\n",
    "\n",
    "P.S. Если что-то не так сказал, поправь меня пожалуйста :)"
   ]
  },
  {
   "cell_type": "markdown",
   "metadata": {},
   "source": [
    "### Общий вывод"
   ]
  },
  {
   "cell_type": "markdown",
   "metadata": {},
   "source": [
    "best_forest_model - наилучшая модель. Её точность составила почти 80%"
   ]
  }
 ],
 "metadata": {
  "kernelspec": {
   "display_name": "Python 3",
   "language": "python",
   "name": "python3"
  },
  "language_info": {
   "codemirror_mode": {
    "name": "ipython",
    "version": 3
   },
   "file_extension": ".py",
   "mimetype": "text/x-python",
   "name": "python",
   "nbconvert_exporter": "python",
   "pygments_lexer": "ipython3",
   "version": "3.7.4"
  }
 },
 "nbformat": 4,
 "nbformat_minor": 2
}
